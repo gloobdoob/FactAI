{
 "cells": [
  {
   "cell_type": "code",
   "execution_count": 5,
   "metadata": {},
   "outputs": [
    {
     "name": "stdout",
     "output_type": "stream",
     "text": [
      "Found 706 images belonging to 2 classes.\n",
      "Found 176 images belonging to 2 classes.\n"
     ]
    }
   ],
   "source": [
    "from keras.preprocessing.image import ImageDataGenerator\n",
    "\n",
    "train_dir = 'news images/train_set'\n",
    "validation_dir = 'news images/test_set'\n",
    "BATCH_SIZE = 32\n",
    "IMG_SIZE = 250\n",
    "train_datagen = ImageDataGenerator(rescale=1./255, rotation_range=30, width_shift_range=0.2, height_shift_range=0.2, shear_range=0.2, zoom_range=0.2, horizontal_flip=True,)\n",
    "test_datagen = ImageDataGenerator(rescale=1./255)\n",
    "train_generator = train_datagen.flow_from_directory(train_dir, target_size=(IMG_SIZE, IMG_SIZE), batch_size=BATCH_SIZE, class_mode='binary')\n",
    "validation_generator = test_datagen.flow_from_directory(validation_dir, target_size=(IMG_SIZE, IMG_SIZE), batch_size=BATCH_SIZE, class_mode='binary')\n",
    "from keras import layers\n",
    "from keras import models\n",
    "from tensorflow import keras\n",
    "from keras import optimizers\n",
    " \n",
    "keras.backend.clear_session()"
   ]
  },
  {
   "cell_type": "code",
   "execution_count": 6,
   "metadata": {},
   "outputs": [],
   "source": [
    "total_train = train_generator.n\n",
    "total_test = validation_generator.n"
   ]
  },
  {
   "cell_type": "code",
   "execution_count": 1,
   "metadata": {},
   "outputs": [],
   "source": []
  },
  {
   "cell_type": "code",
   "execution_count": 2,
   "metadata": {},
   "outputs": [],
   "source": [
    "import os\n",
    "import cv2\n",
    "\n",
    "DIRECTORY = \"Fake-News-Image-Detector-1\"\n",
    "CATEGORIES = [\"fake\", \"real\"]\n",
    "IMG_SIZE = 250\n",
    "sets = ['train', 'test', 'valid']\n",
    "train_set = []\n",
    "test_set = []\n",
    "valid_set = []\n",
    "\n",
    "for category in CATEGORIES:\n",
    "    for set in sets:\n",
    "        datasets = os.path.join(DIRECTORY, set, category)\n",
    "        label = CATEGORIES.index(category)\n",
    "        for img in os.listdir(datasets):\n",
    "            img_path = os.path.join(datasets, img)\n",
    "            img_arr = cv2.imread(img_path)\n",
    "            #img_arr = cv2.cvtColor(img_arr, cv2.COLOR_BGR2RGB)\n",
    "            img_arr = cv2.resize(img_arr,(IMG_SIZE, IMG_SIZE))\n",
    "            if set == 'train':\n",
    "                train_set.append([img_arr, label])\n",
    "            if set == 'test':\n",
    "                test_set.append([img_arr, label])\n",
    "            if set == 'valid':\n",
    "                valid_set.append([img_arr, label])\n",
    "import numpy as np\n",
    "X_train = np.array([arr[0] for arr in train_set])/255\n",
    "y_train = np.array([arr[1] for arr in train_set])\n",
    "\n",
    "X_test = np.array([arr[0] for arr in test_set])/255\n",
    "y_test = np.array([arr[1] for arr in test_set])\n",
    "\n",
    "X_valid = np.array([arr[0] for arr in valid_set])/255\n",
    "y_valid = np.array([arr[1] for arr in valid_set])"
   ]
  },
  {
   "cell_type": "code",
   "execution_count": 3,
   "metadata": {},
   "outputs": [
    {
     "data": {
      "text/plain": [
       "(2691, 250, 250, 3)"
      ]
     },
     "execution_count": 3,
     "metadata": {},
     "output_type": "execute_result"
    }
   ],
   "source": [
    "X_train.shape"
   ]
  },
  {
   "cell_type": "code",
   "execution_count": 4,
   "metadata": {},
   "outputs": [],
   "source": [
    "import tensorflow as tf\n",
    "\n",
    "pre_trained_model = tf.keras.applications.VGG16(input_shape=(IMG_SIZE, IMG_SIZE, 3), include_top=False, weights=\"imagenet\")"
   ]
  },
  {
   "cell_type": "code",
   "execution_count": 5,
   "metadata": {},
   "outputs": [
    {
     "name": "stdout",
     "output_type": "stream",
     "text": [
      "input_1\n",
      "block1_conv1\n",
      "block1_conv2\n",
      "block1_pool\n",
      "block2_conv1\n",
      "block2_conv2\n",
      "block2_pool\n",
      "block3_conv1\n",
      "block3_conv2\n",
      "block3_conv3\n",
      "block3_pool\n",
      "block4_conv1\n",
      "block4_conv2\n",
      "block4_conv3\n",
      "block4_pool\n",
      "block5_conv1\n",
      "block5_conv2\n",
      "block5_conv3\n",
      "block5_pool\n"
     ]
    }
   ],
   "source": [
    "for layer in pre_trained_model.layers:\n",
    "    print(layer.name)\n",
    "    layer.trainable = False"
   ]
  },
  {
   "cell_type": "code",
   "execution_count": 6,
   "metadata": {},
   "outputs": [],
   "source": [
    "from keras import regularizers   \n",
    "last_layer = pre_trained_model.get_layer('block5_pool')\n",
    "last_output = last_layer.output\n",
    "x = tf.keras.layers.GlobalMaxPooling2D()(last_output)\n",
    "x = tf.keras.layers.Dropout(0.3)(x)\n",
    "x = tf.keras.layers.Dense(128, activation='relu')(x)\n",
    "x = tf.keras.layers.Dense(1, activation='sigmoid')(x)\n",
    "\n"
   ]
  },
  {
   "cell_type": "code",
   "execution_count": 7,
   "metadata": {},
   "outputs": [],
   "source": [
    "model = tf.keras.Model(pre_trained_model.input, x)\n",
    "opt = tf.keras.optimizers.Adam(learning_rate=0.001)\n",
    "model.compile(optimizer=opt, loss='binary_crossentropy', metrics=['acc'])\n"
   ]
  },
  {
   "cell_type": "code",
   "execution_count": 8,
   "metadata": {},
   "outputs": [
    {
     "name": "stdout",
     "output_type": "stream",
     "text": [
      "Model: \"model\"\n",
      "_________________________________________________________________\n",
      " Layer (type)                Output Shape              Param #   \n",
      "=================================================================\n",
      " input_1 (InputLayer)        [(None, 250, 250, 3)]     0         \n",
      "                                                                 \n",
      " block1_conv1 (Conv2D)       (None, 250, 250, 64)      1792      \n",
      "                                                                 \n",
      " block1_conv2 (Conv2D)       (None, 250, 250, 64)      36928     \n",
      "                                                                 \n",
      " block1_pool (MaxPooling2D)  (None, 125, 125, 64)      0         \n",
      "                                                                 \n",
      " block2_conv1 (Conv2D)       (None, 125, 125, 128)     73856     \n",
      "                                                                 \n",
      " block2_conv2 (Conv2D)       (None, 125, 125, 128)     147584    \n",
      "                                                                 \n",
      " block2_pool (MaxPooling2D)  (None, 62, 62, 128)       0         \n",
      "                                                                 \n",
      " block3_conv1 (Conv2D)       (None, 62, 62, 256)       295168    \n",
      "                                                                 \n",
      " block3_conv2 (Conv2D)       (None, 62, 62, 256)       590080    \n",
      "                                                                 \n",
      " block3_conv3 (Conv2D)       (None, 62, 62, 256)       590080    \n",
      "                                                                 \n",
      " block3_pool (MaxPooling2D)  (None, 31, 31, 256)       0         \n",
      "                                                                 \n",
      " block4_conv1 (Conv2D)       (None, 31, 31, 512)       1180160   \n",
      "                                                                 \n",
      " block4_conv2 (Conv2D)       (None, 31, 31, 512)       2359808   \n",
      "                                                                 \n",
      " block4_conv3 (Conv2D)       (None, 31, 31, 512)       2359808   \n",
      "                                                                 \n",
      " block4_pool (MaxPooling2D)  (None, 15, 15, 512)       0         \n",
      "                                                                 \n",
      " block5_conv1 (Conv2D)       (None, 15, 15, 512)       2359808   \n",
      "                                                                 \n",
      " block5_conv2 (Conv2D)       (None, 15, 15, 512)       2359808   \n",
      "                                                                 \n",
      " block5_conv3 (Conv2D)       (None, 15, 15, 512)       2359808   \n",
      "                                                                 \n",
      " block5_pool (MaxPooling2D)  (None, 7, 7, 512)         0         \n",
      "                                                                 \n",
      " global_max_pooling2d (Globa  (None, 512)              0         \n",
      " lMaxPooling2D)                                                  \n",
      "                                                                 \n",
      " dropout (Dropout)           (None, 512)               0         \n",
      "                                                                 \n",
      " dense (Dense)               (None, 128)               65664     \n",
      "                                                                 \n",
      " dense_1 (Dense)             (None, 1)                 129       \n",
      "                                                                 \n",
      "=================================================================\n",
      "Total params: 14,780,481\n",
      "Trainable params: 65,793\n",
      "Non-trainable params: 14,714,688\n",
      "_________________________________________________________________\n"
     ]
    }
   ],
   "source": [
    "model.summary()"
   ]
  },
  {
   "cell_type": "code",
   "execution_count": 9,
   "metadata": {},
   "outputs": [],
   "source": [
    "from keras.callbacks import EarlyStopping, ModelCheckpoint\n",
    "\n",
    "STAMP = f'VGG16_MODEL'\n",
    "early_stopping =EarlyStopping(monitor='val_loss', patience=7)\n",
    "bst_model_path = STAMP + '.h5'\n",
    "model_checkpoint = ModelCheckpoint(bst_model_path, save_best_only=True, save_weights_only=True)"
   ]
  },
  {
   "cell_type": "code",
   "execution_count": 10,
   "metadata": {},
   "outputs": [],
   "source": [
    "tf.keras.backend.clear_session()"
   ]
  },
  {
   "cell_type": "code",
   "execution_count": 11,
   "metadata": {},
   "outputs": [
    {
     "name": "stdout",
     "output_type": "stream",
     "text": [
      "Epoch 1/50\n",
      "85/85 [==============================] - 34s 281ms/step - loss: 0.5914 - acc: 0.6897 - val_loss: 0.6383 - val_acc: 0.6459\n",
      "Epoch 2/50\n",
      "85/85 [==============================] - 18s 213ms/step - loss: 0.5078 - acc: 0.7507 - val_loss: 0.4100 - val_acc: 0.8366\n",
      "Epoch 3/50\n",
      "85/85 [==============================] - 18s 213ms/step - loss: 0.4462 - acc: 0.7975 - val_loss: 0.3967 - val_acc: 0.8444\n",
      "Epoch 4/50\n",
      "85/85 [==============================] - 19s 229ms/step - loss: 0.4418 - acc: 0.7982 - val_loss: 0.5823 - val_acc: 0.7315\n",
      "Epoch 5/50\n",
      "85/85 [==============================] - 21s 242ms/step - loss: 0.4177 - acc: 0.8075 - val_loss: 0.3572 - val_acc: 0.8482\n",
      "Epoch 6/50\n",
      "85/85 [==============================] - 21s 243ms/step - loss: 0.3907 - acc: 0.8205 - val_loss: 0.4142 - val_acc: 0.8210\n",
      "Epoch 7/50\n",
      "85/85 [==============================] - 21s 244ms/step - loss: 0.3895 - acc: 0.8168 - val_loss: 0.3822 - val_acc: 0.8327\n",
      "Epoch 8/50\n",
      "85/85 [==============================] - 20s 236ms/step - loss: 0.3447 - acc: 0.8417 - val_loss: 0.3621 - val_acc: 0.8560\n",
      "Epoch 9/50\n",
      "85/85 [==============================] - 20s 240ms/step - loss: 0.3417 - acc: 0.8532 - val_loss: 0.3663 - val_acc: 0.8288\n",
      "Epoch 10/50\n",
      "85/85 [==============================] - 19s 219ms/step - loss: 0.3056 - acc: 0.8636 - val_loss: 0.3499 - val_acc: 0.8521\n",
      "Epoch 11/50\n",
      "85/85 [==============================] - 21s 252ms/step - loss: 0.3240 - acc: 0.8588 - val_loss: 0.3795 - val_acc: 0.8405\n",
      "Epoch 12/50\n",
      "85/85 [==============================] - 22s 255ms/step - loss: 0.3160 - acc: 0.8580 - val_loss: 0.3558 - val_acc: 0.8444\n",
      "Epoch 13/50\n",
      "85/85 [==============================] - 23s 274ms/step - loss: 0.2970 - acc: 0.8692 - val_loss: 0.3491 - val_acc: 0.8560\n",
      "Epoch 14/50\n",
      "85/85 [==============================] - 27s 314ms/step - loss: 0.2769 - acc: 0.8811 - val_loss: 0.3623 - val_acc: 0.8444\n",
      "Epoch 15/50\n",
      "85/85 [==============================] - 19s 225ms/step - loss: 0.2662 - acc: 0.8911 - val_loss: 0.3538 - val_acc: 0.8521\n",
      "Epoch 16/50\n",
      "85/85 [==============================] - 19s 226ms/step - loss: 0.2706 - acc: 0.8844 - val_loss: 0.3505 - val_acc: 0.8366\n",
      "Epoch 17/50\n",
      "85/85 [==============================] - 19s 227ms/step - loss: 0.2551 - acc: 0.8933 - val_loss: 0.3611 - val_acc: 0.8405\n",
      "Epoch 18/50\n",
      "85/85 [==============================] - 28s 324ms/step - loss: 0.2404 - acc: 0.8967 - val_loss: 0.3725 - val_acc: 0.8677\n",
      "Epoch 19/50\n",
      "85/85 [==============================] - 38s 444ms/step - loss: 0.2362 - acc: 0.9026 - val_loss: 0.3559 - val_acc: 0.8677\n",
      "Epoch 20/50\n",
      "85/85 [==============================] - 30s 349ms/step - loss: 0.2164 - acc: 0.9075 - val_loss: 0.3449 - val_acc: 0.8755\n",
      "Epoch 21/50\n",
      "85/85 [==============================] - 78s 927ms/step - loss: 0.1945 - acc: 0.9194 - val_loss: 0.3496 - val_acc: 0.8716\n",
      "Epoch 22/50\n",
      "85/85 [==============================] - 76s 887ms/step - loss: 0.2053 - acc: 0.9156 - val_loss: 0.3337 - val_acc: 0.8677\n",
      "Epoch 23/50\n",
      "85/85 [==============================] - 105s 1s/step - loss: 0.1841 - acc: 0.9279 - val_loss: 0.3508 - val_acc: 0.8599\n",
      "Epoch 24/50\n",
      "85/85 [==============================] - 58s 685ms/step - loss: 0.2173 - acc: 0.9090 - val_loss: 0.3793 - val_acc: 0.8444\n",
      "Epoch 25/50\n",
      "85/85 [==============================] - 61s 718ms/step - loss: 0.1942 - acc: 0.9208 - val_loss: 0.3424 - val_acc: 0.8560\n",
      "Epoch 26/50\n",
      "85/85 [==============================] - 21s 253ms/step - loss: 0.1751 - acc: 0.9290 - val_loss: 0.3571 - val_acc: 0.8716\n",
      "Epoch 27/50\n",
      "85/85 [==============================] - 133s 2s/step - loss: 0.1646 - acc: 0.9327 - val_loss: 0.3342 - val_acc: 0.8677\n",
      "Epoch 28/50\n",
      "85/85 [==============================] - 58s 692ms/step - loss: 0.1526 - acc: 0.9461 - val_loss: 0.3684 - val_acc: 0.8677\n",
      "Epoch 29/50\n",
      "85/85 [==============================] - 106s 1s/step - loss: 0.1510 - acc: 0.9379 - val_loss: 0.3962 - val_acc: 0.8599\n",
      "Epoch 30/50\n",
      "85/85 [==============================] - 54s 625ms/step - loss: 0.1443 - acc: 0.9420 - val_loss: 0.3301 - val_acc: 0.8716\n",
      "Epoch 31/50\n",
      "85/85 [==============================] - 57s 679ms/step - loss: 0.1469 - acc: 0.9420 - val_loss: 0.3573 - val_acc: 0.8716\n",
      "Epoch 32/50\n",
      "85/85 [==============================] - 29s 346ms/step - loss: 0.1464 - acc: 0.9487 - val_loss: 0.3561 - val_acc: 0.8716\n",
      "Epoch 33/50\n",
      "85/85 [==============================] - 27s 315ms/step - loss: 0.1469 - acc: 0.9472 - val_loss: 0.4143 - val_acc: 0.8327\n",
      "Epoch 34/50\n",
      "85/85 [==============================] - 26s 304ms/step - loss: 0.1497 - acc: 0.9417 - val_loss: 0.3892 - val_acc: 0.8444\n",
      "Epoch 35/50\n",
      "85/85 [==============================] - 41s 490ms/step - loss: 0.1292 - acc: 0.9532 - val_loss: 0.3552 - val_acc: 0.8794\n",
      "Epoch 36/50\n",
      "85/85 [==============================] - 172s 2s/step - loss: 0.1261 - acc: 0.9539 - val_loss: 0.3795 - val_acc: 0.8716\n",
      "Epoch 37/50\n",
      "85/85 [==============================] - 73s 869ms/step - loss: 0.1165 - acc: 0.9591 - val_loss: 0.3346 - val_acc: 0.8833\n",
      "Epoch 38/50\n",
      "85/85 [==============================] - 49s 578ms/step - loss: 0.1266 - acc: 0.9509 - val_loss: 0.4347 - val_acc: 0.8327\n",
      "Epoch 39/50\n",
      "85/85 [==============================] - 44s 483ms/step - loss: 0.1232 - acc: 0.9509 - val_loss: 0.3735 - val_acc: 0.8599\n",
      "Epoch 40/50\n",
      "85/85 [==============================] - 81s 966ms/step - loss: 0.1057 - acc: 0.9625 - val_loss: 0.3810 - val_acc: 0.8521\n",
      "Epoch 41/50\n",
      "85/85 [==============================] - 88s 1s/step - loss: 0.1139 - acc: 0.9580 - val_loss: 0.4051 - val_acc: 0.8521\n",
      "Epoch 42/50\n",
      "85/85 [==============================] - 128s 2s/step - loss: 0.1008 - acc: 0.9669 - val_loss: 0.3714 - val_acc: 0.8405\n",
      "Epoch 43/50\n",
      "85/85 [==============================] - 134s 2s/step - loss: 0.1012 - acc: 0.9684 - val_loss: 0.3647 - val_acc: 0.8599\n",
      "Epoch 44/50\n",
      "85/85 [==============================] - 77s 908ms/step - loss: 0.0923 - acc: 0.9692 - val_loss: 0.3892 - val_acc: 0.8599\n",
      "Epoch 45/50\n",
      "85/85 [==============================] - 26s 308ms/step - loss: 0.0999 - acc: 0.9654 - val_loss: 0.3864 - val_acc: 0.8638\n",
      "Epoch 46/50\n",
      "85/85 [==============================] - 28s 331ms/step - loss: 0.1045 - acc: 0.9636 - val_loss: 0.4066 - val_acc: 0.8366\n",
      "Epoch 47/50\n",
      "85/85 [==============================] - 84s 997ms/step - loss: 0.0821 - acc: 0.9725 - val_loss: 0.4189 - val_acc: 0.8599\n",
      "Epoch 48/50\n",
      "85/85 [==============================] - 82s 974ms/step - loss: 0.0876 - acc: 0.9729 - val_loss: 0.4008 - val_acc: 0.8755\n",
      "Epoch 49/50\n",
      "85/85 [==============================] - 33s 355ms/step - loss: 0.1215 - acc: 0.9476 - val_loss: 0.4127 - val_acc: 0.8521\n",
      "Epoch 50/50\n",
      "85/85 [==============================] - 26s 305ms/step - loss: 0.1008 - acc: 0.9606 - val_loss: 0.4423 - val_acc: 0.8444\n"
     ]
    }
   ],
   "source": [
    "history = model.fit(X_train, y_train,\n",
    "                    epochs=50,\n",
    "                    verbose=True,\n",
    "                    validation_data=(X_valid, y_valid),\n",
    "                    batch_size=32)\n",
    "#, \n",
    "\n",
    "#model.load_weights(bst_model_path)"
   ]
  },
  {
   "cell_type": "code",
   "execution_count": 14,
   "metadata": {},
   "outputs": [
    {
     "name": "stdout",
     "output_type": "stream",
     "text": [
      "5/5 [==============================] - 1s 176ms/step - loss: 0.3770 - acc: 0.8992\n"
     ]
    },
    {
     "data": {
      "text/plain": [
       "[0.37695077061653137, 0.8992248177528381]"
      ]
     },
     "execution_count": 14,
     "metadata": {},
     "output_type": "execute_result"
    }
   ],
   "source": [
    "model.evaluate(X_test, y_test)"
   ]
  },
  {
   "cell_type": "code",
   "execution_count": 15,
   "metadata": {},
   "outputs": [
    {
     "data": {
      "image/png": "[encoded data removed]",
      "text/plain": [
       "<Figure size 640x480 with 1 Axes>"
      ]
     },
     "metadata": {},
     "output_type": "display_data"
    },
    {
     "data": {
      "image/png": "[encoded data removed]",
      "text/plain": [
       "<Figure size 640x480 with 1 Axes>"
      ]
     },
     "metadata": {},
     "output_type": "display_data"
    }
   ],
   "source": [
    "import matplotlib.pyplot as plt\n",
    "acc = history.history['acc']\n",
    "val_acc = history.history['val_acc']\n",
    "loss = history.history['loss']\n",
    "val_loss = history.history['val_loss']\n",
    "epochs = range(1, len(acc) + 1)\n",
    "plt.plot(epochs, acc, 'r', label='Training acc')\n",
    "plt.plot(epochs, val_acc, 'b', label='Validation acc')\n",
    "plt.title('Training and validation accuracy')\n",
    "plt.legend()\n",
    "plt.figure()\n",
    "plt.plot(epochs, loss, 'r', label='Training loss')\n",
    "plt.plot(epochs, val_loss, 'b', label='Validation loss')\n",
    "plt.title('Training and validation loss')\n",
    "plt.legend()\n",
    "plt.show()"
   ]
  },
  {
   "cell_type": "code",
   "execution_count": 16,
   "metadata": {},
   "outputs": [
    {
     "name": "stdout",
     "output_type": "stream",
     "text": [
      "Saved model to disk\n"
     ]
    }
   ],
   "source": [
    "model_json = model.to_json()\n",
    "with open(\"classification models/vgg16/VGG_Skin_Classifier.json\", \"w\") as json_file:\n",
    "    json_file.write(model_json)\n",
    "\n",
    "model.save(\"classification models/vgg16/VGG_Skin_Classifier.h5\")\n",
    "print(\"Saved model to disk\")\n",
    "model.save_weights(\"classification models/vgg16/VGG_Skin.h5\")"
   ]
  },
  {
   "cell_type": "code",
   "execution_count": null,
   "metadata": {},
   "outputs": [],
   "source": []
  },
  {
   "cell_type": "code",
   "execution_count": 13,
   "metadata": {},
   "outputs": [
    {
     "name": "stdout",
     "output_type": "stream",
     "text": [
      "6/6 [==============================] - 6s 1s/step - loss: 0.3935 - acc: 0.8409\n",
      "test_loss, test accuracy [0.3935054540634155, 0.8409090638160706]\n",
      "23/23 [==============================] - 14s 594ms/step - loss: 0.3551 - acc: 0.8612\n",
      "Training Accuracy: 0.8612\n",
      "6/6 [==============================] - 2s 234ms/step - loss: 0.3935 - acc: 0.8409\n",
      "Testing Accuracy:  0.8409\n"
     ]
    }
   ],
   "source": [
    "model.load_weights(bst_model_path)\n",
    "result = model.evaluate(validation_generator,batch_size=BATCH_SIZE)\n",
    "print(\"test_loss, test accuracy\",result)\n",
    "\n",
    "#model.load_weights(bst_model_path)\n",
    "loss, accuracy = model.evaluate(train_generator,batch_size=BATCH_SIZE)\n",
    "print(\"Training Accuracy: {:.4f}\".format(accuracy))\n",
    "loss, accuracy = model.evaluate(validation_generator,batch_size=BATCH_SIZE)\n",
    "print(\"Testing Accuracy:  {:.4f}\".format(accuracy))\n"
   ]
  },
  {
   "cell_type": "code",
   "execution_count": 15,
   "metadata": {},
   "outputs": [
    {
     "name": "stdout",
     "output_type": "stream",
     "text": [
      "Epoch 1/100\n",
      "21/21 [==============================] - 16s 717ms/step - loss: 5.8490 - acc: 0.5291 - val_loss: 5.6303 - val_acc: 0.5125\n",
      "Epoch 2/100\n",
      "21/21 [==============================] - 15s 704ms/step - loss: 5.5735 - acc: 0.5663 - val_loss: 5.3837 - val_acc: 0.5312\n",
      "Epoch 3/100\n",
      "21/21 [==============================] - 16s 756ms/step - loss: 5.3082 - acc: 0.5931 - val_loss: 5.1409 - val_acc: 0.6062\n",
      "Epoch 4/100\n",
      "21/21 [==============================] - 15s 735ms/step - loss: 5.0874 - acc: 0.6289 - val_loss: 4.9253 - val_acc: 0.6562\n",
      "Epoch 5/100\n",
      "21/21 [==============================] - 15s 709ms/step - loss: 4.8691 - acc: 0.6766 - val_loss: 4.7263 - val_acc: 0.7250\n",
      "Epoch 6/100\n",
      "21/21 [==============================] - 15s 700ms/step - loss: 4.6784 - acc: 0.6870 - val_loss: 4.5631 - val_acc: 0.6938\n",
      "Epoch 7/100\n",
      "21/21 [==============================] - 15s 713ms/step - loss: 4.4976 - acc: 0.6811 - val_loss: 4.3600 - val_acc: 0.7875\n",
      "Epoch 8/100\n",
      "21/21 [==============================] - 15s 734ms/step - loss: 4.3257 - acc: 0.7049 - val_loss: 4.2105 - val_acc: 0.7688\n",
      "Epoch 9/100\n",
      "21/21 [==============================] - 15s 706ms/step - loss: 4.1507 - acc: 0.7347 - val_loss: 4.0506 - val_acc: 0.7812\n",
      "Epoch 10/100\n",
      "21/21 [==============================] - 15s 706ms/step - loss: 4.0093 - acc: 0.7392 - val_loss: 3.9122 - val_acc: 0.7188\n",
      "Epoch 11/100\n",
      "21/21 [==============================] - 15s 701ms/step - loss: 3.8716 - acc: 0.7288 - val_loss: 3.7976 - val_acc: 0.7312\n",
      "Epoch 12/100\n",
      "21/21 [==============================] - 15s 715ms/step - loss: 3.7503 - acc: 0.7377 - val_loss: 3.6549 - val_acc: 0.7812\n",
      "Epoch 13/100\n",
      "21/21 [==============================] - 15s 716ms/step - loss: 3.5945 - acc: 0.7586 - val_loss: 3.5186 - val_acc: 0.8062\n",
      "Epoch 14/100\n",
      "21/21 [==============================] - 15s 730ms/step - loss: 3.4818 - acc: 0.7660 - val_loss: 3.4375 - val_acc: 0.7437\n",
      "Epoch 15/100\n",
      "21/21 [==============================] - 16s 744ms/step - loss: 3.3590 - acc: 0.7794 - val_loss: 3.3122 - val_acc: 0.7875\n",
      "Epoch 16/100\n",
      "21/21 [==============================] - 15s 729ms/step - loss: 3.2630 - acc: 0.7753 - val_loss: 3.2123 - val_acc: 0.7500\n",
      "Epoch 17/100\n",
      "21/21 [==============================] - 15s 724ms/step - loss: 3.1571 - acc: 0.7765 - val_loss: 3.0994 - val_acc: 0.7750\n",
      "Epoch 18/100\n",
      "21/21 [==============================] - 15s 720ms/step - loss: 3.0499 - acc: 0.7735 - val_loss: 3.0018 - val_acc: 0.7875\n",
      "Epoch 19/100\n",
      "21/21 [==============================] - 15s 701ms/step - loss: 2.9483 - acc: 0.8063 - val_loss: 2.9201 - val_acc: 0.8000\n",
      "Epoch 20/100\n",
      "21/21 [==============================] - 15s 702ms/step - loss: 2.8858 - acc: 0.7914 - val_loss: 2.8215 - val_acc: 0.8250\n",
      "Epoch 21/100\n",
      "21/21 [==============================] - 15s 701ms/step - loss: 2.7617 - acc: 0.8092 - val_loss: 2.7541 - val_acc: 0.8062\n",
      "Epoch 22/100\n",
      "21/21 [==============================] - 15s 704ms/step - loss: 2.7132 - acc: 0.7899 - val_loss: 2.6866 - val_acc: 0.7437\n",
      "Epoch 23/100\n",
      "21/21 [==============================] - 15s 695ms/step - loss: 2.6348 - acc: 0.7958 - val_loss: 2.5993 - val_acc: 0.8000\n",
      "Epoch 24/100\n",
      "21/21 [==============================] - 15s 708ms/step - loss: 2.5657 - acc: 0.7914 - val_loss: 2.5518 - val_acc: 0.7812\n",
      "Epoch 25/100\n",
      "21/21 [==============================] - 15s 705ms/step - loss: 2.4897 - acc: 0.7991 - val_loss: 2.4674 - val_acc: 0.8188\n",
      "Epoch 26/100\n",
      "21/21 [==============================] - 15s 699ms/step - loss: 2.4163 - acc: 0.8122 - val_loss: 2.4147 - val_acc: 0.7937\n",
      "Epoch 27/100\n",
      "21/21 [==============================] - 15s 719ms/step - loss: 2.3698 - acc: 0.8063 - val_loss: 2.3499 - val_acc: 0.8125\n",
      "Epoch 28/100\n",
      "21/21 [==============================] - 15s 703ms/step - loss: 2.3045 - acc: 0.8033 - val_loss: 2.3206 - val_acc: 0.7437\n",
      "Epoch 29/100\n",
      "21/21 [==============================] - 15s 704ms/step - loss: 2.2300 - acc: 0.8331 - val_loss: 2.2347 - val_acc: 0.8062\n",
      "Epoch 30/100\n",
      "21/21 [==============================] - 15s 699ms/step - loss: 2.2042 - acc: 0.8182 - val_loss: 2.1980 - val_acc: 0.7875\n",
      "Epoch 31/100\n",
      "21/21 [==============================] - 15s 697ms/step - loss: 2.1319 - acc: 0.8241 - val_loss: 2.1372 - val_acc: 0.8000\n",
      "Epoch 32/100\n",
      "21/21 [==============================] - 15s 704ms/step - loss: 2.0772 - acc: 0.8361 - val_loss: 2.1011 - val_acc: 0.7937\n",
      "Epoch 33/100\n",
      "21/21 [==============================] - 15s 710ms/step - loss: 2.0576 - acc: 0.8092 - val_loss: 2.0432 - val_acc: 0.8125\n",
      "Epoch 34/100\n",
      "21/21 [==============================] - 15s 701ms/step - loss: 1.9950 - acc: 0.8405 - val_loss: 2.0149 - val_acc: 0.7937\n",
      "Epoch 35/100\n",
      "21/21 [==============================] - 15s 717ms/step - loss: 1.9749 - acc: 0.8018 - val_loss: 1.9633 - val_acc: 0.8125\n",
      "Epoch 36/100\n",
      "21/21 [==============================] - 15s 713ms/step - loss: 1.9002 - acc: 0.8271 - val_loss: 1.9278 - val_acc: 0.8000\n",
      "Epoch 37/100\n",
      "21/21 [==============================] - 18s 870ms/step - loss: 1.8678 - acc: 0.8450 - val_loss: 1.8973 - val_acc: 0.8188\n",
      "Epoch 38/100\n",
      "21/21 [==============================] - 15s 705ms/step - loss: 1.8328 - acc: 0.8450 - val_loss: 1.8552 - val_acc: 0.8250\n",
      "Epoch 39/100\n",
      "21/21 [==============================] - 15s 688ms/step - loss: 1.7953 - acc: 0.8405 - val_loss: 1.8548 - val_acc: 0.7688\n",
      "Epoch 40/100\n",
      "21/21 [==============================] - 15s 694ms/step - loss: 1.7761 - acc: 0.8289 - val_loss: 1.7912 - val_acc: 0.8000\n",
      "Epoch 41/100\n",
      "21/21 [==============================] - 15s 716ms/step - loss: 1.7245 - acc: 0.8376 - val_loss: 1.7553 - val_acc: 0.8062\n",
      "Epoch 42/100\n",
      "21/21 [==============================] - 15s 727ms/step - loss: 1.6765 - acc: 0.8420 - val_loss: 1.7232 - val_acc: 0.7937\n",
      "Epoch 43/100\n",
      "21/21 [==============================] - 15s 699ms/step - loss: 1.6634 - acc: 0.8241 - val_loss: 1.7009 - val_acc: 0.7875\n",
      "Epoch 44/100\n",
      "21/21 [==============================] - 15s 699ms/step - loss: 1.6509 - acc: 0.8182 - val_loss: 1.6621 - val_acc: 0.7937\n",
      "Epoch 45/100\n",
      "21/21 [==============================] - 15s 699ms/step - loss: 1.6055 - acc: 0.8495 - val_loss: 1.6401 - val_acc: 0.8000\n",
      "Epoch 46/100\n",
      "21/21 [==============================] - 15s 712ms/step - loss: 1.5718 - acc: 0.8539 - val_loss: 1.5988 - val_acc: 0.8500\n",
      "Epoch 47/100\n",
      "21/21 [==============================] - 15s 704ms/step - loss: 1.5370 - acc: 0.8584 - val_loss: 1.5876 - val_acc: 0.8062\n",
      "Epoch 48/100\n",
      "21/21 [==============================] - 15s 728ms/step - loss: 1.5079 - acc: 0.8438 - val_loss: 1.5714 - val_acc: 0.7937\n",
      "Epoch 49/100\n",
      "21/21 [==============================] - 15s 717ms/step - loss: 1.5199 - acc: 0.8301 - val_loss: 1.5296 - val_acc: 0.8188\n",
      "Epoch 50/100\n",
      "21/21 [==============================] - 15s 699ms/step - loss: 1.4730 - acc: 0.8435 - val_loss: 1.5259 - val_acc: 0.7875\n",
      "Epoch 51/100\n",
      "21/21 [==============================] - 15s 702ms/step - loss: 1.4511 - acc: 0.8420 - val_loss: 1.4971 - val_acc: 0.8062\n",
      "Epoch 52/100\n",
      "21/21 [==============================] - 15s 701ms/step - loss: 1.4160 - acc: 0.8450 - val_loss: 1.4657 - val_acc: 0.8438\n",
      "Epoch 53/100\n",
      "21/21 [==============================] - 15s 697ms/step - loss: 1.3941 - acc: 0.8614 - val_loss: 1.5018 - val_acc: 0.7875\n",
      "Epoch 54/100\n",
      "21/21 [==============================] - 15s 699ms/step - loss: 1.3730 - acc: 0.8614 - val_loss: 1.4527 - val_acc: 0.7937\n",
      "Epoch 55/100\n",
      "21/21 [==============================] - 15s 702ms/step - loss: 1.3450 - acc: 0.8525 - val_loss: 1.4259 - val_acc: 0.7812\n",
      "Epoch 56/100\n",
      "21/21 [==============================] - 15s 706ms/step - loss: 1.3443 - acc: 0.8405 - val_loss: 1.3868 - val_acc: 0.8125\n",
      "Epoch 57/100\n",
      "21/21 [==============================] - 15s 698ms/step - loss: 1.3251 - acc: 0.8525 - val_loss: 1.3974 - val_acc: 0.7937\n",
      "Epoch 58/100\n",
      "21/21 [==============================] - 15s 709ms/step - loss: 1.2872 - acc: 0.8569 - val_loss: 1.3702 - val_acc: 0.8188\n",
      "Epoch 59/100\n",
      "21/21 [==============================] - 15s 699ms/step - loss: 1.2691 - acc: 0.8689 - val_loss: 1.3499 - val_acc: 0.8062\n",
      "Epoch 60/100\n",
      "21/21 [==============================] - 15s 711ms/step - loss: 1.2474 - acc: 0.8674 - val_loss: 1.3125 - val_acc: 0.8375\n",
      "Epoch 61/100\n",
      "21/21 [==============================] - 15s 702ms/step - loss: 1.2404 - acc: 0.8659 - val_loss: 1.3276 - val_acc: 0.8000\n",
      "Epoch 62/100\n",
      "21/21 [==============================] - 15s 699ms/step - loss: 1.2417 - acc: 0.8510 - val_loss: 1.2960 - val_acc: 0.8062\n",
      "Epoch 63/100\n",
      "21/21 [==============================] - 15s 703ms/step - loss: 1.2297 - acc: 0.8510 - val_loss: 1.2831 - val_acc: 0.8250\n",
      "Epoch 64/100\n",
      "21/21 [==============================] - 15s 713ms/step - loss: 1.1988 - acc: 0.8569 - val_loss: 1.2721 - val_acc: 0.8125\n",
      "Epoch 65/100\n",
      "21/21 [==============================] - 15s 701ms/step - loss: 1.1779 - acc: 0.8689 - val_loss: 1.2790 - val_acc: 0.7875\n",
      "Epoch 66/100\n",
      "21/21 [==============================] - 15s 722ms/step - loss: 1.1695 - acc: 0.8554 - val_loss: 1.2623 - val_acc: 0.8062\n",
      "Epoch 67/100\n",
      "21/21 [==============================] - 15s 713ms/step - loss: 1.1455 - acc: 0.8703 - val_loss: 1.2173 - val_acc: 0.8000\n",
      "Epoch 68/100\n",
      "21/21 [==============================] - 15s 703ms/step - loss: 1.1162 - acc: 0.8718 - val_loss: 1.2040 - val_acc: 0.8313\n",
      "Epoch 69/100\n",
      "21/21 [==============================] - 15s 703ms/step - loss: 1.1341 - acc: 0.8569 - val_loss: 1.2022 - val_acc: 0.8062\n",
      "Epoch 70/100\n",
      "21/21 [==============================] - 15s 711ms/step - loss: 1.1107 - acc: 0.8689 - val_loss: 1.1798 - val_acc: 0.8000\n",
      "Epoch 71/100\n",
      "21/21 [==============================] - 15s 700ms/step - loss: 1.0771 - acc: 0.8703 - val_loss: 1.1573 - val_acc: 0.8375\n",
      "Epoch 72/100\n",
      "21/21 [==============================] - 15s 704ms/step - loss: 1.0680 - acc: 0.8569 - val_loss: 1.1449 - val_acc: 0.8375\n",
      "Epoch 73/100\n",
      "21/21 [==============================] - 15s 702ms/step - loss: 1.0680 - acc: 0.8584 - val_loss: 1.1419 - val_acc: 0.8438\n",
      "Epoch 74/100\n",
      "21/21 [==============================] - 15s 703ms/step - loss: 1.0534 - acc: 0.8542 - val_loss: 1.1822 - val_acc: 0.7688\n",
      "Epoch 75/100\n",
      "21/21 [==============================] - 15s 707ms/step - loss: 1.0435 - acc: 0.8733 - val_loss: 1.1214 - val_acc: 0.8313\n",
      "Epoch 76/100\n",
      "21/21 [==============================] - 15s 708ms/step - loss: 1.0278 - acc: 0.8674 - val_loss: 1.0922 - val_acc: 0.8438\n",
      "Epoch 77/100\n",
      "21/21 [==============================] - 15s 702ms/step - loss: 1.0147 - acc: 0.8599 - val_loss: 1.0790 - val_acc: 0.8562\n",
      "Epoch 78/100\n",
      "21/21 [==============================] - 15s 693ms/step - loss: 1.0257 - acc: 0.8539 - val_loss: 1.0896 - val_acc: 0.8375\n",
      "Epoch 79/100\n",
      "21/21 [==============================] - 15s 702ms/step - loss: 0.9965 - acc: 0.8703 - val_loss: 1.0962 - val_acc: 0.8313\n",
      "Epoch 80/100\n",
      "21/21 [==============================] - 15s 697ms/step - loss: 0.9867 - acc: 0.8689 - val_loss: 1.1128 - val_acc: 0.7750\n",
      "Epoch 81/100\n",
      "21/21 [==============================] - 15s 726ms/step - loss: 0.9750 - acc: 0.8780 - val_loss: 1.0526 - val_acc: 0.8250\n",
      "Epoch 82/100\n",
      "21/21 [==============================] - 15s 696ms/step - loss: 0.9624 - acc: 0.8718 - val_loss: 1.0479 - val_acc: 0.7688\n",
      "Epoch 83/100\n",
      "21/21 [==============================] - 15s 697ms/step - loss: 0.9632 - acc: 0.8539 - val_loss: 1.0587 - val_acc: 0.8000\n",
      "Epoch 84/100\n",
      "21/21 [==============================] - 15s 721ms/step - loss: 0.9288 - acc: 0.8763 - val_loss: 1.0346 - val_acc: 0.8188\n",
      "Epoch 85/100\n",
      "21/21 [==============================] - 16s 751ms/step - loss: 0.9222 - acc: 0.8823 - val_loss: 1.0161 - val_acc: 0.8125\n",
      "Epoch 86/100\n",
      "21/21 [==============================] - 15s 722ms/step - loss: 0.9238 - acc: 0.8661 - val_loss: 1.0242 - val_acc: 0.8250\n",
      "Epoch 87/100\n",
      "21/21 [==============================] - 16s 737ms/step - loss: 0.9146 - acc: 0.8644 - val_loss: 0.9904 - val_acc: 0.8250\n",
      "Epoch 88/100\n",
      "21/21 [==============================] - 15s 731ms/step - loss: 0.8985 - acc: 0.8750 - val_loss: 0.9694 - val_acc: 0.8500\n",
      "Epoch 89/100\n",
      "21/21 [==============================] - 15s 711ms/step - loss: 0.8888 - acc: 0.8763 - val_loss: 1.0059 - val_acc: 0.8188\n",
      "Epoch 90/100\n",
      "21/21 [==============================] - 15s 728ms/step - loss: 0.8875 - acc: 0.8718 - val_loss: 1.0144 - val_acc: 0.7937\n",
      "Epoch 91/100\n",
      "21/21 [==============================] - 16s 735ms/step - loss: 0.8874 - acc: 0.8689 - val_loss: 1.0071 - val_acc: 0.8000\n",
      "Epoch 92/100\n",
      "21/21 [==============================] - 15s 721ms/step - loss: 0.8830 - acc: 0.8569 - val_loss: 0.9651 - val_acc: 0.8313\n",
      "Epoch 93/100\n",
      "21/21 [==============================] - 15s 718ms/step - loss: 0.8584 - acc: 0.8689 - val_loss: 0.9694 - val_acc: 0.8313\n",
      "Epoch 94/100\n",
      "21/21 [==============================] - 15s 710ms/step - loss: 0.8370 - acc: 0.8867 - val_loss: 0.9199 - val_acc: 0.8188\n",
      "Epoch 95/100\n",
      "21/21 [==============================] - 15s 709ms/step - loss: 0.8392 - acc: 0.8763 - val_loss: 0.9601 - val_acc: 0.8125\n",
      "Epoch 96/100\n",
      "21/21 [==============================] - 15s 704ms/step - loss: 0.8226 - acc: 0.8897 - val_loss: 0.9327 - val_acc: 0.8250\n",
      "Epoch 97/100\n",
      "21/21 [==============================] - 15s 711ms/step - loss: 0.8106 - acc: 0.8867 - val_loss: 0.9201 - val_acc: 0.8250\n",
      "Epoch 98/100\n",
      "21/21 [==============================] - 15s 718ms/step - loss: 0.8190 - acc: 0.8793 - val_loss: 0.9452 - val_acc: 0.8062\n",
      "Epoch 99/100\n",
      "21/21 [==============================] - 15s 727ms/step - loss: 0.8394 - acc: 0.8584 - val_loss: 0.9258 - val_acc: 0.8125\n",
      "Epoch 100/100\n",
      "21/21 [==============================] - 15s 729ms/step - loss: 0.8174 - acc: 0.8703 - val_loss: 0.9634 - val_acc: 0.7750\n",
      "6/6 [==============================] - 2s 314ms/step - loss: 0.9477 - acc: 0.8171\n",
      "test_loss, test accuracy [0.9477102160453796, 0.8171428442001343]\n",
      "22/22 [==============================] - 14s 607ms/step - loss: 0.8186 - acc: 0.8905\n",
      "Training Accuracy: 0.8905\n",
      "6/6 [==============================] - 2s 310ms/step - loss: 0.9477 - acc: 0.8171\n",
      "Testing Accuracy:  0.8171\n"
     ]
    },
    {
     "data": {
      "image/png": "[encoded data removed]",
      "text/plain": [
       "<Figure size 432x288 with 1 Axes>"
      ]
     },
     "metadata": {
      "needs_background": "light"
     },
     "output_type": "display_data"
    },
    {
     "data": {
      "image/png": "[encoded data removed]",
      "text/plain": [
       "<Figure size 432x288 with 1 Axes>"
      ]
     },
     "metadata": {
      "needs_background": "light"
     },
     "output_type": "display_data"
    }
   ],
   "source": [
    "from keras import regularizers\n",
    "\n",
    "last_layer = pre_trained_model.get_layer('block5_pool')\n",
    "last_output = last_layer.output\n",
    "x = tf.keras.layers.GlobalMaxPooling2D()(last_output)\n",
    "x = tf.keras.layers.Dense(512, activation='relu', kernel_regularizer=regularizers.l2(0.01))(x)\n",
    "x = tf.keras.layers.Dropout(0.5)(x)\n",
    "x = tf.keras.layers.Dense(1, activation='sigmoid')(x)\n",
    "\n",
    "\n",
    "model = tf.keras.Model(pre_trained_model.input, x)\n",
    "opt = tf.keras.optimizers.Adam(lr=0.0001)\n",
    "model.compile(optimizer=opt, loss='binary_crossentropy', metrics=['acc'])\n",
    "\n",
    "from keras.callbacks import EarlyStopping, ModelCheckpoint\n",
    "\n",
    "STAMP = f'VGG16_MODEL_2'\n",
    "early_stopping =EarlyStopping(monitor='val_loss', patience=10)\n",
    "bst_model_path = STAMP + '.h5'\n",
    "model_checkpoint = ModelCheckpoint(bst_model_path, save_best_only=True, save_weights_only=True)\n",
    "history = model.fit(train_generator,\n",
    "steps_per_epoch=(703//BATCH_SIZE),\n",
    "epochs = 100,\n",
    "validation_data=validation_generator,\n",
    "validation_steps=(175//BATCH_SIZE),\n",
    "batch_size = BATCH_SIZE,\n",
    "verbose = 1, callbacks=[early_stopping, model_checkpoint])\n",
    "\n",
    "model.load_weights(bst_model_path)\n",
    "result = model.evaluate(validation_generator,batch_size=BATCH_SIZE)\n",
    "print(\"test_loss, test accuracy\",result)\n",
    "\n",
    "#model.load_weights(bst_model_path)\n",
    "loss, accuracy = model.evaluate(train_generator,batch_size=BATCH_SIZE)\n",
    "print(\"Training Accuracy: {:.4f}\".format(accuracy))\n",
    "loss, accuracy = model.evaluate(validation_generator,batch_size=BATCH_SIZE)\n",
    "print(\"Testing Accuracy:  {:.4f}\".format(accuracy))\n",
    "\n",
    "import matplotlib.pyplot as plt\n",
    "acc = history.history['acc']\n",
    "val_acc = history.history['val_acc']\n",
    "loss = history.history['loss']\n",
    "val_loss = history.history['val_loss']\n",
    "epochs = range(1, len(acc) + 1)\n",
    "plt.plot(epochs, acc, 'r', label='Training acc')\n",
    "plt.plot(epochs, val_acc, 'b', label='Validation acc')\n",
    "plt.title('Training and validation accuracy')\n",
    "plt.legend()\n",
    "plt.figure()\n",
    "plt.plot(epochs, loss, 'r', label='Training loss')\n",
    "plt.plot(epochs, val_loss, 'b', label='Validation loss')\n",
    "plt.title('Training and validation loss')\n",
    "plt.legend()\n",
    "plt.show()"
   ]
  },
  {
   "cell_type": "code",
   "execution_count": 16,
   "metadata": {},
   "outputs": [
    {
     "name": "stdout",
     "output_type": "stream",
     "text": [
      "Saved model to disk\n"
     ]
    }
   ],
   "source": [
    "model_json = model.to_json()\n",
    "with open(\"classification models/vgg16/VGG_Skin_Classifier81.json\", \"w\") as json_file:\n",
    "    json_file.write(model_json)\n",
    "\n",
    "model.save(\"classification models/vgg16/VGG_Skin_Classifier81.h5\")\n",
    "print(\"Saved model to disk\")\n",
    "model.save_weights(\"classification models/vgg16/VGG_Skin81.h5\")"
   ]
  },
  {
   "cell_type": "code",
   "execution_count": null,
   "metadata": {},
   "outputs": [],
   "source": []
  }
 ],
 "metadata": {
  "kernelspec": {
   "display_name": "base",
   "language": "python",
   "name": "python3"
  },
  "language_info": {
   "codemirror_mode": {
    "name": "ipython",
    "version": 3
   },
   "file_extension": ".py",
   "mimetype": "text/x-python",
   "name": "python",
   "nbconvert_exporter": "python",
   "pygments_lexer": "ipython3",
   "version": "3.10.11"
  },
  "orig_nbformat": 4
 },
 "nbformat": 4,
 "nbformat_minor": 2
}
