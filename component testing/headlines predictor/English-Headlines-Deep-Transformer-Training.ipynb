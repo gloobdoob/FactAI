{
 "cells": [
  {
   "attachments": {},
   "cell_type": "markdown",
   "metadata": {},
   "source": []
  },
  {
   "cell_type": "code",
   "execution_count": 1,
   "metadata": {},
   "outputs": [
    {
     "data": {
      "text/plain": [
       "True"
      ]
     },
     "execution_count": 1,
     "metadata": {},
     "output_type": "execute_result"
    }
   ],
   "source": [
    "import torch\n",
    "import pandas as pd\n",
    "import numpy as np\n",
    "torch.cuda.is_available()"
   ]
  },
  {
   "cell_type": "code",
   "execution_count": 2,
   "metadata": {},
   "outputs": [
    {
     "data": {
      "text/plain": [
       "4"
      ]
     },
     "execution_count": 2,
     "metadata": {},
     "output_type": "execute_result"
    }
   ],
   "source": [
    "len(np.array([0,2,1,1]))"
   ]
  },
  {
   "cell_type": "code",
   "execution_count": 3,
   "metadata": {},
   "outputs": [],
   "source": [
    "exclude_df = pd.read_pickle('RES_DF_120SAMPLES_EN_TL')"
   ]
  },
  {
   "cell_type": "code",
   "execution_count": 4,
   "metadata": {},
   "outputs": [
    {
     "data": {
      "text/html": [
       "<div>\n",
       "<style scoped>\n",
       "    .dataframe tbody tr th:only-of-type {\n",
       "        vertical-align: middle;\n",
       "    }\n",
       "\n",
       "    .dataframe tbody tr th {\n",
       "        vertical-align: top;\n",
       "    }\n",
       "\n",
       "    .dataframe thead th {\n",
       "        text-align: right;\n",
       "    }\n",
       "</style>\n",
       "<table border=\"1\" class=\"dataframe\">\n",
       "  <thead>\n",
       "    <tr style=\"text-align: right;\">\n",
       "      <th></th>\n",
       "      <th>text</th>\n",
       "      <th>similarity values</th>\n",
       "      <th>label</th>\n",
       "      <th>predictions</th>\n",
       "      <th>language</th>\n",
       "      <th>sim mean</th>\n",
       "      <th>pred mean</th>\n",
       "      <th>n real predicted</th>\n",
       "      <th>n fake predicted</th>\n",
       "      <th>n nan predicted</th>\n",
       "    </tr>\n",
       "  </thead>\n",
       "  <tbody>\n",
       "    <tr>\n",
       "      <th>0</th>\n",
       "      <td>WEF Chauffeur Admits VIP Elites Refuse To Ride...</td>\n",
       "      <td>[0.9647811, 0.7166927, 0.60091877, 0.4730269, ...</td>\n",
       "      <td>0</td>\n",
       "      <td>[0.0, 0.0, 0.0, 1.0, 1.0, 0.0, 1.0, 1.0, nan, ...</td>\n",
       "      <td>en</td>\n",
       "      <td>0.574948</td>\n",
       "      <td>0.500000</td>\n",
       "      <td>4</td>\n",
       "      <td>4</td>\n",
       "      <td>7</td>\n",
       "    </tr>\n",
       "    <tr>\n",
       "      <th>1</th>\n",
       "      <td>Avi Silverberg – Bearded biological male power...</td>\n",
       "      <td>[0.69429016, 0.69429016, 0.6753232, 0.58485216...</td>\n",
       "      <td>0</td>\n",
       "      <td>[1.0, 1.0, 1.0, 1.0, 1.0, 1.0, 1.0, 1.0, 1.0, ...</td>\n",
       "      <td>en</td>\n",
       "      <td>0.689895</td>\n",
       "      <td>0.769231</td>\n",
       "      <td>10</td>\n",
       "      <td>3</td>\n",
       "      <td>2</td>\n",
       "    </tr>\n",
       "    <tr>\n",
       "      <th>2</th>\n",
       "      <td>Children Of All Ages Welcome To Disneylands LG...</td>\n",
       "      <td>[0.7584161, 0.7584161, 0.9500826, 0.9500826, 0...</td>\n",
       "      <td>0</td>\n",
       "      <td>[0.0, 0.0, 1.0, 1.0, 1.0, 1.0, 1.0, 1.0, 1.0, ...</td>\n",
       "      <td>en</td>\n",
       "      <td>0.748462</td>\n",
       "      <td>0.700000</td>\n",
       "      <td>7</td>\n",
       "      <td>3</td>\n",
       "      <td>5</td>\n",
       "    </tr>\n",
       "    <tr>\n",
       "      <th>3</th>\n",
       "      <td>Trans Day of Vengeance canceled</td>\n",
       "      <td>[0.66599166, 0.75562954, 0.86077154, 0.9019486...</td>\n",
       "      <td>0</td>\n",
       "      <td>[1.0, 1.0, 1.0, 1.0, 1.0, 1.0, 1.0, 1.0, 1.0, ...</td>\n",
       "      <td>en</td>\n",
       "      <td>0.748899</td>\n",
       "      <td>1.000000</td>\n",
       "      <td>9</td>\n",
       "      <td>0</td>\n",
       "      <td>6</td>\n",
       "    </tr>\n",
       "    <tr>\n",
       "      <th>4</th>\n",
       "      <td>Sending depleted uranium munitions to Ukraine ...</td>\n",
       "      <td>[0.7387432, 0.8113823, 0.68604004, 0.75870275,...</td>\n",
       "      <td>0</td>\n",
       "      <td>[1.0, 1.0, 1.0, 0.0, 1.0, 1.0, 1.0, 1.0, 1.0, ...</td>\n",
       "      <td>en</td>\n",
       "      <td>0.707473</td>\n",
       "      <td>0.888889</td>\n",
       "      <td>8</td>\n",
       "      <td>1</td>\n",
       "      <td>6</td>\n",
       "    </tr>\n",
       "  </tbody>\n",
       "</table>\n",
       "</div>"
      ],
      "text/plain": [
       "                                                text   \n",
       "0  WEF Chauffeur Admits VIP Elites Refuse To Ride...  \\\n",
       "1  Avi Silverberg – Bearded biological male power...   \n",
       "2  Children Of All Ages Welcome To Disneylands LG...   \n",
       "3                    Trans Day of Vengeance canceled   \n",
       "4  Sending depleted uranium munitions to Ukraine ...   \n",
       "\n",
       "                                   similarity values  label   \n",
       "0  [0.9647811, 0.7166927, 0.60091877, 0.4730269, ...      0  \\\n",
       "1  [0.69429016, 0.69429016, 0.6753232, 0.58485216...      0   \n",
       "2  [0.7584161, 0.7584161, 0.9500826, 0.9500826, 0...      0   \n",
       "3  [0.66599166, 0.75562954, 0.86077154, 0.9019486...      0   \n",
       "4  [0.7387432, 0.8113823, 0.68604004, 0.75870275,...      0   \n",
       "\n",
       "                                         predictions language  sim mean   \n",
       "0  [0.0, 0.0, 0.0, 1.0, 1.0, 0.0, 1.0, 1.0, nan, ...       en  0.574948  \\\n",
       "1  [1.0, 1.0, 1.0, 1.0, 1.0, 1.0, 1.0, 1.0, 1.0, ...       en  0.689895   \n",
       "2  [0.0, 0.0, 1.0, 1.0, 1.0, 1.0, 1.0, 1.0, 1.0, ...       en  0.748462   \n",
       "3  [1.0, 1.0, 1.0, 1.0, 1.0, 1.0, 1.0, 1.0, 1.0, ...       en  0.748899   \n",
       "4  [1.0, 1.0, 1.0, 0.0, 1.0, 1.0, 1.0, 1.0, 1.0, ...       en  0.707473   \n",
       "\n",
       "   pred mean  n real predicted  n fake predicted  n nan predicted  \n",
       "0   0.500000                 4                 4                7  \n",
       "1   0.769231                10                 3                2  \n",
       "2   0.700000                 7                 3                5  \n",
       "3   1.000000                 9                 0                6  \n",
       "4   0.888889                 8                 1                6  "
      ]
     },
     "execution_count": 4,
     "metadata": {},
     "output_type": "execute_result"
    }
   ],
   "source": [
    "exclude_df = exclude_df[exclude_df['language'] == 'en']\n",
    "exclude_df.head()"
   ]
  },
  {
   "cell_type": "code",
   "execution_count": 5,
   "metadata": {},
   "outputs": [],
   "source": [
    "exclude_text = exclude_df.text.values"
   ]
  },
  {
   "cell_type": "code",
   "execution_count": 6,
   "metadata": {},
   "outputs": [
    {
     "data": {
      "text/plain": [
       "(60,)"
      ]
     },
     "execution_count": 6,
     "metadata": {},
     "output_type": "execute_result"
    }
   ],
   "source": [
    "exclude_text.shape"
   ]
  },
  {
   "cell_type": "code",
   "execution_count": 7,
   "metadata": {},
   "outputs": [],
   "source": [
    "df = pd.read_pickle('English_Headlines_EngFeatures.pkl')"
   ]
  },
  {
   "cell_type": "code",
   "execution_count": 8,
   "metadata": {},
   "outputs": [],
   "source": [
    "df = df.rename(columns={\"Statement\": \"text\", \"Rating\": \"labels\"})"
   ]
  },
  {
   "cell_type": "code",
   "execution_count": 9,
   "metadata": {},
   "outputs": [
    {
     "data": {
      "text/html": [
       "<div>\n",
       "<style scoped>\n",
       "    .dataframe tbody tr th:only-of-type {\n",
       "        vertical-align: middle;\n",
       "    }\n",
       "\n",
       "    .dataframe tbody tr th {\n",
       "        vertical-align: top;\n",
       "    }\n",
       "\n",
       "    .dataframe thead th {\n",
       "        text-align: right;\n",
       "    }\n",
       "</style>\n",
       "<table border=\"1\" class=\"dataframe\">\n",
       "  <thead>\n",
       "    <tr style=\"text-align: right;\">\n",
       "      <th></th>\n",
       "      <th>text</th>\n",
       "      <th>labels</th>\n",
       "      <th>cleaned</th>\n",
       "      <th>cleaned tokenized</th>\n",
       "      <th>tokens</th>\n",
       "      <th>statement length</th>\n",
       "      <th>word count</th>\n",
       "      <th>sentence count</th>\n",
       "      <th>unique words</th>\n",
       "      <th>lexical richness</th>\n",
       "      <th>...</th>\n",
       "      <th>numerical%</th>\n",
       "      <th>sexual anatomy / sexual acts</th>\n",
       "      <th>bodily fluids / excrement</th>\n",
       "      <th>sexual orientation / gender</th>\n",
       "      <th>racial / ethnic slurs</th>\n",
       "      <th>animal references</th>\n",
       "      <th>internet slang</th>\n",
       "      <th>profanity_level</th>\n",
       "      <th>bigrams</th>\n",
       "      <th>trigrams</th>\n",
       "    </tr>\n",
       "  </thead>\n",
       "  <tbody>\n",
       "    <tr>\n",
       "      <th>0</th>\n",
       "      <td>Changing our clocks is a health hazard. Just a...</td>\n",
       "      <td>1</td>\n",
       "      <td>changing clocks health hazard ask sleep doctor</td>\n",
       "      <td>[changing, clock, health, hazard, ., ask, slee...</td>\n",
       "      <td>[Changing, our, clocks, is, a, health, hazard,...</td>\n",
       "      <td>13</td>\n",
       "      <td>46</td>\n",
       "      <td>2</td>\n",
       "      <td>11</td>\n",
       "      <td>40.32</td>\n",
       "      <td>...</td>\n",
       "      <td>0.000000</td>\n",
       "      <td>0.0</td>\n",
       "      <td>0.0</td>\n",
       "      <td>0.0</td>\n",
       "      <td>0.0</td>\n",
       "      <td>0.0</td>\n",
       "      <td>0.000000</td>\n",
       "      <td>0.012298</td>\n",
       "      <td>[changing clocks, clocks health, health hazard...</td>\n",
       "      <td>[changing clocks health, clocks health hazard,...</td>\n",
       "    </tr>\n",
       "    <tr>\n",
       "      <th>1</th>\n",
       "      <td>How the Alec Baldwin fatal film set shooting u...</td>\n",
       "      <td>1</td>\n",
       "      <td>alec baldwin fatal film set shooting unfolded</td>\n",
       "      <td>[alec, baldwin, fatal, film, set, shooting, un...</td>\n",
       "      <td>[How, the, Alec, Baldwin, fatal, film, set, sh...</td>\n",
       "      <td>9</td>\n",
       "      <td>45</td>\n",
       "      <td>1</td>\n",
       "      <td>9</td>\n",
       "      <td>9.00</td>\n",
       "      <td>...</td>\n",
       "      <td>0.000000</td>\n",
       "      <td>0.0</td>\n",
       "      <td>0.0</td>\n",
       "      <td>0.0</td>\n",
       "      <td>0.0</td>\n",
       "      <td>0.0</td>\n",
       "      <td>0.000000</td>\n",
       "      <td>0.025994</td>\n",
       "      <td>[alec baldwin, baldwin fatal, fatal film, film...</td>\n",
       "      <td>[alec baldwin fatal, baldwin fatal film, fatal...</td>\n",
       "    </tr>\n",
       "    <tr>\n",
       "      <th>2</th>\n",
       "      <td>A 90-year-old tortoise named Mr. Pickles just ...</td>\n",
       "      <td>1</td>\n",
       "      <td>90 year old tortoise named mr pickles became f...</td>\n",
       "      <td>[90-year-old, tortoise, named, mr., pickle, be...</td>\n",
       "      <td>[A, 90-year-old, tortoise, named, Mr., Pickles...</td>\n",
       "      <td>19</td>\n",
       "      <td>62</td>\n",
       "      <td>2</td>\n",
       "      <td>17</td>\n",
       "      <td>35.84</td>\n",
       "      <td>...</td>\n",
       "      <td>0.052632</td>\n",
       "      <td>0.0</td>\n",
       "      <td>0.0</td>\n",
       "      <td>0.0</td>\n",
       "      <td>0.0</td>\n",
       "      <td>0.0</td>\n",
       "      <td>0.000000</td>\n",
       "      <td>0.031957</td>\n",
       "      <td>[90 year, year old, old tortoise, tortoise nam...</td>\n",
       "      <td>[90 year old, year old tortoise, old tortoise ...</td>\n",
       "    </tr>\n",
       "    <tr>\n",
       "      <th>3</th>\n",
       "      <td>Alabama governor ousts a top education officia...</td>\n",
       "      <td>1</td>\n",
       "      <td>alabama governor ousts top education official ...</td>\n",
       "      <td>[alabama, governor, ousts, top, education, off...</td>\n",
       "      <td>[Alabama, governor, ousts, a, top, education, ...</td>\n",
       "      <td>17</td>\n",
       "      <td>69</td>\n",
       "      <td>1</td>\n",
       "      <td>14</td>\n",
       "      <td>63.00</td>\n",
       "      <td>...</td>\n",
       "      <td>0.000000</td>\n",
       "      <td>0.0</td>\n",
       "      <td>0.0</td>\n",
       "      <td>0.0</td>\n",
       "      <td>0.0</td>\n",
       "      <td>0.0</td>\n",
       "      <td>0.000000</td>\n",
       "      <td>0.010403</td>\n",
       "      <td>[alabama governor, governor ousts, ousts top, ...</td>\n",
       "      <td>[alabama governor ousts, governor ousts top, o...</td>\n",
       "    </tr>\n",
       "    <tr>\n",
       "      <th>4</th>\n",
       "      <td>2 people are dead, 20 missing, as a migrant bo...</td>\n",
       "      <td>1</td>\n",
       "      <td>2 people dead 20 missing migrant boat sinks co...</td>\n",
       "      <td>[2, people, dead, ,, 20, missing, ,, migrant, ...</td>\n",
       "      <td>[2, people, are, dead, ,, 20, missing, ,, as, ...</td>\n",
       "      <td>18</td>\n",
       "      <td>57</td>\n",
       "      <td>1</td>\n",
       "      <td>16</td>\n",
       "      <td>14.00</td>\n",
       "      <td>...</td>\n",
       "      <td>0.111111</td>\n",
       "      <td>0.0</td>\n",
       "      <td>0.0</td>\n",
       "      <td>0.0</td>\n",
       "      <td>0.0</td>\n",
       "      <td>0.0</td>\n",
       "      <td>0.000000</td>\n",
       "      <td>0.065102</td>\n",
       "      <td>[2 people, people dead, dead 20, 20 missing, m...</td>\n",
       "      <td>[2 people dead, people dead 20, dead 20 missin...</td>\n",
       "    </tr>\n",
       "    <tr>\n",
       "      <th>...</th>\n",
       "      <td>...</td>\n",
       "      <td>...</td>\n",
       "      <td>...</td>\n",
       "      <td>...</td>\n",
       "      <td>...</td>\n",
       "      <td>...</td>\n",
       "      <td>...</td>\n",
       "      <td>...</td>\n",
       "      <td>...</td>\n",
       "      <td>...</td>\n",
       "      <td>...</td>\n",
       "      <td>...</td>\n",
       "      <td>...</td>\n",
       "      <td>...</td>\n",
       "      <td>...</td>\n",
       "      <td>...</td>\n",
       "      <td>...</td>\n",
       "      <td>...</td>\n",
       "      <td>...</td>\n",
       "      <td>...</td>\n",
       "      <td>...</td>\n",
       "    </tr>\n",
       "    <tr>\n",
       "      <th>6543</th>\n",
       "      <td>Health Ranger Report: Gregory Mannarino dubs c...</td>\n",
       "      <td>0</td>\n",
       "      <td>health ranger report gregory mannarino dubs ce...</td>\n",
       "      <td>[health, ranger, report, :, gregory, mannarino...</td>\n",
       "      <td>[Health, Ranger, Report, :, Gregory, Mannarino...</td>\n",
       "      <td>17</td>\n",
       "      <td>108</td>\n",
       "      <td>1</td>\n",
       "      <td>15</td>\n",
       "      <td>71.68</td>\n",
       "      <td>...</td>\n",
       "      <td>0.000000</td>\n",
       "      <td>0.0</td>\n",
       "      <td>0.0</td>\n",
       "      <td>0.0</td>\n",
       "      <td>0.0</td>\n",
       "      <td>0.0</td>\n",
       "      <td>0.000000</td>\n",
       "      <td>0.121624</td>\n",
       "      <td>[health ranger, ranger report, report gregory,...</td>\n",
       "      <td>[health ranger report, ranger report gregory, ...</td>\n",
       "    </tr>\n",
       "    <tr>\n",
       "      <th>6544</th>\n",
       "      <td>Trans Activist Threatens Women Who Try To Stop...</td>\n",
       "      <td>0</td>\n",
       "      <td>trans activist threatens women try stop using ...</td>\n",
       "      <td>[trans, activist, threatens, woman, try, stop,...</td>\n",
       "      <td>[Trans, Activist, Threatens, Women, Who, Try, ...</td>\n",
       "      <td>14</td>\n",
       "      <td>55</td>\n",
       "      <td>1</td>\n",
       "      <td>14</td>\n",
       "      <td>12.00</td>\n",
       "      <td>...</td>\n",
       "      <td>0.000000</td>\n",
       "      <td>0.0</td>\n",
       "      <td>0.0</td>\n",
       "      <td>0.0</td>\n",
       "      <td>0.0</td>\n",
       "      <td>0.0</td>\n",
       "      <td>0.071429</td>\n",
       "      <td>0.120767</td>\n",
       "      <td>[trans activist, activist threatens, threatens...</td>\n",
       "      <td>[trans activist threatens, activist threatens ...</td>\n",
       "    </tr>\n",
       "    <tr>\n",
       "      <th>6545</th>\n",
       "      <td>Justin Trudeau Announces $5.5 Million To ‘Cens...</td>\n",
       "      <td>0</td>\n",
       "      <td>justin trudeau announces 5 5 million censor in...</td>\n",
       "      <td>[justin, trudeau, announces, $, 5.5, million, ...</td>\n",
       "      <td>[Justin, Trudeau, Announces, $, 5.5, Million, ...</td>\n",
       "      <td>12</td>\n",
       "      <td>61</td>\n",
       "      <td>1</td>\n",
       "      <td>12</td>\n",
       "      <td>8.00</td>\n",
       "      <td>...</td>\n",
       "      <td>0.083333</td>\n",
       "      <td>0.0</td>\n",
       "      <td>0.0</td>\n",
       "      <td>0.0</td>\n",
       "      <td>0.0</td>\n",
       "      <td>0.0</td>\n",
       "      <td>0.083333</td>\n",
       "      <td>0.196001</td>\n",
       "      <td>[justin trudeau, trudeau announces, announces ...</td>\n",
       "      <td>[justin trudeau announces, trudeau announces 5...</td>\n",
       "    </tr>\n",
       "    <tr>\n",
       "      <th>6546</th>\n",
       "      <td>Rasmussen final Generic Congressional Ballot: ...</td>\n",
       "      <td>0</td>\n",
       "      <td>rasmussen final generic congressional ballot 4...</td>\n",
       "      <td>[rasmussen, final, generic, congressional, bal...</td>\n",
       "      <td>[Rasmussen, final, Generic, Congressional, Bal...</td>\n",
       "      <td>19</td>\n",
       "      <td>84</td>\n",
       "      <td>1</td>\n",
       "      <td>14</td>\n",
       "      <td>33.88</td>\n",
       "      <td>...</td>\n",
       "      <td>0.111111</td>\n",
       "      <td>0.0</td>\n",
       "      <td>0.0</td>\n",
       "      <td>0.0</td>\n",
       "      <td>0.0</td>\n",
       "      <td>0.0</td>\n",
       "      <td>0.000000</td>\n",
       "      <td>0.192476</td>\n",
       "      <td>[rasmussen final, final generic, generic congr...</td>\n",
       "      <td>[rasmussen final generic, final generic congre...</td>\n",
       "    </tr>\n",
       "    <tr>\n",
       "      <th>6547</th>\n",
       "      <td>Kevin McCarthy caves (as expected), appoints I...</td>\n",
       "      <td>0</td>\n",
       "      <td>kevin mccarthy caves expected appoints ilhan o...</td>\n",
       "      <td>[kevin, mccarthy, cave, (, expected, ), ,, app...</td>\n",
       "      <td>[Kevin, McCarthy, caves, (, as, expected, ), ,...</td>\n",
       "      <td>16</td>\n",
       "      <td>81</td>\n",
       "      <td>1</td>\n",
       "      <td>16</td>\n",
       "      <td>13.00</td>\n",
       "      <td>...</td>\n",
       "      <td>0.000000</td>\n",
       "      <td>0.0</td>\n",
       "      <td>0.0</td>\n",
       "      <td>0.0</td>\n",
       "      <td>0.0</td>\n",
       "      <td>0.0</td>\n",
       "      <td>0.062500</td>\n",
       "      <td>0.008468</td>\n",
       "      <td>[kevin mccarthy, mccarthy caves, caves expecte...</td>\n",
       "      <td>[kevin mccarthy caves, mccarthy caves expected...</td>\n",
       "    </tr>\n",
       "  </tbody>\n",
       "</table>\n",
       "<p>6548 rows × 53 columns</p>\n",
       "</div>"
      ],
      "text/plain": [
       "                                                   text  labels   \n",
       "0     Changing our clocks is a health hazard. Just a...       1  \\\n",
       "1     How the Alec Baldwin fatal film set shooting u...       1   \n",
       "2     A 90-year-old tortoise named Mr. Pickles just ...       1   \n",
       "3     Alabama governor ousts a top education officia...       1   \n",
       "4     2 people are dead, 20 missing, as a migrant bo...       1   \n",
       "...                                                 ...     ...   \n",
       "6543  Health Ranger Report: Gregory Mannarino dubs c...       0   \n",
       "6544  Trans Activist Threatens Women Who Try To Stop...       0   \n",
       "6545  Justin Trudeau Announces $5.5 Million To ‘Cens...       0   \n",
       "6546  Rasmussen final Generic Congressional Ballot: ...       0   \n",
       "6547  Kevin McCarthy caves (as expected), appoints I...       0   \n",
       "\n",
       "                                                cleaned   \n",
       "0        changing clocks health hazard ask sleep doctor  \\\n",
       "1         alec baldwin fatal film set shooting unfolded   \n",
       "2     90 year old tortoise named mr pickles became f...   \n",
       "3     alabama governor ousts top education official ...   \n",
       "4     2 people dead 20 missing migrant boat sinks co...   \n",
       "...                                                 ...   \n",
       "6543  health ranger report gregory mannarino dubs ce...   \n",
       "6544  trans activist threatens women try stop using ...   \n",
       "6545  justin trudeau announces 5 5 million censor in...   \n",
       "6546  rasmussen final generic congressional ballot 4...   \n",
       "6547  kevin mccarthy caves expected appoints ilhan o...   \n",
       "\n",
       "                                      cleaned tokenized   \n",
       "0     [changing, clock, health, hazard, ., ask, slee...  \\\n",
       "1     [alec, baldwin, fatal, film, set, shooting, un...   \n",
       "2     [90-year-old, tortoise, named, mr., pickle, be...   \n",
       "3     [alabama, governor, ousts, top, education, off...   \n",
       "4     [2, people, dead, ,, 20, missing, ,, migrant, ...   \n",
       "...                                                 ...   \n",
       "6543  [health, ranger, report, :, gregory, mannarino...   \n",
       "6544  [trans, activist, threatens, woman, try, stop,...   \n",
       "6545  [justin, trudeau, announces, $, 5.5, million, ...   \n",
       "6546  [rasmussen, final, generic, congressional, bal...   \n",
       "6547  [kevin, mccarthy, cave, (, expected, ), ,, app...   \n",
       "\n",
       "                                                 tokens  statement length   \n",
       "0     [Changing, our, clocks, is, a, health, hazard,...                13  \\\n",
       "1     [How, the, Alec, Baldwin, fatal, film, set, sh...                 9   \n",
       "2     [A, 90-year-old, tortoise, named, Mr., Pickles...                19   \n",
       "3     [Alabama, governor, ousts, a, top, education, ...                17   \n",
       "4     [2, people, are, dead, ,, 20, missing, ,, as, ...                18   \n",
       "...                                                 ...               ...   \n",
       "6543  [Health, Ranger, Report, :, Gregory, Mannarino...                17   \n",
       "6544  [Trans, Activist, Threatens, Women, Who, Try, ...                14   \n",
       "6545  [Justin, Trudeau, Announces, $, 5.5, Million, ...                12   \n",
       "6546  [Rasmussen, final, Generic, Congressional, Bal...                19   \n",
       "6547  [Kevin, McCarthy, caves, (, as, expected, ), ,...                16   \n",
       "\n",
       "      word count  sentence count  unique words  lexical richness  ...   \n",
       "0             46               2            11             40.32  ...  \\\n",
       "1             45               1             9              9.00  ...   \n",
       "2             62               2            17             35.84  ...   \n",
       "3             69               1            14             63.00  ...   \n",
       "4             57               1            16             14.00  ...   \n",
       "...          ...             ...           ...               ...  ...   \n",
       "6543         108               1            15             71.68  ...   \n",
       "6544          55               1            14             12.00  ...   \n",
       "6545          61               1            12              8.00  ...   \n",
       "6546          84               1            14             33.88  ...   \n",
       "6547          81               1            16             13.00  ...   \n",
       "\n",
       "      numerical%  sexual anatomy / sexual acts  bodily fluids / excrement   \n",
       "0       0.000000                           0.0                        0.0  \\\n",
       "1       0.000000                           0.0                        0.0   \n",
       "2       0.052632                           0.0                        0.0   \n",
       "3       0.000000                           0.0                        0.0   \n",
       "4       0.111111                           0.0                        0.0   \n",
       "...          ...                           ...                        ...   \n",
       "6543    0.000000                           0.0                        0.0   \n",
       "6544    0.000000                           0.0                        0.0   \n",
       "6545    0.083333                           0.0                        0.0   \n",
       "6546    0.111111                           0.0                        0.0   \n",
       "6547    0.000000                           0.0                        0.0   \n",
       "\n",
       "      sexual orientation / gender  racial / ethnic slurs  animal references   \n",
       "0                             0.0                    0.0                0.0  \\\n",
       "1                             0.0                    0.0                0.0   \n",
       "2                             0.0                    0.0                0.0   \n",
       "3                             0.0                    0.0                0.0   \n",
       "4                             0.0                    0.0                0.0   \n",
       "...                           ...                    ...                ...   \n",
       "6543                          0.0                    0.0                0.0   \n",
       "6544                          0.0                    0.0                0.0   \n",
       "6545                          0.0                    0.0                0.0   \n",
       "6546                          0.0                    0.0                0.0   \n",
       "6547                          0.0                    0.0                0.0   \n",
       "\n",
       "      internet slang  profanity_level   \n",
       "0           0.000000         0.012298  \\\n",
       "1           0.000000         0.025994   \n",
       "2           0.000000         0.031957   \n",
       "3           0.000000         0.010403   \n",
       "4           0.000000         0.065102   \n",
       "...              ...              ...   \n",
       "6543        0.000000         0.121624   \n",
       "6544        0.071429         0.120767   \n",
       "6545        0.083333         0.196001   \n",
       "6546        0.000000         0.192476   \n",
       "6547        0.062500         0.008468   \n",
       "\n",
       "                                                bigrams   \n",
       "0     [changing clocks, clocks health, health hazard...  \\\n",
       "1     [alec baldwin, baldwin fatal, fatal film, film...   \n",
       "2     [90 year, year old, old tortoise, tortoise nam...   \n",
       "3     [alabama governor, governor ousts, ousts top, ...   \n",
       "4     [2 people, people dead, dead 20, 20 missing, m...   \n",
       "...                                                 ...   \n",
       "6543  [health ranger, ranger report, report gregory,...   \n",
       "6544  [trans activist, activist threatens, threatens...   \n",
       "6545  [justin trudeau, trudeau announces, announces ...   \n",
       "6546  [rasmussen final, final generic, generic congr...   \n",
       "6547  [kevin mccarthy, mccarthy caves, caves expecte...   \n",
       "\n",
       "                                               trigrams  \n",
       "0     [changing clocks health, clocks health hazard,...  \n",
       "1     [alec baldwin fatal, baldwin fatal film, fatal...  \n",
       "2     [90 year old, year old tortoise, old tortoise ...  \n",
       "3     [alabama governor ousts, governor ousts top, o...  \n",
       "4     [2 people dead, people dead 20, dead 20 missin...  \n",
       "...                                                 ...  \n",
       "6543  [health ranger report, ranger report gregory, ...  \n",
       "6544  [trans activist threatens, activist threatens ...  \n",
       "6545  [justin trudeau announces, trudeau announces 5...  \n",
       "6546  [rasmussen final generic, final generic congre...  \n",
       "6547  [kevin mccarthy caves, mccarthy caves expected...  \n",
       "\n",
       "[6548 rows x 53 columns]"
      ]
     },
     "execution_count": 9,
     "metadata": {},
     "output_type": "execute_result"
    }
   ],
   "source": [
    "df"
   ]
  },
  {
   "cell_type": "code",
   "execution_count": 10,
   "metadata": {},
   "outputs": [],
   "source": [
    "df = df[~df['text'].isin(exclude_text)]"
   ]
  },
  {
   "cell_type": "code",
   "execution_count": 11,
   "metadata": {},
   "outputs": [
    {
     "data": {
      "text/html": [
       "<div>\n",
       "<style scoped>\n",
       "    .dataframe tbody tr th:only-of-type {\n",
       "        vertical-align: middle;\n",
       "    }\n",
       "\n",
       "    .dataframe tbody tr th {\n",
       "        vertical-align: top;\n",
       "    }\n",
       "\n",
       "    .dataframe thead th {\n",
       "        text-align: right;\n",
       "    }\n",
       "</style>\n",
       "<table border=\"1\" class=\"dataframe\">\n",
       "  <thead>\n",
       "    <tr style=\"text-align: right;\">\n",
       "      <th></th>\n",
       "      <th>text</th>\n",
       "      <th>labels</th>\n",
       "      <th>cleaned</th>\n",
       "      <th>cleaned tokenized</th>\n",
       "      <th>tokens</th>\n",
       "      <th>statement length</th>\n",
       "      <th>word count</th>\n",
       "      <th>sentence count</th>\n",
       "      <th>unique words</th>\n",
       "      <th>lexical richness</th>\n",
       "      <th>...</th>\n",
       "      <th>numerical%</th>\n",
       "      <th>sexual anatomy / sexual acts</th>\n",
       "      <th>bodily fluids / excrement</th>\n",
       "      <th>sexual orientation / gender</th>\n",
       "      <th>racial / ethnic slurs</th>\n",
       "      <th>animal references</th>\n",
       "      <th>internet slang</th>\n",
       "      <th>profanity_level</th>\n",
       "      <th>bigrams</th>\n",
       "      <th>trigrams</th>\n",
       "    </tr>\n",
       "  </thead>\n",
       "  <tbody>\n",
       "    <tr>\n",
       "      <th>0</th>\n",
       "      <td>Changing our clocks is a health hazard. Just a...</td>\n",
       "      <td>1</td>\n",
       "      <td>changing clocks health hazard ask sleep doctor</td>\n",
       "      <td>[changing, clock, health, hazard, ., ask, slee...</td>\n",
       "      <td>[Changing, our, clocks, is, a, health, hazard,...</td>\n",
       "      <td>13</td>\n",
       "      <td>46</td>\n",
       "      <td>2</td>\n",
       "      <td>11</td>\n",
       "      <td>40.32</td>\n",
       "      <td>...</td>\n",
       "      <td>0.000000</td>\n",
       "      <td>0.0</td>\n",
       "      <td>0.0</td>\n",
       "      <td>0.0</td>\n",
       "      <td>0.0</td>\n",
       "      <td>0.0</td>\n",
       "      <td>0.000000</td>\n",
       "      <td>0.012298</td>\n",
       "      <td>[changing clocks, clocks health, health hazard...</td>\n",
       "      <td>[changing clocks health, clocks health hazard,...</td>\n",
       "    </tr>\n",
       "    <tr>\n",
       "      <th>1</th>\n",
       "      <td>How the Alec Baldwin fatal film set shooting u...</td>\n",
       "      <td>1</td>\n",
       "      <td>alec baldwin fatal film set shooting unfolded</td>\n",
       "      <td>[alec, baldwin, fatal, film, set, shooting, un...</td>\n",
       "      <td>[How, the, Alec, Baldwin, fatal, film, set, sh...</td>\n",
       "      <td>9</td>\n",
       "      <td>45</td>\n",
       "      <td>1</td>\n",
       "      <td>9</td>\n",
       "      <td>9.00</td>\n",
       "      <td>...</td>\n",
       "      <td>0.000000</td>\n",
       "      <td>0.0</td>\n",
       "      <td>0.0</td>\n",
       "      <td>0.0</td>\n",
       "      <td>0.0</td>\n",
       "      <td>0.0</td>\n",
       "      <td>0.000000</td>\n",
       "      <td>0.025994</td>\n",
       "      <td>[alec baldwin, baldwin fatal, fatal film, film...</td>\n",
       "      <td>[alec baldwin fatal, baldwin fatal film, fatal...</td>\n",
       "    </tr>\n",
       "    <tr>\n",
       "      <th>2</th>\n",
       "      <td>A 90-year-old tortoise named Mr. Pickles just ...</td>\n",
       "      <td>1</td>\n",
       "      <td>90 year old tortoise named mr pickles became f...</td>\n",
       "      <td>[90-year-old, tortoise, named, mr., pickle, be...</td>\n",
       "      <td>[A, 90-year-old, tortoise, named, Mr., Pickles...</td>\n",
       "      <td>19</td>\n",
       "      <td>62</td>\n",
       "      <td>2</td>\n",
       "      <td>17</td>\n",
       "      <td>35.84</td>\n",
       "      <td>...</td>\n",
       "      <td>0.052632</td>\n",
       "      <td>0.0</td>\n",
       "      <td>0.0</td>\n",
       "      <td>0.0</td>\n",
       "      <td>0.0</td>\n",
       "      <td>0.0</td>\n",
       "      <td>0.000000</td>\n",
       "      <td>0.031957</td>\n",
       "      <td>[90 year, year old, old tortoise, tortoise nam...</td>\n",
       "      <td>[90 year old, year old tortoise, old tortoise ...</td>\n",
       "    </tr>\n",
       "    <tr>\n",
       "      <th>3</th>\n",
       "      <td>Alabama governor ousts a top education officia...</td>\n",
       "      <td>1</td>\n",
       "      <td>alabama governor ousts top education official ...</td>\n",
       "      <td>[alabama, governor, ousts, top, education, off...</td>\n",
       "      <td>[Alabama, governor, ousts, a, top, education, ...</td>\n",
       "      <td>17</td>\n",
       "      <td>69</td>\n",
       "      <td>1</td>\n",
       "      <td>14</td>\n",
       "      <td>63.00</td>\n",
       "      <td>...</td>\n",
       "      <td>0.000000</td>\n",
       "      <td>0.0</td>\n",
       "      <td>0.0</td>\n",
       "      <td>0.0</td>\n",
       "      <td>0.0</td>\n",
       "      <td>0.0</td>\n",
       "      <td>0.000000</td>\n",
       "      <td>0.010403</td>\n",
       "      <td>[alabama governor, governor ousts, ousts top, ...</td>\n",
       "      <td>[alabama governor ousts, governor ousts top, o...</td>\n",
       "    </tr>\n",
       "    <tr>\n",
       "      <th>4</th>\n",
       "      <td>2 people are dead, 20 missing, as a migrant bo...</td>\n",
       "      <td>1</td>\n",
       "      <td>2 people dead 20 missing migrant boat sinks co...</td>\n",
       "      <td>[2, people, dead, ,, 20, missing, ,, migrant, ...</td>\n",
       "      <td>[2, people, are, dead, ,, 20, missing, ,, as, ...</td>\n",
       "      <td>18</td>\n",
       "      <td>57</td>\n",
       "      <td>1</td>\n",
       "      <td>16</td>\n",
       "      <td>14.00</td>\n",
       "      <td>...</td>\n",
       "      <td>0.111111</td>\n",
       "      <td>0.0</td>\n",
       "      <td>0.0</td>\n",
       "      <td>0.0</td>\n",
       "      <td>0.0</td>\n",
       "      <td>0.0</td>\n",
       "      <td>0.000000</td>\n",
       "      <td>0.065102</td>\n",
       "      <td>[2 people, people dead, dead 20, 20 missing, m...</td>\n",
       "      <td>[2 people dead, people dead 20, dead 20 missin...</td>\n",
       "    </tr>\n",
       "    <tr>\n",
       "      <th>...</th>\n",
       "      <td>...</td>\n",
       "      <td>...</td>\n",
       "      <td>...</td>\n",
       "      <td>...</td>\n",
       "      <td>...</td>\n",
       "      <td>...</td>\n",
       "      <td>...</td>\n",
       "      <td>...</td>\n",
       "      <td>...</td>\n",
       "      <td>...</td>\n",
       "      <td>...</td>\n",
       "      <td>...</td>\n",
       "      <td>...</td>\n",
       "      <td>...</td>\n",
       "      <td>...</td>\n",
       "      <td>...</td>\n",
       "      <td>...</td>\n",
       "      <td>...</td>\n",
       "      <td>...</td>\n",
       "      <td>...</td>\n",
       "      <td>...</td>\n",
       "    </tr>\n",
       "    <tr>\n",
       "      <th>6543</th>\n",
       "      <td>Health Ranger Report: Gregory Mannarino dubs c...</td>\n",
       "      <td>0</td>\n",
       "      <td>health ranger report gregory mannarino dubs ce...</td>\n",
       "      <td>[health, ranger, report, :, gregory, mannarino...</td>\n",
       "      <td>[Health, Ranger, Report, :, Gregory, Mannarino...</td>\n",
       "      <td>17</td>\n",
       "      <td>108</td>\n",
       "      <td>1</td>\n",
       "      <td>15</td>\n",
       "      <td>71.68</td>\n",
       "      <td>...</td>\n",
       "      <td>0.000000</td>\n",
       "      <td>0.0</td>\n",
       "      <td>0.0</td>\n",
       "      <td>0.0</td>\n",
       "      <td>0.0</td>\n",
       "      <td>0.0</td>\n",
       "      <td>0.000000</td>\n",
       "      <td>0.121624</td>\n",
       "      <td>[health ranger, ranger report, report gregory,...</td>\n",
       "      <td>[health ranger report, ranger report gregory, ...</td>\n",
       "    </tr>\n",
       "    <tr>\n",
       "      <th>6544</th>\n",
       "      <td>Trans Activist Threatens Women Who Try To Stop...</td>\n",
       "      <td>0</td>\n",
       "      <td>trans activist threatens women try stop using ...</td>\n",
       "      <td>[trans, activist, threatens, woman, try, stop,...</td>\n",
       "      <td>[Trans, Activist, Threatens, Women, Who, Try, ...</td>\n",
       "      <td>14</td>\n",
       "      <td>55</td>\n",
       "      <td>1</td>\n",
       "      <td>14</td>\n",
       "      <td>12.00</td>\n",
       "      <td>...</td>\n",
       "      <td>0.000000</td>\n",
       "      <td>0.0</td>\n",
       "      <td>0.0</td>\n",
       "      <td>0.0</td>\n",
       "      <td>0.0</td>\n",
       "      <td>0.0</td>\n",
       "      <td>0.071429</td>\n",
       "      <td>0.120767</td>\n",
       "      <td>[trans activist, activist threatens, threatens...</td>\n",
       "      <td>[trans activist threatens, activist threatens ...</td>\n",
       "    </tr>\n",
       "    <tr>\n",
       "      <th>6545</th>\n",
       "      <td>Justin Trudeau Announces $5.5 Million To ‘Cens...</td>\n",
       "      <td>0</td>\n",
       "      <td>justin trudeau announces 5 5 million censor in...</td>\n",
       "      <td>[justin, trudeau, announces, $, 5.5, million, ...</td>\n",
       "      <td>[Justin, Trudeau, Announces, $, 5.5, Million, ...</td>\n",
       "      <td>12</td>\n",
       "      <td>61</td>\n",
       "      <td>1</td>\n",
       "      <td>12</td>\n",
       "      <td>8.00</td>\n",
       "      <td>...</td>\n",
       "      <td>0.083333</td>\n",
       "      <td>0.0</td>\n",
       "      <td>0.0</td>\n",
       "      <td>0.0</td>\n",
       "      <td>0.0</td>\n",
       "      <td>0.0</td>\n",
       "      <td>0.083333</td>\n",
       "      <td>0.196001</td>\n",
       "      <td>[justin trudeau, trudeau announces, announces ...</td>\n",
       "      <td>[justin trudeau announces, trudeau announces 5...</td>\n",
       "    </tr>\n",
       "    <tr>\n",
       "      <th>6546</th>\n",
       "      <td>Rasmussen final Generic Congressional Ballot: ...</td>\n",
       "      <td>0</td>\n",
       "      <td>rasmussen final generic congressional ballot 4...</td>\n",
       "      <td>[rasmussen, final, generic, congressional, bal...</td>\n",
       "      <td>[Rasmussen, final, Generic, Congressional, Bal...</td>\n",
       "      <td>19</td>\n",
       "      <td>84</td>\n",
       "      <td>1</td>\n",
       "      <td>14</td>\n",
       "      <td>33.88</td>\n",
       "      <td>...</td>\n",
       "      <td>0.111111</td>\n",
       "      <td>0.0</td>\n",
       "      <td>0.0</td>\n",
       "      <td>0.0</td>\n",
       "      <td>0.0</td>\n",
       "      <td>0.0</td>\n",
       "      <td>0.000000</td>\n",
       "      <td>0.192476</td>\n",
       "      <td>[rasmussen final, final generic, generic congr...</td>\n",
       "      <td>[rasmussen final generic, final generic congre...</td>\n",
       "    </tr>\n",
       "    <tr>\n",
       "      <th>6547</th>\n",
       "      <td>Kevin McCarthy caves (as expected), appoints I...</td>\n",
       "      <td>0</td>\n",
       "      <td>kevin mccarthy caves expected appoints ilhan o...</td>\n",
       "      <td>[kevin, mccarthy, cave, (, expected, ), ,, app...</td>\n",
       "      <td>[Kevin, McCarthy, caves, (, as, expected, ), ,...</td>\n",
       "      <td>16</td>\n",
       "      <td>81</td>\n",
       "      <td>1</td>\n",
       "      <td>16</td>\n",
       "      <td>13.00</td>\n",
       "      <td>...</td>\n",
       "      <td>0.000000</td>\n",
       "      <td>0.0</td>\n",
       "      <td>0.0</td>\n",
       "      <td>0.0</td>\n",
       "      <td>0.0</td>\n",
       "      <td>0.0</td>\n",
       "      <td>0.062500</td>\n",
       "      <td>0.008468</td>\n",
       "      <td>[kevin mccarthy, mccarthy caves, caves expecte...</td>\n",
       "      <td>[kevin mccarthy caves, mccarthy caves expected...</td>\n",
       "    </tr>\n",
       "  </tbody>\n",
       "</table>\n",
       "<p>6488 rows × 53 columns</p>\n",
       "</div>"
      ],
      "text/plain": [
       "                                                   text  labels   \n",
       "0     Changing our clocks is a health hazard. Just a...       1  \\\n",
       "1     How the Alec Baldwin fatal film set shooting u...       1   \n",
       "2     A 90-year-old tortoise named Mr. Pickles just ...       1   \n",
       "3     Alabama governor ousts a top education officia...       1   \n",
       "4     2 people are dead, 20 missing, as a migrant bo...       1   \n",
       "...                                                 ...     ...   \n",
       "6543  Health Ranger Report: Gregory Mannarino dubs c...       0   \n",
       "6544  Trans Activist Threatens Women Who Try To Stop...       0   \n",
       "6545  Justin Trudeau Announces $5.5 Million To ‘Cens...       0   \n",
       "6546  Rasmussen final Generic Congressional Ballot: ...       0   \n",
       "6547  Kevin McCarthy caves (as expected), appoints I...       0   \n",
       "\n",
       "                                                cleaned   \n",
       "0        changing clocks health hazard ask sleep doctor  \\\n",
       "1         alec baldwin fatal film set shooting unfolded   \n",
       "2     90 year old tortoise named mr pickles became f...   \n",
       "3     alabama governor ousts top education official ...   \n",
       "4     2 people dead 20 missing migrant boat sinks co...   \n",
       "...                                                 ...   \n",
       "6543  health ranger report gregory mannarino dubs ce...   \n",
       "6544  trans activist threatens women try stop using ...   \n",
       "6545  justin trudeau announces 5 5 million censor in...   \n",
       "6546  rasmussen final generic congressional ballot 4...   \n",
       "6547  kevin mccarthy caves expected appoints ilhan o...   \n",
       "\n",
       "                                      cleaned tokenized   \n",
       "0     [changing, clock, health, hazard, ., ask, slee...  \\\n",
       "1     [alec, baldwin, fatal, film, set, shooting, un...   \n",
       "2     [90-year-old, tortoise, named, mr., pickle, be...   \n",
       "3     [alabama, governor, ousts, top, education, off...   \n",
       "4     [2, people, dead, ,, 20, missing, ,, migrant, ...   \n",
       "...                                                 ...   \n",
       "6543  [health, ranger, report, :, gregory, mannarino...   \n",
       "6544  [trans, activist, threatens, woman, try, stop,...   \n",
       "6545  [justin, trudeau, announces, $, 5.5, million, ...   \n",
       "6546  [rasmussen, final, generic, congressional, bal...   \n",
       "6547  [kevin, mccarthy, cave, (, expected, ), ,, app...   \n",
       "\n",
       "                                                 tokens  statement length   \n",
       "0     [Changing, our, clocks, is, a, health, hazard,...                13  \\\n",
       "1     [How, the, Alec, Baldwin, fatal, film, set, sh...                 9   \n",
       "2     [A, 90-year-old, tortoise, named, Mr., Pickles...                19   \n",
       "3     [Alabama, governor, ousts, a, top, education, ...                17   \n",
       "4     [2, people, are, dead, ,, 20, missing, ,, as, ...                18   \n",
       "...                                                 ...               ...   \n",
       "6543  [Health, Ranger, Report, :, Gregory, Mannarino...                17   \n",
       "6544  [Trans, Activist, Threatens, Women, Who, Try, ...                14   \n",
       "6545  [Justin, Trudeau, Announces, $, 5.5, Million, ...                12   \n",
       "6546  [Rasmussen, final, Generic, Congressional, Bal...                19   \n",
       "6547  [Kevin, McCarthy, caves, (, as, expected, ), ,...                16   \n",
       "\n",
       "      word count  sentence count  unique words  lexical richness  ...   \n",
       "0             46               2            11             40.32  ...  \\\n",
       "1             45               1             9              9.00  ...   \n",
       "2             62               2            17             35.84  ...   \n",
       "3             69               1            14             63.00  ...   \n",
       "4             57               1            16             14.00  ...   \n",
       "...          ...             ...           ...               ...  ...   \n",
       "6543         108               1            15             71.68  ...   \n",
       "6544          55               1            14             12.00  ...   \n",
       "6545          61               1            12              8.00  ...   \n",
       "6546          84               1            14             33.88  ...   \n",
       "6547          81               1            16             13.00  ...   \n",
       "\n",
       "      numerical%  sexual anatomy / sexual acts  bodily fluids / excrement   \n",
       "0       0.000000                           0.0                        0.0  \\\n",
       "1       0.000000                           0.0                        0.0   \n",
       "2       0.052632                           0.0                        0.0   \n",
       "3       0.000000                           0.0                        0.0   \n",
       "4       0.111111                           0.0                        0.0   \n",
       "...          ...                           ...                        ...   \n",
       "6543    0.000000                           0.0                        0.0   \n",
       "6544    0.000000                           0.0                        0.0   \n",
       "6545    0.083333                           0.0                        0.0   \n",
       "6546    0.111111                           0.0                        0.0   \n",
       "6547    0.000000                           0.0                        0.0   \n",
       "\n",
       "      sexual orientation / gender  racial / ethnic slurs  animal references   \n",
       "0                             0.0                    0.0                0.0  \\\n",
       "1                             0.0                    0.0                0.0   \n",
       "2                             0.0                    0.0                0.0   \n",
       "3                             0.0                    0.0                0.0   \n",
       "4                             0.0                    0.0                0.0   \n",
       "...                           ...                    ...                ...   \n",
       "6543                          0.0                    0.0                0.0   \n",
       "6544                          0.0                    0.0                0.0   \n",
       "6545                          0.0                    0.0                0.0   \n",
       "6546                          0.0                    0.0                0.0   \n",
       "6547                          0.0                    0.0                0.0   \n",
       "\n",
       "      internet slang  profanity_level   \n",
       "0           0.000000         0.012298  \\\n",
       "1           0.000000         0.025994   \n",
       "2           0.000000         0.031957   \n",
       "3           0.000000         0.010403   \n",
       "4           0.000000         0.065102   \n",
       "...              ...              ...   \n",
       "6543        0.000000         0.121624   \n",
       "6544        0.071429         0.120767   \n",
       "6545        0.083333         0.196001   \n",
       "6546        0.000000         0.192476   \n",
       "6547        0.062500         0.008468   \n",
       "\n",
       "                                                bigrams   \n",
       "0     [changing clocks, clocks health, health hazard...  \\\n",
       "1     [alec baldwin, baldwin fatal, fatal film, film...   \n",
       "2     [90 year, year old, old tortoise, tortoise nam...   \n",
       "3     [alabama governor, governor ousts, ousts top, ...   \n",
       "4     [2 people, people dead, dead 20, 20 missing, m...   \n",
       "...                                                 ...   \n",
       "6543  [health ranger, ranger report, report gregory,...   \n",
       "6544  [trans activist, activist threatens, threatens...   \n",
       "6545  [justin trudeau, trudeau announces, announces ...   \n",
       "6546  [rasmussen final, final generic, generic congr...   \n",
       "6547  [kevin mccarthy, mccarthy caves, caves expecte...   \n",
       "\n",
       "                                               trigrams  \n",
       "0     [changing clocks health, clocks health hazard,...  \n",
       "1     [alec baldwin fatal, baldwin fatal film, fatal...  \n",
       "2     [90 year old, year old tortoise, old tortoise ...  \n",
       "3     [alabama governor ousts, governor ousts top, o...  \n",
       "4     [2 people dead, people dead 20, dead 20 missin...  \n",
       "...                                                 ...  \n",
       "6543  [health ranger report, ranger report gregory, ...  \n",
       "6544  [trans activist threatens, activist threatens ...  \n",
       "6545  [justin trudeau announces, trudeau announces 5...  \n",
       "6546  [rasmussen final generic, final generic congre...  \n",
       "6547  [kevin mccarthy caves, mccarthy caves expected...  \n",
       "\n",
       "[6488 rows x 53 columns]"
      ]
     },
     "execution_count": 11,
     "metadata": {},
     "output_type": "execute_result"
    }
   ],
   "source": [
    "df"
   ]
  },
  {
   "cell_type": "code",
   "execution_count": 12,
   "metadata": {},
   "outputs": [],
   "source": [
    "from sklearn.model_selection import train_test_split\n",
    "\n",
    "train_df, valid_df = train_test_split(df, test_size=0.3, random_state=49)\n"
   ]
  },
  {
   "cell_type": "code",
   "execution_count": 13,
   "metadata": {},
   "outputs": [],
   "source": [
    "valid_df, test_df = train_test_split(valid_df, test_size=0.66, random_state=49)\n"
   ]
  },
  {
   "cell_type": "code",
   "execution_count": 14,
   "metadata": {},
   "outputs": [
    {
     "data": {
      "text/plain": [
       "(4541, 53)"
      ]
     },
     "execution_count": 14,
     "metadata": {},
     "output_type": "execute_result"
    }
   ],
   "source": [
    "train_df.shape"
   ]
  },
  {
   "cell_type": "code",
   "execution_count": 15,
   "metadata": {},
   "outputs": [
    {
     "data": {
      "text/plain": [
       "(1286, 53)"
      ]
     },
     "execution_count": 15,
     "metadata": {},
     "output_type": "execute_result"
    }
   ],
   "source": [
    "test_df.shape"
   ]
  },
  {
   "cell_type": "code",
   "execution_count": 16,
   "metadata": {},
   "outputs": [
    {
     "data": {
      "text/plain": [
       "(661, 53)"
      ]
     },
     "execution_count": 16,
     "metadata": {},
     "output_type": "execute_result"
    }
   ],
   "source": [
    "valid_df.shape"
   ]
  },
  {
   "cell_type": "code",
   "execution_count": 17,
   "metadata": {},
   "outputs": [
    {
     "data": {
      "text/plain": [
       "Index(['text', 'labels', 'cleaned', 'cleaned tokenized', 'tokens',\n",
       "       'statement length', 'word count', 'sentence count', 'unique words',\n",
       "       'lexical richness', 'punctuation count', 'capitalized words%',\n",
       "       'period%', 'comma%', 'colon%', 'semicolon%', 'question mark%',\n",
       "       'exclamation mark%', 'dash%', 'apostrophe%', 'open parenthesis%',\n",
       "       'close parenthesis%', 'noun%', 'verbs%', 'present verbs%',\n",
       "       'present 3rd verbs%', 'past participle verbs%', 'past tense verbs',\n",
       "       'personal pronouns%', 'possessive pronouns%', 'wh pronouns%',\n",
       "       'adverbs%', 'comparative adverbs%', 'superlative adverbs%',\n",
       "       'wh adverbs%', 'adjectives%', 'comparative adjectives%',\n",
       "       'superlative adjectives%', 'determiner%', 'foreign%',\n",
       "       'preposition/conjunction%', 'interjection%', 'modal auxilliary%',\n",
       "       'numerical%', 'sexual anatomy / sexual acts',\n",
       "       'bodily fluids / excrement', 'sexual orientation / gender',\n",
       "       'racial / ethnic slurs', 'animal references', 'internet slang',\n",
       "       'profanity_level', 'bigrams', 'trigrams'],\n",
       "      dtype='object')"
      ]
     },
     "execution_count": 17,
     "metadata": {},
     "output_type": "execute_result"
    }
   ],
   "source": [
    "train_df.columns"
   ]
  },
  {
   "cell_type": "code",
   "execution_count": 18,
   "metadata": {},
   "outputs": [],
   "source": [
    "from datasets import Dataset\n",
    "\n",
    "train_data = train_df[['text', 'labels']]\n",
    "train_data.to_dict(orient='list')\n",
    "train_ds = Dataset.from_dict(train_data)\n",
    "\n",
    "\n",
    "test_data = test_df[['text', 'labels']]\n",
    "test_data.to_dict(orient='list')\n",
    "test_ds = Dataset.from_dict(test_data)\n",
    "\n",
    "\n",
    "valid_data = valid_df[['text', 'labels']]\n",
    "valid_data.to_dict(orient='list')\n",
    "valid_ds = Dataset.from_dict(valid_data)"
   ]
  },
  {
   "cell_type": "code",
   "execution_count": 19,
   "metadata": {},
   "outputs": [
    {
     "data": {
      "text/plain": [
       "{'text': 'US Taxpayers Have A ‘Duty’ To Defend Ukraine’s Border From Invasion Janet Yellen Claims',\n",
       " 'labels': 0}"
      ]
     },
     "execution_count": 19,
     "metadata": {},
     "output_type": "execute_result"
    }
   ],
   "source": [
    "train_ds[0]"
   ]
  },
  {
   "cell_type": "code",
   "execution_count": 20,
   "metadata": {},
   "outputs": [],
   "source": [
    "from transformers import AutoTokenizer\n",
    "tokenizer = AutoTokenizer.from_pretrained(\"distilbert-base-uncased\")"
   ]
  },
  {
   "cell_type": "code",
   "execution_count": 21,
   "metadata": {},
   "outputs": [
    {
     "data": {
      "application/vnd.jupyter.widget-view+json": {
       "model_id": "41790bfaccb744e89a73a9afe762081d",
       "version_major": 2,
       "version_minor": 0
      },
      "text/plain": [
       "Map:   0%|          | 0/4541 [00:00<?, ? examples/s]"
      ]
     },
     "metadata": {},
     "output_type": "display_data"
    },
    {
     "data": {
      "application/vnd.jupyter.widget-view+json": {
       "model_id": "4c1c1e342e6c415993d523c7c1b74177",
       "version_major": 2,
       "version_minor": 0
      },
      "text/plain": [
       "Map:   0%|          | 0/1286 [00:00<?, ? examples/s]"
      ]
     },
     "metadata": {},
     "output_type": "display_data"
    }
   ],
   "source": [
    "def preprocess_function(examples):\n",
    "   return tokenizer(examples[\"text\"], truncation=True)\n",
    " \n",
    "tokenized_train = train_ds.map(preprocess_function, batched=True)\n",
    "tokenized_test = test_ds.map(preprocess_function, batched=True)"
   ]
  },
  {
   "cell_type": "code",
   "execution_count": 22,
   "metadata": {},
   "outputs": [],
   "source": [
    "from transformers import DataCollatorWithPadding\n",
    "data_collator = DataCollatorWithPadding(tokenizer=tokenizer)"
   ]
  },
  {
   "cell_type": "code",
   "execution_count": 23,
   "metadata": {},
   "outputs": [
    {
     "name": "stderr",
     "output_type": "stream",
     "text": [
      "Some weights of the model checkpoint at distilbert-base-uncased were not used when initializing DistilBertForSequenceClassification: ['vocab_projector.bias', 'vocab_transform.weight', 'vocab_layer_norm.bias', 'vocab_projector.weight', 'vocab_layer_norm.weight', 'vocab_transform.bias']\n",
      "- This IS expected if you are initializing DistilBertForSequenceClassification from the checkpoint of a model trained on another task or with another architecture (e.g. initializing a BertForSequenceClassification model from a BertForPreTraining model).\n",
      "- This IS NOT expected if you are initializing DistilBertForSequenceClassification from the checkpoint of a model that you expect to be exactly identical (initializing a BertForSequenceClassification model from a BertForSequenceClassification model).\n",
      "Some weights of DistilBertForSequenceClassification were not initialized from the model checkpoint at distilbert-base-uncased and are newly initialized: ['pre_classifier.bias', 'classifier.bias', 'pre_classifier.weight', 'classifier.weight']\n",
      "You should probably TRAIN this model on a down-stream task to be able to use it for predictions and inference.\n"
     ]
    }
   ],
   "source": [
    "from transformers import AutoModelForSequenceClassification\n",
    "model = AutoModelForSequenceClassification.from_pretrained(\"distilbert-base-uncased\", num_labels=2)"
   ]
  },
  {
   "cell_type": "code",
   "execution_count": 24,
   "metadata": {},
   "outputs": [],
   "source": [
    "import numpy as np\n",
    "from datasets import load_metric\n",
    " \n",
    "def compute_metrics(eval_pred):\n",
    "   load_accuracy = load_metric(\"accuracy\")\n",
    "   load_f1 = load_metric(\"f1\")\n",
    "  \n",
    "   logits, labels = eval_pred\n",
    "   predictions = np.argmax(logits, axis=-1)\n",
    "   accuracy = load_accuracy.compute(predictions=predictions, references=labels)[\"accuracy\"]\n",
    "   f1 = load_f1.compute(predictions=predictions, references=labels)[\"f1\"]\n",
    "   return {\"accuracy\": accuracy, \"f1\": f1}"
   ]
  },
  {
   "cell_type": "code",
   "execution_count": 25,
   "metadata": {},
   "outputs": [
    {
     "data": {
      "application/vnd.jupyter.widget-view+json": {
       "model_id": "e4f6e26c531a44c695a0a3b813e26b43",
       "version_major": 2,
       "version_minor": 0
      },
      "text/plain": [
       "VBox(children=(HTML(value='<center> <img\\nsrc=https://huggingface.co/front/assets/huggingface_logo-noborder.sv…"
      ]
     },
     "metadata": {},
     "output_type": "display_data"
    }
   ],
   "source": [
    "from transformers import TrainingArguments, Trainer\n",
    "from huggingface_hub import notebook_login\n",
    "notebook_login()"
   ]
  },
  {
   "cell_type": "code",
   "execution_count": 26,
   "metadata": {},
   "outputs": [],
   "source": [
    "from transformers import TrainingArguments, Trainer"
   ]
  },
  {
   "cell_type": "code",
   "execution_count": 27,
   "metadata": {},
   "outputs": [],
   "source": [
    "folder = r'C:\\Users\\cvaal\\ML2\\Automated Fact Checker\\headline scraping\\transformer-models\\english-headlines'\n",
    "repo_name = 'english-headline-fake-news-classifier-distilbert'\n",
    "training_args = TrainingArguments(\n",
    "   output_dir=repo_name,\n",
    "   learning_rate=2e-5,\n",
    "   per_device_train_batch_size=16,\n",
    "   per_device_eval_batch_size=16,\n",
    "   num_train_epochs=50,\n",
    "   weight_decay=0.01,\n",
    "   save_strategy=\"epoch\",\n",
    "   push_to_hub=False,\n",
    ")\n",
    " \n",
    "trainer = Trainer(\n",
    "   model=model,\n",
    "   args=training_args,\n",
    "   train_dataset=tokenized_train,\n",
    "   eval_dataset=tokenized_test,\n",
    "   tokenizer=tokenizer,\n",
    "   data_collator=data_collator,\n",
    "   compute_metrics=compute_metrics,\n",
    ")"
   ]
  },
  {
   "cell_type": "code",
   "execution_count": 28,
   "metadata": {},
   "outputs": [
    {
     "name": "stderr",
     "output_type": "stream",
     "text": [
      "c:\\Users\\cvaal\\anaconda3\\envs\\pt-tf-py3.10\\lib\\site-packages\\transformers\\optimization.py:391: FutureWarning: This implementation of AdamW is deprecated and will be removed in a future version. Use the PyTorch implementation torch.optim.AdamW instead, or set `no_deprecation_warning=True` to disable this warning\n",
      "  warnings.warn(\n",
      "Failed to detect the name of this notebook, you can set it manually with the WANDB_NOTEBOOK_NAME environment variable to enable code saving.\n",
      "\u001b[34m\u001b[1mwandb\u001b[0m: Logging into wandb.ai. (Learn how to deploy a W&B server locally: https://wandb.me/wandb-server)\n",
      "\u001b[34m\u001b[1mwandb\u001b[0m: You can find your API key in your browser here: https://wandb.ai/authorize\n",
      "\u001b[34m\u001b[1mwandb\u001b[0m: Paste an API key from your profile and hit enter, or press ctrl+c to quit:"
     ]
    }
   ],
   "source": [
    "trainer.train()"
   ]
  },
  {
   "cell_type": "code",
   "execution_count": null,
   "metadata": {},
   "outputs": [
    {
     "data": {
      "application/vnd.jupyter.widget-view+json": {
       "model_id": "ac8dd31fbf2d4c89bb3b11a59faf19b8",
       "version_major": 2,
       "version_minor": 0
      },
      "text/plain": [
       "  0%|          | 0/81 [00:00<?, ?it/s]"
      ]
     },
     "metadata": {},
     "output_type": "display_data"
    },
    {
     "name": "stderr",
     "output_type": "stream",
     "text": [
      "C:\\Users\\cvaal\\AppData\\Local\\Temp\\ipykernel_19620\\1757224399.py:5: FutureWarning: load_metric is deprecated and will be removed in the next major version of datasets. Use 'evaluate.load' instead, from the new library 🤗 Evaluate: https://huggingface.co/docs/evaluate\n",
      "  load_accuracy = load_metric(\"accuracy\")\n"
     ]
    },
    {
     "data": {
      "text/plain": [
       "{'eval_loss': 0.8854415416717529,\n",
       " 'eval_accuracy': 0.9183514774494557,\n",
       " 'eval_f1': 0.9192928516525749,\n",
       " 'eval_runtime': 5.4172,\n",
       " 'eval_samples_per_second': 237.391,\n",
       " 'eval_steps_per_second': 14.952,\n",
       " 'epoch': 50.0}"
      ]
     },
     "execution_count": 38,
     "metadata": {},
     "output_type": "execute_result"
    }
   ],
   "source": [
    "trainer.evaluate()"
   ]
  },
  {
   "cell_type": "code",
   "execution_count": null,
   "metadata": {},
   "outputs": [
    {
     "name": "stderr",
     "output_type": "stream",
     "text": [
      "UsageError: Line magic function `%git` not found.\n"
     ]
    }
   ],
   "source": [
    "%git lfs install"
   ]
  },
  {
   "cell_type": "code",
   "execution_count": null,
   "metadata": {},
   "outputs": [
    {
     "ename": "RepositoryNotFoundError",
     "evalue": "404 Client Error. (Request ID: Root=1-6474a667-2beceed86269bb2d7dc133e9)\n\nRepository Not Found for url: https://huggingface.co/api/models/gloobdoob/english-headline-fake-news-classifier-distilbert.\nPlease make sure you specified the correct `repo_id` and `repo_type`.\nIf you are trying to access a private or gated repo, make sure you are authenticated.",
     "output_type": "error",
     "traceback": [
      "\u001b[1;31m---------------------------------------------------------------------------\u001b[0m",
      "\u001b[1;31mHTTPError\u001b[0m                                 Traceback (most recent call last)",
      "File \u001b[1;32mc:\\Users\\cvaal\\anaconda3\\envs\\torch-gpu-2.0.1\\lib\\site-packages\\huggingface_hub\\utils\\_errors.py:259\u001b[0m, in \u001b[0;36mhf_raise_for_status\u001b[1;34m(response, endpoint_name)\u001b[0m\n\u001b[0;32m    258\u001b[0m \u001b[39mtry\u001b[39;00m:\n\u001b[1;32m--> 259\u001b[0m     response\u001b[39m.\u001b[39;49mraise_for_status()\n\u001b[0;32m    260\u001b[0m \u001b[39mexcept\u001b[39;00m HTTPError \u001b[39mas\u001b[39;00m e:\n",
      "File \u001b[1;32mc:\\Users\\cvaal\\anaconda3\\envs\\torch-gpu-2.0.1\\lib\\site-packages\\requests\\models.py:1021\u001b[0m, in \u001b[0;36mResponse.raise_for_status\u001b[1;34m(self)\u001b[0m\n\u001b[0;32m   1020\u001b[0m \u001b[39mif\u001b[39;00m http_error_msg:\n\u001b[1;32m-> 1021\u001b[0m     \u001b[39mraise\u001b[39;00m HTTPError(http_error_msg, response\u001b[39m=\u001b[39m\u001b[39mself\u001b[39m)\n",
      "\u001b[1;31mHTTPError\u001b[0m: 403 Client Error: Forbidden for url: https://huggingface.co/api/repos/create",
      "\nThe above exception was the direct cause of the following exception:\n",
      "\u001b[1;31mHfHubHTTPError\u001b[0m                            Traceback (most recent call last)",
      "File \u001b[1;32mc:\\Users\\cvaal\\anaconda3\\envs\\torch-gpu-2.0.1\\lib\\site-packages\\huggingface_hub\\hf_api.py:2185\u001b[0m, in \u001b[0;36mHfApi.create_repo\u001b[1;34m(self, repo_id, token, private, repo_type, exist_ok, space_sdk, space_hardware)\u001b[0m\n\u001b[0;32m   2184\u001b[0m \u001b[39mtry\u001b[39;00m:\n\u001b[1;32m-> 2185\u001b[0m     hf_raise_for_status(r)\n\u001b[0;32m   2186\u001b[0m \u001b[39mexcept\u001b[39;00m HTTPError \u001b[39mas\u001b[39;00m err:\n",
      "File \u001b[1;32mc:\\Users\\cvaal\\anaconda3\\envs\\torch-gpu-2.0.1\\lib\\site-packages\\huggingface_hub\\utils\\_errors.py:301\u001b[0m, in \u001b[0;36mhf_raise_for_status\u001b[1;34m(response, endpoint_name)\u001b[0m\n\u001b[0;32m    299\u001b[0m \u001b[39m# Convert `HTTPError` into a `HfHubHTTPError` to display request information\u001b[39;00m\n\u001b[0;32m    300\u001b[0m \u001b[39m# as well (request id and/or server error message)\u001b[39;00m\n\u001b[1;32m--> 301\u001b[0m \u001b[39mraise\u001b[39;00m HfHubHTTPError(\u001b[39mstr\u001b[39m(e), response\u001b[39m=\u001b[39mresponse) \u001b[39mfrom\u001b[39;00m \u001b[39me\u001b[39;00m\n",
      "\u001b[1;31mHfHubHTTPError\u001b[0m: 403 Client Error: Forbidden for url: https://huggingface.co/api/repos/create (Request ID: Root=1-6474a667-2a2a7ca7434d852536bbcfbc)\n\nYou don't have the rights to create a model under this namespace",
      "\nDuring handling of the above exception, another exception occurred:\n",
      "\u001b[1;31mHTTPError\u001b[0m                                 Traceback (most recent call last)",
      "File \u001b[1;32mc:\\Users\\cvaal\\anaconda3\\envs\\torch-gpu-2.0.1\\lib\\site-packages\\huggingface_hub\\utils\\_errors.py:259\u001b[0m, in \u001b[0;36mhf_raise_for_status\u001b[1;34m(response, endpoint_name)\u001b[0m\n\u001b[0;32m    258\u001b[0m \u001b[39mtry\u001b[39;00m:\n\u001b[1;32m--> 259\u001b[0m     response\u001b[39m.\u001b[39;49mraise_for_status()\n\u001b[0;32m    260\u001b[0m \u001b[39mexcept\u001b[39;00m HTTPError \u001b[39mas\u001b[39;00m e:\n",
      "File \u001b[1;32mc:\\Users\\cvaal\\anaconda3\\envs\\torch-gpu-2.0.1\\lib\\site-packages\\requests\\models.py:1021\u001b[0m, in \u001b[0;36mResponse.raise_for_status\u001b[1;34m(self)\u001b[0m\n\u001b[0;32m   1020\u001b[0m \u001b[39mif\u001b[39;00m http_error_msg:\n\u001b[1;32m-> 1021\u001b[0m     \u001b[39mraise\u001b[39;00m HTTPError(http_error_msg, response\u001b[39m=\u001b[39m\u001b[39mself\u001b[39m)\n",
      "\u001b[1;31mHTTPError\u001b[0m: 404 Client Error: Not Found for url: https://huggingface.co/api/models/gloobdoob/english-headline-fake-news-classifier-distilbert",
      "\nThe above exception was the direct cause of the following exception:\n",
      "\u001b[1;31mRepositoryNotFoundError\u001b[0m                   Traceback (most recent call last)",
      "Cell \u001b[1;32mIn[42], line 2\u001b[0m\n\u001b[0;32m      1\u001b[0m \u001b[39mimport\u001b[39;00m \u001b[39mos\u001b[39;00m\n\u001b[1;32m----> 2\u001b[0m trainer\u001b[39m.\u001b[39;49mpush_to_hub()\n",
      "File \u001b[1;32mc:\\Users\\cvaal\\anaconda3\\envs\\torch-gpu-2.0.1\\lib\\site-packages\\transformers\\trainer.py:3639\u001b[0m, in \u001b[0;36mTrainer.push_to_hub\u001b[1;34m(self, commit_message, blocking, **kwargs)\u001b[0m\n\u001b[0;32m   3636\u001b[0m \u001b[39m# If a user calls manually `push_to_hub` with `self.args.push_to_hub = False`, we try to create the repo but\u001b[39;00m\n\u001b[0;32m   3637\u001b[0m \u001b[39m# it might fail.\u001b[39;00m\n\u001b[0;32m   3638\u001b[0m \u001b[39mif\u001b[39;00m \u001b[39mnot\u001b[39;00m \u001b[39mhasattr\u001b[39m(\u001b[39mself\u001b[39m, \u001b[39m\"\u001b[39m\u001b[39mrepo\u001b[39m\u001b[39m\"\u001b[39m):\n\u001b[1;32m-> 3639\u001b[0m     \u001b[39mself\u001b[39;49m\u001b[39m.\u001b[39;49minit_git_repo()\n\u001b[0;32m   3641\u001b[0m model_name \u001b[39m=\u001b[39m kwargs\u001b[39m.\u001b[39mpop(\u001b[39m\"\u001b[39m\u001b[39mmodel_name\u001b[39m\u001b[39m\"\u001b[39m, \u001b[39mNone\u001b[39;00m)\n\u001b[0;32m   3642\u001b[0m \u001b[39mif\u001b[39;00m model_name \u001b[39mis\u001b[39;00m \u001b[39mNone\u001b[39;00m \u001b[39mand\u001b[39;00m \u001b[39mself\u001b[39m\u001b[39m.\u001b[39margs\u001b[39m.\u001b[39mshould_save:\n",
      "File \u001b[1;32mc:\\Users\\cvaal\\anaconda3\\envs\\torch-gpu-2.0.1\\lib\\site-packages\\transformers\\trainer.py:3495\u001b[0m, in \u001b[0;36mTrainer.init_git_repo\u001b[1;34m(self, at_init)\u001b[0m\n\u001b[0;32m   3492\u001b[0m     repo_name \u001b[39m=\u001b[39m get_full_repo_name(repo_name, token\u001b[39m=\u001b[39m\u001b[39mself\u001b[39m\u001b[39m.\u001b[39margs\u001b[39m.\u001b[39mhub_token)\n\u001b[0;32m   3494\u001b[0m \u001b[39m# Make sure the repo exists.\u001b[39;00m\n\u001b[1;32m-> 3495\u001b[0m create_repo(repo_name, token\u001b[39m=\u001b[39;49m\u001b[39mself\u001b[39;49m\u001b[39m.\u001b[39;49margs\u001b[39m.\u001b[39;49mhub_token, private\u001b[39m=\u001b[39;49m\u001b[39mself\u001b[39;49m\u001b[39m.\u001b[39;49margs\u001b[39m.\u001b[39;49mhub_private_repo, exist_ok\u001b[39m=\u001b[39;49m\u001b[39mTrue\u001b[39;49;00m)\n\u001b[0;32m   3496\u001b[0m \u001b[39mtry\u001b[39;00m:\n\u001b[0;32m   3497\u001b[0m     \u001b[39mself\u001b[39m\u001b[39m.\u001b[39mrepo \u001b[39m=\u001b[39m Repository(\u001b[39mself\u001b[39m\u001b[39m.\u001b[39margs\u001b[39m.\u001b[39moutput_dir, clone_from\u001b[39m=\u001b[39mrepo_name, token\u001b[39m=\u001b[39m\u001b[39mself\u001b[39m\u001b[39m.\u001b[39margs\u001b[39m.\u001b[39mhub_token)\n",
      "File \u001b[1;32mc:\\Users\\cvaal\\anaconda3\\envs\\torch-gpu-2.0.1\\lib\\site-packages\\huggingface_hub\\utils\\_validators.py:120\u001b[0m, in \u001b[0;36mvalidate_hf_hub_args.<locals>._inner_fn\u001b[1;34m(*args, **kwargs)\u001b[0m\n\u001b[0;32m    117\u001b[0m \u001b[39mif\u001b[39;00m check_use_auth_token:\n\u001b[0;32m    118\u001b[0m     kwargs \u001b[39m=\u001b[39m smoothly_deprecate_use_auth_token(fn_name\u001b[39m=\u001b[39mfn\u001b[39m.\u001b[39m\u001b[39m__name__\u001b[39m, has_token\u001b[39m=\u001b[39mhas_token, kwargs\u001b[39m=\u001b[39mkwargs)\n\u001b[1;32m--> 120\u001b[0m \u001b[39mreturn\u001b[39;00m fn(\u001b[39m*\u001b[39margs, \u001b[39m*\u001b[39m\u001b[39m*\u001b[39mkwargs)\n",
      "File \u001b[1;32mc:\\Users\\cvaal\\anaconda3\\envs\\torch-gpu-2.0.1\\lib\\site-packages\\huggingface_hub\\hf_api.py:2193\u001b[0m, in \u001b[0;36mHfApi.create_repo\u001b[1;34m(self, repo_id, token, private, repo_type, exist_ok, space_sdk, space_hardware)\u001b[0m\n\u001b[0;32m   2190\u001b[0m \u001b[39melif\u001b[39;00m exist_ok \u001b[39mand\u001b[39;00m err\u001b[39m.\u001b[39mresponse\u001b[39m.\u001b[39mstatus_code \u001b[39m==\u001b[39m \u001b[39m403\u001b[39m:\n\u001b[0;32m   2191\u001b[0m     \u001b[39m# No write permission on the namespace but repo might already exist\u001b[39;00m\n\u001b[0;32m   2192\u001b[0m     \u001b[39mtry\u001b[39;00m:\n\u001b[1;32m-> 2193\u001b[0m         \u001b[39mself\u001b[39;49m\u001b[39m.\u001b[39;49mrepo_info(repo_id\u001b[39m=\u001b[39;49mrepo_id, repo_type\u001b[39m=\u001b[39;49mrepo_type, token\u001b[39m=\u001b[39;49mtoken)\n\u001b[0;32m   2194\u001b[0m         \u001b[39mif\u001b[39;00m repo_type \u001b[39mis\u001b[39;00m \u001b[39mNone\u001b[39;00m \u001b[39mor\u001b[39;00m repo_type \u001b[39m==\u001b[39m REPO_TYPE_MODEL:\n\u001b[0;32m   2195\u001b[0m             \u001b[39mreturn\u001b[39;00m RepoUrl(\u001b[39mf\u001b[39m\u001b[39m\"\u001b[39m\u001b[39m{\u001b[39;00m\u001b[39mself\u001b[39m\u001b[39m.\u001b[39mendpoint\u001b[39m}\u001b[39;00m\u001b[39m/\u001b[39m\u001b[39m{\u001b[39;00mrepo_id\u001b[39m}\u001b[39;00m\u001b[39m\"\u001b[39m)\n",
      "File \u001b[1;32mc:\\Users\\cvaal\\anaconda3\\envs\\torch-gpu-2.0.1\\lib\\site-packages\\huggingface_hub\\utils\\_validators.py:120\u001b[0m, in \u001b[0;36mvalidate_hf_hub_args.<locals>._inner_fn\u001b[1;34m(*args, **kwargs)\u001b[0m\n\u001b[0;32m    117\u001b[0m \u001b[39mif\u001b[39;00m check_use_auth_token:\n\u001b[0;32m    118\u001b[0m     kwargs \u001b[39m=\u001b[39m smoothly_deprecate_use_auth_token(fn_name\u001b[39m=\u001b[39mfn\u001b[39m.\u001b[39m\u001b[39m__name__\u001b[39m, has_token\u001b[39m=\u001b[39mhas_token, kwargs\u001b[39m=\u001b[39mkwargs)\n\u001b[1;32m--> 120\u001b[0m \u001b[39mreturn\u001b[39;00m fn(\u001b[39m*\u001b[39margs, \u001b[39m*\u001b[39m\u001b[39m*\u001b[39mkwargs)\n",
      "File \u001b[1;32mc:\\Users\\cvaal\\anaconda3\\envs\\torch-gpu-2.0.1\\lib\\site-packages\\huggingface_hub\\hf_api.py:1794\u001b[0m, in \u001b[0;36mHfApi.repo_info\u001b[1;34m(self, repo_id, revision, repo_type, timeout, files_metadata, token)\u001b[0m\n\u001b[0;32m   1792\u001b[0m \u001b[39melse\u001b[39;00m:\n\u001b[0;32m   1793\u001b[0m     \u001b[39mraise\u001b[39;00m \u001b[39mValueError\u001b[39;00m(\u001b[39m\"\u001b[39m\u001b[39mUnsupported repo type.\u001b[39m\u001b[39m\"\u001b[39m)\n\u001b[1;32m-> 1794\u001b[0m \u001b[39mreturn\u001b[39;00m method(\n\u001b[0;32m   1795\u001b[0m     repo_id,\n\u001b[0;32m   1796\u001b[0m     revision\u001b[39m=\u001b[39;49mrevision,\n\u001b[0;32m   1797\u001b[0m     token\u001b[39m=\u001b[39;49mtoken,\n\u001b[0;32m   1798\u001b[0m     timeout\u001b[39m=\u001b[39;49mtimeout,\n\u001b[0;32m   1799\u001b[0m     files_metadata\u001b[39m=\u001b[39;49mfiles_metadata,\n\u001b[0;32m   1800\u001b[0m )\n",
      "File \u001b[1;32mc:\\Users\\cvaal\\anaconda3\\envs\\torch-gpu-2.0.1\\lib\\site-packages\\huggingface_hub\\utils\\_validators.py:120\u001b[0m, in \u001b[0;36mvalidate_hf_hub_args.<locals>._inner_fn\u001b[1;34m(*args, **kwargs)\u001b[0m\n\u001b[0;32m    117\u001b[0m \u001b[39mif\u001b[39;00m check_use_auth_token:\n\u001b[0;32m    118\u001b[0m     kwargs \u001b[39m=\u001b[39m smoothly_deprecate_use_auth_token(fn_name\u001b[39m=\u001b[39mfn\u001b[39m.\u001b[39m\u001b[39m__name__\u001b[39m, has_token\u001b[39m=\u001b[39mhas_token, kwargs\u001b[39m=\u001b[39mkwargs)\n\u001b[1;32m--> 120\u001b[0m \u001b[39mreturn\u001b[39;00m fn(\u001b[39m*\u001b[39margs, \u001b[39m*\u001b[39m\u001b[39m*\u001b[39mkwargs)\n",
      "File \u001b[1;32mc:\\Users\\cvaal\\anaconda3\\envs\\torch-gpu-2.0.1\\lib\\site-packages\\huggingface_hub\\hf_api.py:1604\u001b[0m, in \u001b[0;36mHfApi.model_info\u001b[1;34m(self, repo_id, revision, timeout, securityStatus, files_metadata, token)\u001b[0m\n\u001b[0;32m   1602\u001b[0m     params[\u001b[39m\"\u001b[39m\u001b[39mblobs\u001b[39m\u001b[39m\"\u001b[39m] \u001b[39m=\u001b[39m \u001b[39mTrue\u001b[39;00m\n\u001b[0;32m   1603\u001b[0m r \u001b[39m=\u001b[39m get_session()\u001b[39m.\u001b[39mget(path, headers\u001b[39m=\u001b[39mheaders, timeout\u001b[39m=\u001b[39mtimeout, params\u001b[39m=\u001b[39mparams)\n\u001b[1;32m-> 1604\u001b[0m hf_raise_for_status(r)\n\u001b[0;32m   1605\u001b[0m d \u001b[39m=\u001b[39m r\u001b[39m.\u001b[39mjson()\n\u001b[0;32m   1606\u001b[0m \u001b[39mreturn\u001b[39;00m ModelInfo(\u001b[39m*\u001b[39m\u001b[39m*\u001b[39md)\n",
      "File \u001b[1;32mc:\\Users\\cvaal\\anaconda3\\envs\\torch-gpu-2.0.1\\lib\\site-packages\\huggingface_hub\\utils\\_errors.py:291\u001b[0m, in \u001b[0;36mhf_raise_for_status\u001b[1;34m(response, endpoint_name)\u001b[0m\n\u001b[0;32m    277\u001b[0m \u001b[39melif\u001b[39;00m error_code \u001b[39m==\u001b[39m \u001b[39m\"\u001b[39m\u001b[39mRepoNotFound\u001b[39m\u001b[39m\"\u001b[39m \u001b[39mor\u001b[39;00m response\u001b[39m.\u001b[39mstatus_code \u001b[39m==\u001b[39m \u001b[39m401\u001b[39m:\n\u001b[0;32m    278\u001b[0m     \u001b[39m# 401 is misleading as it is returned for:\u001b[39;00m\n\u001b[0;32m    279\u001b[0m     \u001b[39m#    - private and gated repos if user is not authenticated\u001b[39;00m\n\u001b[0;32m    280\u001b[0m     \u001b[39m#    - missing repos\u001b[39;00m\n\u001b[0;32m    281\u001b[0m     \u001b[39m# => for now, we process them as `RepoNotFound` anyway.\u001b[39;00m\n\u001b[0;32m    282\u001b[0m     \u001b[39m# See https://gist.github.com/Wauplin/46c27ad266b15998ce56a6603796f0b9\u001b[39;00m\n\u001b[0;32m    283\u001b[0m     message \u001b[39m=\u001b[39m (\n\u001b[0;32m    284\u001b[0m         \u001b[39mf\u001b[39m\u001b[39m\"\u001b[39m\u001b[39m{\u001b[39;00mresponse\u001b[39m.\u001b[39mstatus_code\u001b[39m}\u001b[39;00m\u001b[39m Client Error.\u001b[39m\u001b[39m\"\u001b[39m\n\u001b[0;32m    285\u001b[0m         \u001b[39m+\u001b[39m \u001b[39m\"\u001b[39m\u001b[39m\\n\u001b[39;00m\u001b[39m\\n\u001b[39;00m\u001b[39m\"\u001b[39m\n\u001b[1;32m   (...)\u001b[0m\n\u001b[0;32m    289\u001b[0m         \u001b[39m\"\u001b[39m\u001b[39m make sure you are authenticated.\u001b[39m\u001b[39m\"\u001b[39m\n\u001b[0;32m    290\u001b[0m     )\n\u001b[1;32m--> 291\u001b[0m     \u001b[39mraise\u001b[39;00m RepositoryNotFoundError(message, response) \u001b[39mfrom\u001b[39;00m \u001b[39me\u001b[39;00m\n\u001b[0;32m    293\u001b[0m \u001b[39melif\u001b[39;00m response\u001b[39m.\u001b[39mstatus_code \u001b[39m==\u001b[39m \u001b[39m400\u001b[39m:\n\u001b[0;32m    294\u001b[0m     message \u001b[39m=\u001b[39m (\n\u001b[0;32m    295\u001b[0m         \u001b[39mf\u001b[39m\u001b[39m\"\u001b[39m\u001b[39m\\n\u001b[39;00m\u001b[39m\\n\u001b[39;00m\u001b[39mBad request for \u001b[39m\u001b[39m{\u001b[39;00mendpoint_name\u001b[39m}\u001b[39;00m\u001b[39m endpoint:\u001b[39m\u001b[39m\"\u001b[39m \u001b[39mif\u001b[39;00m endpoint_name \u001b[39mis\u001b[39;00m \u001b[39mnot\u001b[39;00m \u001b[39mNone\u001b[39;00m \u001b[39melse\u001b[39;00m \u001b[39m\"\u001b[39m\u001b[39m\\n\u001b[39;00m\u001b[39m\\n\u001b[39;00m\u001b[39mBad request:\u001b[39m\u001b[39m\"\u001b[39m\n\u001b[0;32m    296\u001b[0m     )\n",
      "\u001b[1;31mRepositoryNotFoundError\u001b[0m: 404 Client Error. (Request ID: Root=1-6474a667-2beceed86269bb2d7dc133e9)\n\nRepository Not Found for url: https://huggingface.co/api/models/gloobdoob/english-headline-fake-news-classifier-distilbert.\nPlease make sure you specified the correct `repo_id` and `repo_type`.\nIf you are trying to access a private or gated repo, make sure you are authenticated."
     ]
    }
   ],
   "source": [
    "import os\n",
    "trainer.push_to_hub()"
   ]
  },
  {
   "cell_type": "code",
   "execution_count": null,
   "metadata": {},
   "outputs": [],
   "source": [
    "trainer.save_model('english model')"
   ]
  },
  {
   "cell_type": "code",
   "execution_count": null,
   "metadata": {},
   "outputs": [],
   "source": []
  },
  {
   "cell_type": "code",
   "execution_count": null,
   "metadata": {},
   "outputs": [
    {
     "data": {
      "text/plain": [
       "[{'label': 'LABEL_0', 'score': 0.9999990463256836}]"
      ]
     },
     "execution_count": 85,
     "metadata": {},
     "output_type": "execute_result"
    }
   ],
   "source": [
    "from transformers import pipeline\n",
    " \n",
    "sentiment_model = pipeline(model=\"gloobdoob/english-headline-classifier-fake-news\")\n"
   ]
  },
  {
   "cell_type": "code",
   "execution_count": null,
   "metadata": {},
   "outputs": [
    {
     "data": {
      "text/plain": [
       "int"
      ]
     },
     "execution_count": 109,
     "metadata": {},
     "output_type": "execute_result"
    }
   ],
   "source": [
    "type(valid_ds[7]['labels'])"
   ]
  },
  {
   "cell_type": "code",
   "execution_count": null,
   "metadata": {},
   "outputs": [],
   "source": [
    "from collections import defaultdict\n",
    "res = defaultdict(list)\n"
   ]
  },
  {
   "cell_type": "code",
   "execution_count": null,
   "metadata": {},
   "outputs": [
    {
     "data": {
      "text/plain": [
       "True"
      ]
     },
     "execution_count": 113,
     "metadata": {},
     "output_type": "execute_result"
    }
   ],
   "source": [
    "sentiment_model([valid_ds[7]['text']])[0]['label'] == 'LABEL_1'"
   ]
  },
  {
   "cell_type": "code",
   "execution_count": null,
   "metadata": {},
   "outputs": [],
   "source": [
    "for i in valid_ds:\n",
    "    res['text'].append(i['text'])\n",
    "    res['label'].append(i['labels'])\n",
    "    if sentiment_model([i['text']])[0]['label'] == 'LABEL_1':\n",
    "        res['pred'].append(1)\n",
    "    else:\n",
    "        res['pred'].append(0)\n"
   ]
  },
  {
   "cell_type": "code",
   "execution_count": null,
   "metadata": {},
   "outputs": [],
   "source": []
  },
  {
   "cell_type": "code",
   "execution_count": null,
   "metadata": {},
   "outputs": [
    {
     "data": {
      "text/html": [
       "<div>\n",
       "<style scoped>\n",
       "    .dataframe tbody tr th:only-of-type {\n",
       "        vertical-align: middle;\n",
       "    }\n",
       "\n",
       "    .dataframe tbody tr th {\n",
       "        vertical-align: top;\n",
       "    }\n",
       "\n",
       "    .dataframe thead th {\n",
       "        text-align: right;\n",
       "    }\n",
       "</style>\n",
       "<table border=\"1\" class=\"dataframe\">\n",
       "  <thead>\n",
       "    <tr style=\"text-align: right;\">\n",
       "      <th></th>\n",
       "      <th>text</th>\n",
       "      <th>label</th>\n",
       "      <th>pred</th>\n",
       "      <th>equal</th>\n",
       "    </tr>\n",
       "  </thead>\n",
       "  <tbody>\n",
       "    <tr>\n",
       "      <th>0</th>\n",
       "      <td>Supreme Court briefly puts on hold lower court...</td>\n",
       "      <td>1</td>\n",
       "      <td>1</td>\n",
       "      <td>False</td>\n",
       "    </tr>\n",
       "    <tr>\n",
       "      <th>1</th>\n",
       "      <td>Freudian slip? Karine Jean Pierre says preside...</td>\n",
       "      <td>0</td>\n",
       "      <td>0</td>\n",
       "      <td>False</td>\n",
       "    </tr>\n",
       "    <tr>\n",
       "      <th>2</th>\n",
       "      <td>“Rachel” Levine sought out justification for p...</td>\n",
       "      <td>0</td>\n",
       "      <td>0</td>\n",
       "      <td>False</td>\n",
       "    </tr>\n",
       "    <tr>\n",
       "      <th>3</th>\n",
       "      <td>WATCH as Mike Adams speaks with 16-year-old Ve...</td>\n",
       "      <td>0</td>\n",
       "      <td>0</td>\n",
       "      <td>False</td>\n",
       "    </tr>\n",
       "    <tr>\n",
       "      <th>4</th>\n",
       "      <td>Much like Fetterman’s campaign, American flags...</td>\n",
       "      <td>0</td>\n",
       "      <td>0</td>\n",
       "      <td>False</td>\n",
       "    </tr>\n",
       "    <tr>\n",
       "      <th>...</th>\n",
       "      <td>...</td>\n",
       "      <td>...</td>\n",
       "      <td>...</td>\n",
       "      <td>...</td>\n",
       "    </tr>\n",
       "    <tr>\n",
       "      <th>663</th>\n",
       "      <td>Man City vs Arsenal: All you need to know abou...</td>\n",
       "      <td>1</td>\n",
       "      <td>1</td>\n",
       "      <td>False</td>\n",
       "    </tr>\n",
       "    <tr>\n",
       "      <th>664</th>\n",
       "      <td>Chinese spy balloon collected intelligence fro...</td>\n",
       "      <td>0</td>\n",
       "      <td>0</td>\n",
       "      <td>False</td>\n",
       "    </tr>\n",
       "    <tr>\n",
       "      <th>665</th>\n",
       "      <td>Real Clear Politics updated forecast: New Hamp...</td>\n",
       "      <td>0</td>\n",
       "      <td>0</td>\n",
       "      <td>False</td>\n",
       "    </tr>\n",
       "    <tr>\n",
       "      <th>666</th>\n",
       "      <td>Nicolas Cage Promotes Eating Bugs as Hollywood...</td>\n",
       "      <td>0</td>\n",
       "      <td>0</td>\n",
       "      <td>False</td>\n",
       "    </tr>\n",
       "    <tr>\n",
       "      <th>667</th>\n",
       "      <td>After years of crisis, can China revive its lo...</td>\n",
       "      <td>1</td>\n",
       "      <td>1</td>\n",
       "      <td>False</td>\n",
       "    </tr>\n",
       "  </tbody>\n",
       "</table>\n",
       "<p>668 rows × 4 columns</p>\n",
       "</div>"
      ],
      "text/plain": [
       "                                                  text  label  pred  equal\n",
       "0    Supreme Court briefly puts on hold lower court...      1     1  False\n",
       "1    Freudian slip? Karine Jean Pierre says preside...      0     0  False\n",
       "2    “Rachel” Levine sought out justification for p...      0     0  False\n",
       "3    WATCH as Mike Adams speaks with 16-year-old Ve...      0     0  False\n",
       "4    Much like Fetterman’s campaign, American flags...      0     0  False\n",
       "..                                                 ...    ...   ...    ...\n",
       "663  Man City vs Arsenal: All you need to know abou...      1     1  False\n",
       "664  Chinese spy balloon collected intelligence fro...      0     0  False\n",
       "665  Real Clear Politics updated forecast: New Hamp...      0     0  False\n",
       "666  Nicolas Cage Promotes Eating Bugs as Hollywood...      0     0  False\n",
       "667  After years of crisis, can China revive its lo...      1     1  False\n",
       "\n",
       "[668 rows x 4 columns]"
      ]
     },
     "execution_count": 115,
     "metadata": {},
     "output_type": "execute_result"
    }
   ],
   "source": [
    "df_res = pd.DataFrame(res)\n",
    "df_res['equal'] = df_res['label'].equals(df_res['pred'])\n",
    "df_res"
   ]
  },
  {
   "cell_type": "code",
   "execution_count": null,
   "metadata": {},
   "outputs": [],
   "source": [
    "import sklearn\n",
    "acc = sklearn.metrics.accuracy_score(df_res.pred.values, \n",
    "                                     df_res.label.values)"
   ]
  },
  {
   "cell_type": "code",
   "execution_count": null,
   "metadata": {},
   "outputs": [
    {
     "data": {
      "text/plain": [
       "0.9221556886227545"
      ]
     },
     "execution_count": 128,
     "metadata": {},
     "output_type": "execute_result"
    }
   ],
   "source": [
    "acc"
   ]
  },
  {
   "cell_type": "code",
   "execution_count": null,
   "metadata": {},
   "outputs": [
    {
     "data": {
      "text/plain": [
       "[{'label': 'LABEL_1', 'score': 0.9999992847442627}]"
      ]
     },
     "execution_count": 135,
     "metadata": {},
     "output_type": "execute_result"
    }
   ],
   "source": [
    "sentiment_model(['A man has been reported standing outside of a local walmart, defecating on the public road'])"
   ]
  },
  {
   "cell_type": "code",
   "execution_count": null,
   "metadata": {},
   "outputs": [],
   "source": []
  }
 ],
 "metadata": {
  "kernelspec": {
   "display_name": "torch-gpu-2.0.1",
   "language": "python",
   "name": "python3"
  },
  "language_info": {
   "codemirror_mode": {
    "name": "ipython",
    "version": 3
   },
   "file_extension": ".py",
   "mimetype": "text/x-python",
   "name": "python",
   "nbconvert_exporter": "python",
   "pygments_lexer": "ipython3",
   "version": "3.10.11"
  },
  "orig_nbformat": 4
 },
 "nbformat": 4,
 "nbformat_minor": 2
}
