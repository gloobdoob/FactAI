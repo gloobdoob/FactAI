{
 "cells": [
  {
   "cell_type": "code",
   "execution_count": 1,
   "metadata": {},
   "outputs": [
    {
     "data": {
      "text/plain": [
       "True"
      ]
     },
     "execution_count": 1,
     "metadata": {},
     "output_type": "execute_result"
    }
   ],
   "source": [
    "import torch\n",
    "import pandas as pd\n",
    "import numpy as np\n",
    "torch.cuda.is_available()"
   ]
  },
  {
   "cell_type": "code",
   "execution_count": 2,
   "metadata": {},
   "outputs": [
    {
     "data": {
      "text/plain": [
       "(60,)"
      ]
     },
     "execution_count": 2,
     "metadata": {},
     "output_type": "execute_result"
    }
   ],
   "source": [
    "exclude_df = pd.read_pickle('RES_DF_120SAMPLES_EN_TL')\n",
    "exclude_df = exclude_df[exclude_df['language'] == 'tl']\n",
    "exclude_df.head()\n",
    "exclude_text = exclude_df.text.values\n",
    "exclude_text.shape"
   ]
  },
  {
   "cell_type": "code",
   "execution_count": 3,
   "metadata": {},
   "outputs": [],
   "source": [
    "df = pd.read_pickle('Tagalog_Headlines_EngFeatures')"
   ]
  },
  {
   "cell_type": "code",
   "execution_count": 4,
   "metadata": {},
   "outputs": [],
   "source": [
    "from sklearn.preprocessing import LabelEncoder\n",
    "le = LabelEncoder()\n",
    "df['Rating'] = le.fit_transform(df.Rating.values)"
   ]
  },
  {
   "cell_type": "code",
   "execution_count": 5,
   "metadata": {},
   "outputs": [],
   "source": [
    "df = df.rename(columns={\"Statement\": \"text\", \"Rating\": \"labels\"})"
   ]
  },
  {
   "cell_type": "code",
   "execution_count": 6,
   "metadata": {},
   "outputs": [],
   "source": [
    "df = df[~df['text'].isin(exclude_text)]"
   ]
  },
  {
   "cell_type": "code",
   "execution_count": 7,
   "metadata": {},
   "outputs": [
    {
     "data": {
      "text/html": [
       "<div>\n",
       "<style scoped>\n",
       "    .dataframe tbody tr th:only-of-type {\n",
       "        vertical-align: middle;\n",
       "    }\n",
       "\n",
       "    .dataframe tbody tr th {\n",
       "        vertical-align: top;\n",
       "    }\n",
       "\n",
       "    .dataframe thead th {\n",
       "        text-align: right;\n",
       "    }\n",
       "</style>\n",
       "<table border=\"1\" class=\"dataframe\">\n",
       "  <thead>\n",
       "    <tr style=\"text-align: right;\">\n",
       "      <th></th>\n",
       "      <th>text</th>\n",
       "      <th>labels</th>\n",
       "      <th>cleaned</th>\n",
       "      <th>cleaned tokenized</th>\n",
       "      <th>period%</th>\n",
       "      <th>comma%</th>\n",
       "      <th>colon%</th>\n",
       "      <th>semicolon%</th>\n",
       "      <th>question mark%</th>\n",
       "      <th>exclamation mark%</th>\n",
       "      <th>dash%</th>\n",
       "      <th>apostrophe%</th>\n",
       "      <th>close parenthesis%</th>\n",
       "      <th>capitalized%</th>\n",
       "      <th>slang words%</th>\n",
       "      <th>curse words%</th>\n",
       "      <th>with numericals%</th>\n",
       "      <th>bigrams</th>\n",
       "      <th>trigrams</th>\n",
       "    </tr>\n",
       "  </thead>\n",
       "  <tbody>\n",
       "    <tr>\n",
       "      <th>0</th>\n",
       "      <td>Lalaki patay sa pamamaril sa Tondo, Maynila</td>\n",
       "      <td>1</td>\n",
       "      <td>lalaki patay pamamaril tondo maynila</td>\n",
       "      <td>[lalaki, patay, pamamaril, tondo, ,, maynila]</td>\n",
       "      <td>0.000000</td>\n",
       "      <td>0.125000</td>\n",
       "      <td>0.000000</td>\n",
       "      <td>0.000000</td>\n",
       "      <td>0.0</td>\n",
       "      <td>0.000000</td>\n",
       "      <td>0.000000</td>\n",
       "      <td>0.0</td>\n",
       "      <td>0.0</td>\n",
       "      <td>0.000000</td>\n",
       "      <td>0.0</td>\n",
       "      <td>0.0</td>\n",
       "      <td>0.000000</td>\n",
       "      <td>[lalaki patay, patay pamamaril, pamamaril tond...</td>\n",
       "      <td>[lalaki patay pamamaril, patay pamamaril tondo...</td>\n",
       "    </tr>\n",
       "    <tr>\n",
       "      <th>1</th>\n",
       "      <td>50 Pinoy na naipit sa kaguluhan sa Sudan, nail...</td>\n",
       "      <td>1</td>\n",
       "      <td>50 pinoy naipit kaguluhan sudan nailikas</td>\n",
       "      <td>[50, pinoy, naipit, kaguluhan, sudan, ,, naili...</td>\n",
       "      <td>0.000000</td>\n",
       "      <td>0.090909</td>\n",
       "      <td>0.000000</td>\n",
       "      <td>0.000000</td>\n",
       "      <td>0.0</td>\n",
       "      <td>0.000000</td>\n",
       "      <td>0.000000</td>\n",
       "      <td>0.0</td>\n",
       "      <td>0.0</td>\n",
       "      <td>0.000000</td>\n",
       "      <td>0.0</td>\n",
       "      <td>0.0</td>\n",
       "      <td>0.090909</td>\n",
       "      <td>[50 pinoy, pinoy naipit, naipit kaguluhan, kag...</td>\n",
       "      <td>[50 pinoy naipit, pinoy naipit kaguluhan, naip...</td>\n",
       "    </tr>\n",
       "    <tr>\n",
       "      <th>2</th>\n",
       "      <td>#BoyingResign: Netizens galit kay DOJ Chief Re...</td>\n",
       "      <td>1</td>\n",
       "      <td>boyingresign netizens galit kay doj chief remu...</td>\n",
       "      <td>[#, boyingresign, :, netizens, galit, kay, doj...</td>\n",
       "      <td>0.000000</td>\n",
       "      <td>0.000000</td>\n",
       "      <td>0.055556</td>\n",
       "      <td>0.000000</td>\n",
       "      <td>0.0</td>\n",
       "      <td>0.000000</td>\n",
       "      <td>0.055556</td>\n",
       "      <td>0.0</td>\n",
       "      <td>0.0</td>\n",
       "      <td>0.055556</td>\n",
       "      <td>0.0</td>\n",
       "      <td>0.0</td>\n",
       "      <td>0.000000</td>\n",
       "      <td>[boyingresign netizens, netizens galit, galit ...</td>\n",
       "      <td>[boyingresign netizens galit, netizens galit k...</td>\n",
       "    </tr>\n",
       "    <tr>\n",
       "      <th>3</th>\n",
       "      <td>‘Backdoor entry’ ng Grab sa motorcycle taxi pi...</td>\n",
       "      <td>1</td>\n",
       "      <td>backdoor entry grab motorcycle taxi pilot pina...</td>\n",
       "      <td>[‘, backdoor, entry, ’, grab, motorcycle, taxi...</td>\n",
       "      <td>0.000000</td>\n",
       "      <td>0.000000</td>\n",
       "      <td>0.000000</td>\n",
       "      <td>0.000000</td>\n",
       "      <td>0.0</td>\n",
       "      <td>0.000000</td>\n",
       "      <td>0.000000</td>\n",
       "      <td>0.0</td>\n",
       "      <td>0.0</td>\n",
       "      <td>0.000000</td>\n",
       "      <td>0.0</td>\n",
       "      <td>0.0</td>\n",
       "      <td>0.000000</td>\n",
       "      <td>[backdoor entry, entry grab, grab motorcycle, ...</td>\n",
       "      <td>[backdoor entry grab, entry grab motorcycle, g...</td>\n",
       "    </tr>\n",
       "    <tr>\n",
       "      <th>4</th>\n",
       "      <td>Doktor nangangamba na na-mild stroke si De Lima</td>\n",
       "      <td>1</td>\n",
       "      <td>doktor nangangamba mild stroke de</td>\n",
       "      <td>[doktor, nangangamba, na-mild, stroke, de]</td>\n",
       "      <td>0.000000</td>\n",
       "      <td>0.000000</td>\n",
       "      <td>0.000000</td>\n",
       "      <td>0.000000</td>\n",
       "      <td>0.0</td>\n",
       "      <td>0.000000</td>\n",
       "      <td>0.125000</td>\n",
       "      <td>0.0</td>\n",
       "      <td>0.0</td>\n",
       "      <td>0.000000</td>\n",
       "      <td>0.0</td>\n",
       "      <td>0.0</td>\n",
       "      <td>0.000000</td>\n",
       "      <td>[doktor nangangamba, nangangamba mild, mild st...</td>\n",
       "      <td>[doktor nangangamba mild, nangangamba mild str...</td>\n",
       "    </tr>\n",
       "    <tr>\n",
       "      <th>...</th>\n",
       "      <td>...</td>\n",
       "      <td>...</td>\n",
       "      <td>...</td>\n",
       "      <td>...</td>\n",
       "      <td>...</td>\n",
       "      <td>...</td>\n",
       "      <td>...</td>\n",
       "      <td>...</td>\n",
       "      <td>...</td>\n",
       "      <td>...</td>\n",
       "      <td>...</td>\n",
       "      <td>...</td>\n",
       "      <td>...</td>\n",
       "      <td>...</td>\n",
       "      <td>...</td>\n",
       "      <td>...</td>\n",
       "      <td>...</td>\n",
       "      <td>...</td>\n",
       "      <td>...</td>\n",
       "    </tr>\n",
       "    <tr>\n",
       "      <th>3447</th>\n",
       "      <td>Remembering Marky Cielo, Proud Igorot and Star...</td>\n",
       "      <td>0</td>\n",
       "      <td>remembering marky cielo proud igorot and stars...</td>\n",
       "      <td>[remembering, marky, cielo, ,, proud, igorot, ...</td>\n",
       "      <td>0.000000</td>\n",
       "      <td>0.083333</td>\n",
       "      <td>0.000000</td>\n",
       "      <td>0.000000</td>\n",
       "      <td>0.0</td>\n",
       "      <td>0.083333</td>\n",
       "      <td>0.000000</td>\n",
       "      <td>0.0</td>\n",
       "      <td>0.0</td>\n",
       "      <td>0.000000</td>\n",
       "      <td>0.0</td>\n",
       "      <td>0.0</td>\n",
       "      <td>0.000000</td>\n",
       "      <td>[remembering marky, marky cielo, cielo proud, ...</td>\n",
       "      <td>[remembering marky cielo, marky cielo proud, c...</td>\n",
       "    </tr>\n",
       "    <tr>\n",
       "      <th>3448</th>\n",
       "      <td>Netizen, inilabas ang sekretong galit dahil la...</td>\n",
       "      <td>0</td>\n",
       "      <td>netizen inilabas sekretong galit lang my day k...</td>\n",
       "      <td>[netizen, ,, inilabas, sekretong, galit, lang,...</td>\n",
       "      <td>0.000000</td>\n",
       "      <td>0.055556</td>\n",
       "      <td>0.000000</td>\n",
       "      <td>0.055556</td>\n",
       "      <td>0.0</td>\n",
       "      <td>0.000000</td>\n",
       "      <td>0.000000</td>\n",
       "      <td>0.0</td>\n",
       "      <td>0.0</td>\n",
       "      <td>0.000000</td>\n",
       "      <td>0.0</td>\n",
       "      <td>0.0</td>\n",
       "      <td>0.000000</td>\n",
       "      <td>[netizen inilabas, inilabas sekretong, sekreto...</td>\n",
       "      <td>[netizen inilabas sekretong, inilabas sekreton...</td>\n",
       "    </tr>\n",
       "    <tr>\n",
       "      <th>3449</th>\n",
       "      <td>Pinoy Vlogger na tumulong kay Nas Daily noon, ...</td>\n",
       "      <td>0</td>\n",
       "      <td>pinoy vlogger tumulong kay nas daily nagsalita...</td>\n",
       "      <td>[pinoy, vlogger, tumulong, kay, nas, daily, ,,...</td>\n",
       "      <td>0.041667</td>\n",
       "      <td>0.083333</td>\n",
       "      <td>0.041667</td>\n",
       "      <td>0.000000</td>\n",
       "      <td>0.0</td>\n",
       "      <td>0.000000</td>\n",
       "      <td>0.000000</td>\n",
       "      <td>0.0</td>\n",
       "      <td>0.0</td>\n",
       "      <td>0.000000</td>\n",
       "      <td>0.0</td>\n",
       "      <td>0.0</td>\n",
       "      <td>0.000000</td>\n",
       "      <td>[pinoy vlogger, vlogger tumulong, tumulong kay...</td>\n",
       "      <td>[pinoy vlogger tumulong, vlogger tumulong kay,...</td>\n",
       "    </tr>\n",
       "    <tr>\n",
       "      <th>3450</th>\n",
       "      <td>GRABE! UNANG GABI NG LAMAY SA BUROL NI KRIS AQ...</td>\n",
       "      <td>0</td>\n",
       "      <td>grabe unang gabi lamay burol kris aquino dinag...</td>\n",
       "      <td>[grabe, !, unang, gabi, lamay, burol, kris, aq...</td>\n",
       "      <td>0.050000</td>\n",
       "      <td>0.050000</td>\n",
       "      <td>0.000000</td>\n",
       "      <td>0.000000</td>\n",
       "      <td>0.0</td>\n",
       "      <td>0.050000</td>\n",
       "      <td>0.050000</td>\n",
       "      <td>0.0</td>\n",
       "      <td>0.0</td>\n",
       "      <td>0.850000</td>\n",
       "      <td>0.0</td>\n",
       "      <td>0.0</td>\n",
       "      <td>0.000000</td>\n",
       "      <td>[grabe unang, unang gabi, gabi lamay, lamay bu...</td>\n",
       "      <td>[grabe unang gabi, unang gabi lamay, gabi lama...</td>\n",
       "    </tr>\n",
       "    <tr>\n",
       "      <th>3451</th>\n",
       "      <td>Isang tattoo artist may walong asawa at magka...</td>\n",
       "      <td>0</td>\n",
       "      <td>tattoo artist walong asawa magkakasamang nanin...</td>\n",
       "      <td>[tattoo, artist, walong, asawa, magkakasamang,...</td>\n",
       "      <td>0.000000</td>\n",
       "      <td>0.000000</td>\n",
       "      <td>0.000000</td>\n",
       "      <td>0.000000</td>\n",
       "      <td>0.0</td>\n",
       "      <td>0.000000</td>\n",
       "      <td>0.000000</td>\n",
       "      <td>0.0</td>\n",
       "      <td>0.0</td>\n",
       "      <td>0.000000</td>\n",
       "      <td>0.0</td>\n",
       "      <td>0.0</td>\n",
       "      <td>0.000000</td>\n",
       "      <td>[tattoo artist, artist walong, walong asawa, a...</td>\n",
       "      <td>[tattoo artist walong, artist walong asawa, wa...</td>\n",
       "    </tr>\n",
       "  </tbody>\n",
       "</table>\n",
       "<p>3392 rows × 19 columns</p>\n",
       "</div>"
      ],
      "text/plain": [
       "                                                   text  labels   \n",
       "0           Lalaki patay sa pamamaril sa Tondo, Maynila       1  \\\n",
       "1     50 Pinoy na naipit sa kaguluhan sa Sudan, nail...       1   \n",
       "2     #BoyingResign: Netizens galit kay DOJ Chief Re...       1   \n",
       "3     ‘Backdoor entry’ ng Grab sa motorcycle taxi pi...       1   \n",
       "4       Doktor nangangamba na na-mild stroke si De Lima       1   \n",
       "...                                                 ...     ...   \n",
       "3447  Remembering Marky Cielo, Proud Igorot and Star...       0   \n",
       "3448  Netizen, inilabas ang sekretong galit dahil la...       0   \n",
       "3449  Pinoy Vlogger na tumulong kay Nas Daily noon, ...       0   \n",
       "3450  GRABE! UNANG GABI NG LAMAY SA BUROL NI KRIS AQ...       0   \n",
       "3451   Isang tattoo artist may walong asawa at magka...       0   \n",
       "\n",
       "                                                cleaned   \n",
       "0                  lalaki patay pamamaril tondo maynila  \\\n",
       "1              50 pinoy naipit kaguluhan sudan nailikas   \n",
       "2     boyingresign netizens galit kay doj chief remu...   \n",
       "3     backdoor entry grab motorcycle taxi pilot pina...   \n",
       "4                     doktor nangangamba mild stroke de   \n",
       "...                                                 ...   \n",
       "3447  remembering marky cielo proud igorot and stars...   \n",
       "3448  netizen inilabas sekretong galit lang my day k...   \n",
       "3449  pinoy vlogger tumulong kay nas daily nagsalita...   \n",
       "3450  grabe unang gabi lamay burol kris aquino dinag...   \n",
       "3451  tattoo artist walong asawa magkakasamang nanin...   \n",
       "\n",
       "                                      cleaned tokenized   period%    comma%   \n",
       "0         [lalaki, patay, pamamaril, tondo, ,, maynila]  0.000000  0.125000  \\\n",
       "1     [50, pinoy, naipit, kaguluhan, sudan, ,, naili...  0.000000  0.090909   \n",
       "2     [#, boyingresign, :, netizens, galit, kay, doj...  0.000000  0.000000   \n",
       "3     [‘, backdoor, entry, ’, grab, motorcycle, taxi...  0.000000  0.000000   \n",
       "4            [doktor, nangangamba, na-mild, stroke, de]  0.000000  0.000000   \n",
       "...                                                 ...       ...       ...   \n",
       "3447  [remembering, marky, cielo, ,, proud, igorot, ...  0.000000  0.083333   \n",
       "3448  [netizen, ,, inilabas, sekretong, galit, lang,...  0.000000  0.055556   \n",
       "3449  [pinoy, vlogger, tumulong, kay, nas, daily, ,,...  0.041667  0.083333   \n",
       "3450  [grabe, !, unang, gabi, lamay, burol, kris, aq...  0.050000  0.050000   \n",
       "3451  [tattoo, artist, walong, asawa, magkakasamang,...  0.000000  0.000000   \n",
       "\n",
       "        colon%  semicolon%  question mark%  exclamation mark%     dash%   \n",
       "0     0.000000    0.000000             0.0           0.000000  0.000000  \\\n",
       "1     0.000000    0.000000             0.0           0.000000  0.000000   \n",
       "2     0.055556    0.000000             0.0           0.000000  0.055556   \n",
       "3     0.000000    0.000000             0.0           0.000000  0.000000   \n",
       "4     0.000000    0.000000             0.0           0.000000  0.125000   \n",
       "...        ...         ...             ...                ...       ...   \n",
       "3447  0.000000    0.000000             0.0           0.083333  0.000000   \n",
       "3448  0.000000    0.055556             0.0           0.000000  0.000000   \n",
       "3449  0.041667    0.000000             0.0           0.000000  0.000000   \n",
       "3450  0.000000    0.000000             0.0           0.050000  0.050000   \n",
       "3451  0.000000    0.000000             0.0           0.000000  0.000000   \n",
       "\n",
       "      apostrophe%  close parenthesis%  capitalized%  slang words%   \n",
       "0             0.0                 0.0      0.000000           0.0  \\\n",
       "1             0.0                 0.0      0.000000           0.0   \n",
       "2             0.0                 0.0      0.055556           0.0   \n",
       "3             0.0                 0.0      0.000000           0.0   \n",
       "4             0.0                 0.0      0.000000           0.0   \n",
       "...           ...                 ...           ...           ...   \n",
       "3447          0.0                 0.0      0.000000           0.0   \n",
       "3448          0.0                 0.0      0.000000           0.0   \n",
       "3449          0.0                 0.0      0.000000           0.0   \n",
       "3450          0.0                 0.0      0.850000           0.0   \n",
       "3451          0.0                 0.0      0.000000           0.0   \n",
       "\n",
       "      curse words%  with numericals%   \n",
       "0              0.0          0.000000  \\\n",
       "1              0.0          0.090909   \n",
       "2              0.0          0.000000   \n",
       "3              0.0          0.000000   \n",
       "4              0.0          0.000000   \n",
       "...            ...               ...   \n",
       "3447           0.0          0.000000   \n",
       "3448           0.0          0.000000   \n",
       "3449           0.0          0.000000   \n",
       "3450           0.0          0.000000   \n",
       "3451           0.0          0.000000   \n",
       "\n",
       "                                                bigrams   \n",
       "0     [lalaki patay, patay pamamaril, pamamaril tond...  \\\n",
       "1     [50 pinoy, pinoy naipit, naipit kaguluhan, kag...   \n",
       "2     [boyingresign netizens, netizens galit, galit ...   \n",
       "3     [backdoor entry, entry grab, grab motorcycle, ...   \n",
       "4     [doktor nangangamba, nangangamba mild, mild st...   \n",
       "...                                                 ...   \n",
       "3447  [remembering marky, marky cielo, cielo proud, ...   \n",
       "3448  [netizen inilabas, inilabas sekretong, sekreto...   \n",
       "3449  [pinoy vlogger, vlogger tumulong, tumulong kay...   \n",
       "3450  [grabe unang, unang gabi, gabi lamay, lamay bu...   \n",
       "3451  [tattoo artist, artist walong, walong asawa, a...   \n",
       "\n",
       "                                               trigrams  \n",
       "0     [lalaki patay pamamaril, patay pamamaril tondo...  \n",
       "1     [50 pinoy naipit, pinoy naipit kaguluhan, naip...  \n",
       "2     [boyingresign netizens galit, netizens galit k...  \n",
       "3     [backdoor entry grab, entry grab motorcycle, g...  \n",
       "4     [doktor nangangamba mild, nangangamba mild str...  \n",
       "...                                                 ...  \n",
       "3447  [remembering marky cielo, marky cielo proud, c...  \n",
       "3448  [netizen inilabas sekretong, inilabas sekreton...  \n",
       "3449  [pinoy vlogger tumulong, vlogger tumulong kay,...  \n",
       "3450  [grabe unang gabi, unang gabi lamay, gabi lama...  \n",
       "3451  [tattoo artist walong, artist walong asawa, wa...  \n",
       "\n",
       "[3392 rows x 19 columns]"
      ]
     },
     "execution_count": 7,
     "metadata": {},
     "output_type": "execute_result"
    }
   ],
   "source": [
    "df"
   ]
  },
  {
   "cell_type": "code",
   "execution_count": 8,
   "metadata": {},
   "outputs": [],
   "source": [
    "from sklearn.model_selection import train_test_split\n",
    "\n",
    "train_df, valid_df = train_test_split(df, test_size=0.3, random_state=49)\n"
   ]
  },
  {
   "cell_type": "code",
   "execution_count": 9,
   "metadata": {},
   "outputs": [],
   "source": [
    "valid_df, test_df = train_test_split(valid_df, test_size=0.66, random_state=49)\n"
   ]
  },
  {
   "cell_type": "code",
   "execution_count": 10,
   "metadata": {},
   "outputs": [
    {
     "data": {
      "text/plain": [
       "(2374, 19)"
      ]
     },
     "execution_count": 10,
     "metadata": {},
     "output_type": "execute_result"
    }
   ],
   "source": [
    "train_df.shape"
   ]
  },
  {
   "cell_type": "code",
   "execution_count": 11,
   "metadata": {},
   "outputs": [
    {
     "data": {
      "text/plain": [
       "(672, 19)"
      ]
     },
     "execution_count": 11,
     "metadata": {},
     "output_type": "execute_result"
    }
   ],
   "source": [
    "test_df.shape"
   ]
  },
  {
   "cell_type": "code",
   "execution_count": 12,
   "metadata": {},
   "outputs": [
    {
     "data": {
      "text/plain": [
       "(346, 19)"
      ]
     },
     "execution_count": 12,
     "metadata": {},
     "output_type": "execute_result"
    }
   ],
   "source": [
    "valid_df.shape"
   ]
  },
  {
   "cell_type": "code",
   "execution_count": 13,
   "metadata": {},
   "outputs": [
    {
     "data": {
      "text/plain": [
       "Index(['text', 'labels', 'cleaned', 'cleaned tokenized', 'period%', 'comma%',\n",
       "       'colon%', 'semicolon%', 'question mark%', 'exclamation mark%', 'dash%',\n",
       "       'apostrophe%', 'close parenthesis%', 'capitalized%', 'slang words%',\n",
       "       'curse words%', 'with numericals%', 'bigrams', 'trigrams'],\n",
       "      dtype='object')"
      ]
     },
     "execution_count": 13,
     "metadata": {},
     "output_type": "execute_result"
    }
   ],
   "source": [
    "train_df.columns"
   ]
  },
  {
   "cell_type": "code",
   "execution_count": 14,
   "metadata": {},
   "outputs": [],
   "source": [
    "from datasets import Dataset\n",
    "\n",
    "train_data = train_df[['text', 'labels']]\n",
    "train_data.to_dict(orient='list')\n",
    "train_ds = Dataset.from_dict(train_data)\n",
    "\n",
    "\n",
    "test_data = test_df[['text', 'labels']]\n",
    "test_data.to_dict(orient='list')\n",
    "test_ds = Dataset.from_dict(test_data)\n",
    "\n",
    "\n",
    "valid_data = valid_df[['text', 'labels']]\n",
    "valid_data.to_dict(orient='list')\n",
    "valid_ds = Dataset.from_dict(valid_data)"
   ]
  },
  {
   "cell_type": "code",
   "execution_count": 15,
   "metadata": {},
   "outputs": [
    {
     "data": {
      "text/plain": [
       "{'text': 'Mindoreño nasungkit ang P378M UltraLotto 6/58 jackpot', 'labels': 1}"
      ]
     },
     "execution_count": 15,
     "metadata": {},
     "output_type": "execute_result"
    }
   ],
   "source": [
    "train_ds[0]"
   ]
  },
  {
   "cell_type": "code",
   "execution_count": 16,
   "metadata": {},
   "outputs": [],
   "source": [
    "from transformers import AutoTokenizer\n",
    "#tokenizer = AutoTokenizer.from_pretrained(\"model = AutoModel.from_pretrained('jcblaise/bert-tagalog-base-cased')\n",
    "tokenizer = AutoTokenizer.from_pretrained('jcblaise/bert-tagalog-base-cased')"
   ]
  },
  {
   "cell_type": "code",
   "execution_count": 17,
   "metadata": {},
   "outputs": [
    {
     "data": {
      "application/vnd.jupyter.widget-view+json": {
       "model_id": "6cd4f495cf6349b29e1dd060256275df",
       "version_major": 2,
       "version_minor": 0
      },
      "text/plain": [
       "Map:   0%|          | 0/2374 [00:00<?, ? examples/s]"
      ]
     },
     "metadata": {},
     "output_type": "display_data"
    },
    {
     "data": {
      "application/vnd.jupyter.widget-view+json": {
       "model_id": "9ad5c473d26348ac9a0ade95c16a96d2",
       "version_major": 2,
       "version_minor": 0
      },
      "text/plain": [
       "Map:   0%|          | 0/672 [00:00<?, ? examples/s]"
      ]
     },
     "metadata": {},
     "output_type": "display_data"
    }
   ],
   "source": [
    "def preprocess_function(examples):\n",
    "   return tokenizer(examples[\"text\"], truncation=True)\n",
    " \n",
    "tokenized_train = train_ds.map(preprocess_function, batched=True)\n",
    "tokenized_test = test_ds.map(preprocess_function, batched=True)"
   ]
  },
  {
   "cell_type": "code",
   "execution_count": 18,
   "metadata": {},
   "outputs": [],
   "source": [
    "from transformers import DataCollatorWithPadding\n",
    "data_collator = DataCollatorWithPadding(tokenizer=tokenizer)"
   ]
  },
  {
   "cell_type": "code",
   "execution_count": 19,
   "metadata": {},
   "outputs": [
    {
     "name": "stderr",
     "output_type": "stream",
     "text": [
      "Some weights of the model checkpoint at jcblaise/bert-tagalog-base-cased were not used when initializing BertForSequenceClassification: ['cls.predictions.transform.dense.bias', 'cls.seq_relationship.bias', 'cls.predictions.decoder.weight', 'cls.predictions.transform.LayerNorm.bias', 'cls.predictions.bias', 'cls.seq_relationship.weight', 'cls.predictions.transform.dense.weight', 'cls.predictions.transform.LayerNorm.weight']\n",
      "- This IS expected if you are initializing BertForSequenceClassification from the checkpoint of a model trained on another task or with another architecture (e.g. initializing a BertForSequenceClassification model from a BertForPreTraining model).\n",
      "- This IS NOT expected if you are initializing BertForSequenceClassification from the checkpoint of a model that you expect to be exactly identical (initializing a BertForSequenceClassification model from a BertForSequenceClassification model).\n",
      "Some weights of BertForSequenceClassification were not initialized from the model checkpoint at jcblaise/bert-tagalog-base-cased and are newly initialized: ['classifier.weight', 'classifier.bias']\n",
      "You should probably TRAIN this model on a down-stream task to be able to use it for predictions and inference.\n"
     ]
    }
   ],
   "source": [
    "from transformers import AutoModelForSequenceClassification\n",
    "model = AutoModelForSequenceClassification.from_pretrained(\"jcblaise/bert-tagalog-base-cased\", num_labels=2)"
   ]
  },
  {
   "cell_type": "code",
   "execution_count": 20,
   "metadata": {},
   "outputs": [],
   "source": [
    "import numpy as np\n",
    "from datasets import load_metric\n",
    " \n",
    "def compute_metrics(eval_pred):\n",
    "   load_accuracy = load_metric(\"accuracy\")\n",
    "   load_f1 = load_metric(\"f1\")\n",
    "  \n",
    "   logits, labels = eval_pred\n",
    "   predictions = np.argmax(logits, axis=-1)\n",
    "   accuracy = load_accuracy.compute(predictions=predictions, references=labels)[\"accuracy\"]\n",
    "   f1 = load_f1.compute(predictions=predictions, references=labels)[\"f1\"]\n",
    "   return {\"accuracy\": accuracy, \"f1\": f1}"
   ]
  },
  {
   "cell_type": "code",
   "execution_count": 21,
   "metadata": {},
   "outputs": [
    {
     "data": {
      "application/vnd.jupyter.widget-view+json": {
       "model_id": "1367895de1d34ca1abafc124adcf5829",
       "version_major": 2,
       "version_minor": 0
      },
      "text/plain": [
       "VBox(children=(HTML(value='<center> <img\\nsrc=https://huggingface.co/front/assets/huggingface_logo-noborder.sv…"
      ]
     },
     "metadata": {},
     "output_type": "display_data"
    }
   ],
   "source": [
    "from transformers import TrainingArguments, Trainer\n",
    "from huggingface_hub import notebook_login\n",
    "notebook_login()"
   ]
  },
  {
   "cell_type": "code",
   "execution_count": 22,
   "metadata": {},
   "outputs": [],
   "source": [
    "from transformers import TrainingArguments, Trainer"
   ]
  },
  {
   "cell_type": "code",
   "execution_count": 23,
   "metadata": {},
   "outputs": [],
   "source": [
    "folder = r'C:\\Users\\cvaal\\ML2\\Automated Fact Checker\\headline scraping\\transformer-models\\english-headlines'\n",
    "repo_name = 'tagalog-fake-news-headline-classifier-distilbert'\n",
    "training_args = TrainingArguments(\n",
    "   output_dir=repo_name,\n",
    "   learning_rate=2e-5,\n",
    "   per_device_train_batch_size=6,\n",
    "   per_device_eval_batch_size=6,\n",
    "   num_train_epochs=50,\n",
    "   weight_decay=0.01,\n",
    "   save_strategy=\"epoch\",\n",
    "   push_to_hub=False,\n",
    ")\n",
    " \n",
    "trainer = Trainer(\n",
    "   model=model,\n",
    "   args=training_args,\n",
    "   train_dataset=tokenized_train,\n",
    "   eval_dataset=tokenized_test,\n",
    "   tokenizer=tokenizer,\n",
    "   data_collator=data_collator,\n",
    "   compute_metrics=compute_metrics,\n",
    ")"
   ]
  },
  {
   "cell_type": "code",
   "execution_count": 24,
   "metadata": {},
   "outputs": [
    {
     "name": "stderr",
     "output_type": "stream",
     "text": [
      "c:\\Users\\cvaal\\anaconda3\\envs\\torch-gpu-2.0.1\\lib\\site-packages\\transformers\\optimization.py:391: FutureWarning: This implementation of AdamW is deprecated and will be removed in a future version. Use the PyTorch implementation torch.optim.AdamW instead, or set `no_deprecation_warning=True` to disable this warning\n",
      "  warnings.warn(\n"
     ]
    },
    {
     "data": {
      "application/vnd.jupyter.widget-view+json": {
       "model_id": "ff1a1fb57bc34d7ebe9e9a639bb27937",
       "version_major": 2,
       "version_minor": 0
      },
      "text/plain": [
       "  0%|          | 0/19800 [00:00<?, ?it/s]"
      ]
     },
     "metadata": {},
     "output_type": "display_data"
    },
    {
     "name": "stderr",
     "output_type": "stream",
     "text": [
      "You're using a BertTokenizerFast tokenizer. Please note that with a fast tokenizer, using the `__call__` method is faster than using a method to encode the text followed by a call to the `pad` method to get a padded encoding.\n"
     ]
    },
    {
     "name": "stdout",
     "output_type": "stream",
     "text": [
      "{'loss': 0.326, 'learning_rate': 1.9494949494949496e-05, 'epoch': 1.26}\n",
      "{'loss': 0.1291, 'learning_rate': 1.8989898989898993e-05, 'epoch': 2.53}\n",
      "{'loss': 0.0112, 'learning_rate': 1.8484848484848487e-05, 'epoch': 3.79}\n",
      "{'loss': 0.0008, 'learning_rate': 1.797979797979798e-05, 'epoch': 5.05}\n",
      "{'loss': 0.0002, 'learning_rate': 1.7474747474747475e-05, 'epoch': 6.31}\n",
      "{'loss': 0.0, 'learning_rate': 1.6969696969696972e-05, 'epoch': 7.58}\n",
      "{'loss': 0.0, 'learning_rate': 1.6464646464646466e-05, 'epoch': 8.84}\n",
      "{'loss': 0.0111, 'learning_rate': 1.595959595959596e-05, 'epoch': 10.1}\n",
      "{'loss': 0.0191, 'learning_rate': 1.5454545454545454e-05, 'epoch': 11.36}\n",
      "{'loss': 0.0148, 'learning_rate': 1.4949494949494952e-05, 'epoch': 12.63}\n",
      "{'loss': 0.0106, 'learning_rate': 1.4444444444444446e-05, 'epoch': 13.89}\n",
      "{'loss': 0.0035, 'learning_rate': 1.3939393939393942e-05, 'epoch': 15.15}\n",
      "{'loss': 0.0047, 'learning_rate': 1.3434343434343436e-05, 'epoch': 16.41}\n",
      "{'loss': 0.0062, 'learning_rate': 1.2929292929292931e-05, 'epoch': 17.68}\n",
      "{'loss': 0.0086, 'learning_rate': 1.2424242424242425e-05, 'epoch': 18.94}\n",
      "{'loss': 0.0036, 'learning_rate': 1.191919191919192e-05, 'epoch': 20.2}\n",
      "{'loss': 0.0022, 'learning_rate': 1.1414141414141415e-05, 'epoch': 21.46}\n",
      "{'loss': 0.0021, 'learning_rate': 1.0909090909090909e-05, 'epoch': 22.73}\n",
      "{'loss': 0.0, 'learning_rate': 1.0404040404040405e-05, 'epoch': 23.99}\n",
      "{'loss': 0.0, 'learning_rate': 9.8989898989899e-06, 'epoch': 25.25}\n",
      "{'loss': 0.0, 'learning_rate': 9.393939393939396e-06, 'epoch': 26.52}\n",
      "{'loss': 0.0, 'learning_rate': 8.888888888888888e-06, 'epoch': 27.78}\n",
      "{'loss': 0.0015, 'learning_rate': 8.383838383838384e-06, 'epoch': 29.04}\n",
      "{'loss': 0.0, 'learning_rate': 7.87878787878788e-06, 'epoch': 30.3}\n",
      "{'loss': 0.0086, 'learning_rate': 7.373737373737374e-06, 'epoch': 31.57}\n",
      "{'loss': 0.0021, 'learning_rate': 6.868686868686869e-06, 'epoch': 32.83}\n",
      "{'loss': 0.0001, 'learning_rate': 6.363636363636364e-06, 'epoch': 34.09}\n",
      "{'loss': 0.0029, 'learning_rate': 5.858585858585859e-06, 'epoch': 35.35}\n",
      "{'loss': 0.0, 'learning_rate': 5.353535353535354e-06, 'epoch': 36.62}\n",
      "{'loss': 0.0, 'learning_rate': 4.848484848484849e-06, 'epoch': 37.88}\n",
      "{'loss': 0.0, 'learning_rate': 4.343434343434344e-06, 'epoch': 39.14}\n",
      "{'loss': 0.0, 'learning_rate': 3.8383838383838385e-06, 'epoch': 40.4}\n",
      "{'loss': 0.0012, 'learning_rate': 3.3333333333333333e-06, 'epoch': 41.67}\n",
      "{'loss': 0.0019, 'learning_rate': 2.8282828282828286e-06, 'epoch': 42.93}\n",
      "{'loss': 0.0, 'learning_rate': 2.3232323232323234e-06, 'epoch': 44.19}\n",
      "{'loss': 0.0, 'learning_rate': 1.8181818181818183e-06, 'epoch': 45.45}\n",
      "{'loss': 0.0, 'learning_rate': 1.3131313131313134e-06, 'epoch': 46.72}\n",
      "{'loss': 0.0, 'learning_rate': 8.080808080808082e-07, 'epoch': 47.98}\n",
      "{'loss': 0.0, 'learning_rate': 3.0303030303030305e-07, 'epoch': 49.24}\n",
      "{'train_runtime': 3252.7156, 'train_samples_per_second': 36.493, 'train_steps_per_second': 6.087, 'train_loss': 0.014451364451046854, 'epoch': 50.0}\n"
     ]
    },
    {
     "data": {
      "text/plain": [
       "TrainOutput(global_step=19800, training_loss=0.014451364451046854, metrics={'train_runtime': 3252.7156, 'train_samples_per_second': 36.493, 'train_steps_per_second': 6.087, 'train_loss': 0.014451364451046854, 'epoch': 50.0})"
      ]
     },
     "execution_count": 24,
     "metadata": {},
     "output_type": "execute_result"
    }
   ],
   "source": [
    "trainer.train()"
   ]
  },
  {
   "cell_type": "code",
   "execution_count": 22,
   "metadata": {},
   "outputs": [
    {
     "data": {
      "application/vnd.jupyter.widget-view+json": {
       "model_id": "2a221816577449f09dd104350eeedaff",
       "version_major": 2,
       "version_minor": 0
      },
      "text/plain": [
       "  0%|          | 0/114 [00:00<?, ?it/s]"
      ]
     },
     "metadata": {},
     "output_type": "display_data"
    },
    {
     "name": "stderr",
     "output_type": "stream",
     "text": [
      "C:\\Users\\cvaal\\AppData\\Local\\Temp\\ipykernel_26856\\1757224399.py:5: FutureWarning: load_metric is deprecated and will be removed in the next major version of datasets. Use 'evaluate.load' instead, from the new library 🤗 Evaluate: https://huggingface.co/docs/evaluate\n",
      "  load_accuracy = load_metric(\"accuracy\")\n"
     ]
    },
    {
     "data": {
      "text/plain": [
       "{'eval_loss': 1.0021512508392334,\n",
       " 'eval_accuracy': 0.9254385964912281,\n",
       " 'eval_f1': 0.9270386266094421,\n",
       " 'eval_runtime': 6.7686,\n",
       " 'eval_samples_per_second': 101.055,\n",
       " 'eval_steps_per_second': 16.843,\n",
       " 'epoch': 50.0}"
      ]
     },
     "execution_count": 22,
     "metadata": {},
     "output_type": "execute_result"
    }
   ],
   "source": [
    "trainer.evaluate()"
   ]
  },
  {
   "cell_type": "code",
   "execution_count": 23,
   "metadata": {},
   "outputs": [
    {
     "data": {
      "text/plain": [
       "259"
      ]
     },
     "execution_count": 23,
     "metadata": {},
     "output_type": "execute_result"
    }
   ],
   "source": [
    "import gc\n",
    "torch.cuda.empty_cache()\n",
    "gc.collect()"
   ]
  },
  {
   "cell_type": "code",
   "execution_count": 24,
   "metadata": {},
   "outputs": [],
   "source": [
    "!git lfs install"
   ]
  },
  {
   "cell_type": "code",
   "execution_count": 30,
   "metadata": {},
   "outputs": [
    {
     "ename": "OSError",
     "evalue": "Tried to clone a repository in a non-empty folder that isn't a git repository ('c:\\Users\\cvaal\\ML2\\Automated Fact Checker\\headline scraping\\tagalog-fake-news-headline-classifier-distilbert'). If you really want to do this, do it manually:\n cd c:\\Users\\cvaal\\ML2\\Automated Fact Checker\\headline scraping\\tagalog-fake-news-headline-classifier-distilbert && git init && git remote add origin && git pull origin main\n or clone repo to a new folder and move your existing files there afterwards.",
     "output_type": "error",
     "traceback": [
      "\u001b[1;31m---------------------------------------------------------------------------\u001b[0m",
      "\u001b[1;31mOSError\u001b[0m                                   Traceback (most recent call last)",
      "Cell \u001b[1;32mIn[30], line 2\u001b[0m\n\u001b[0;32m      1\u001b[0m \u001b[39m#import os\u001b[39;00m\n\u001b[1;32m----> 2\u001b[0m trainer\u001b[39m.\u001b[39;49mpush_to_hub()\n",
      "File \u001b[1;32mc:\\Users\\cvaal\\anaconda3\\envs\\torch-gpu-2.0.1\\lib\\site-packages\\transformers\\trainer.py:3639\u001b[0m, in \u001b[0;36mTrainer.push_to_hub\u001b[1;34m(self, commit_message, blocking, **kwargs)\u001b[0m\n\u001b[0;32m   3636\u001b[0m \u001b[39m# If a user calls manually `push_to_hub` with `self.args.push_to_hub = False`, we try to create the repo but\u001b[39;00m\n\u001b[0;32m   3637\u001b[0m \u001b[39m# it might fail.\u001b[39;00m\n\u001b[0;32m   3638\u001b[0m \u001b[39mif\u001b[39;00m \u001b[39mnot\u001b[39;00m \u001b[39mhasattr\u001b[39m(\u001b[39mself\u001b[39m, \u001b[39m\"\u001b[39m\u001b[39mrepo\u001b[39m\u001b[39m\"\u001b[39m):\n\u001b[1;32m-> 3639\u001b[0m     \u001b[39mself\u001b[39;49m\u001b[39m.\u001b[39;49minit_git_repo()\n\u001b[0;32m   3641\u001b[0m model_name \u001b[39m=\u001b[39m kwargs\u001b[39m.\u001b[39mpop(\u001b[39m\"\u001b[39m\u001b[39mmodel_name\u001b[39m\u001b[39m\"\u001b[39m, \u001b[39mNone\u001b[39;00m)\n\u001b[0;32m   3642\u001b[0m \u001b[39mif\u001b[39;00m model_name \u001b[39mis\u001b[39;00m \u001b[39mNone\u001b[39;00m \u001b[39mand\u001b[39;00m \u001b[39mself\u001b[39m\u001b[39m.\u001b[39margs\u001b[39m.\u001b[39mshould_save:\n",
      "File \u001b[1;32mc:\\Users\\cvaal\\anaconda3\\envs\\torch-gpu-2.0.1\\lib\\site-packages\\transformers\\trainer.py:3497\u001b[0m, in \u001b[0;36mTrainer.init_git_repo\u001b[1;34m(self, at_init)\u001b[0m\n\u001b[0;32m   3495\u001b[0m create_repo(repo_name, token\u001b[39m=\u001b[39m\u001b[39mself\u001b[39m\u001b[39m.\u001b[39margs\u001b[39m.\u001b[39mhub_token, private\u001b[39m=\u001b[39m\u001b[39mself\u001b[39m\u001b[39m.\u001b[39margs\u001b[39m.\u001b[39mhub_private_repo, exist_ok\u001b[39m=\u001b[39m\u001b[39mTrue\u001b[39;00m)\n\u001b[0;32m   3496\u001b[0m \u001b[39mtry\u001b[39;00m:\n\u001b[1;32m-> 3497\u001b[0m     \u001b[39mself\u001b[39m\u001b[39m.\u001b[39mrepo \u001b[39m=\u001b[39m Repository(\u001b[39mself\u001b[39;49m\u001b[39m.\u001b[39;49margs\u001b[39m.\u001b[39;49moutput_dir, clone_from\u001b[39m=\u001b[39;49mrepo_name, token\u001b[39m=\u001b[39;49m\u001b[39mself\u001b[39;49m\u001b[39m.\u001b[39;49margs\u001b[39m.\u001b[39;49mhub_token)\n\u001b[0;32m   3498\u001b[0m \u001b[39mexcept\u001b[39;00m \u001b[39mEnvironmentError\u001b[39;00m:\n\u001b[0;32m   3499\u001b[0m     \u001b[39mif\u001b[39;00m \u001b[39mself\u001b[39m\u001b[39m.\u001b[39margs\u001b[39m.\u001b[39moverwrite_output_dir \u001b[39mand\u001b[39;00m at_init:\n\u001b[0;32m   3500\u001b[0m         \u001b[39m# Try again after wiping output_dir\u001b[39;00m\n",
      "File \u001b[1;32mc:\\Users\\cvaal\\anaconda3\\envs\\torch-gpu-2.0.1\\lib\\site-packages\\huggingface_hub\\utils\\_validators.py:120\u001b[0m, in \u001b[0;36mvalidate_hf_hub_args.<locals>._inner_fn\u001b[1;34m(*args, **kwargs)\u001b[0m\n\u001b[0;32m    117\u001b[0m \u001b[39mif\u001b[39;00m check_use_auth_token:\n\u001b[0;32m    118\u001b[0m     kwargs \u001b[39m=\u001b[39m smoothly_deprecate_use_auth_token(fn_name\u001b[39m=\u001b[39mfn\u001b[39m.\u001b[39m\u001b[39m__name__\u001b[39m, has_token\u001b[39m=\u001b[39mhas_token, kwargs\u001b[39m=\u001b[39mkwargs)\n\u001b[1;32m--> 120\u001b[0m \u001b[39mreturn\u001b[39;00m fn(\u001b[39m*\u001b[39margs, \u001b[39m*\u001b[39m\u001b[39m*\u001b[39mkwargs)\n",
      "File \u001b[1;32mc:\\Users\\cvaal\\anaconda3\\envs\\torch-gpu-2.0.1\\lib\\site-packages\\huggingface_hub\\repository.py:516\u001b[0m, in \u001b[0;36mRepository.__init__\u001b[1;34m(self, local_dir, clone_from, repo_type, token, git_user, git_email, revision, skip_lfs_files, client)\u001b[0m\n\u001b[0;32m    513\u001b[0m     \u001b[39mself\u001b[39m\u001b[39m.\u001b[39mhuggingface_token \u001b[39m=\u001b[39m HfFolder\u001b[39m.\u001b[39mget_token()\n\u001b[0;32m    515\u001b[0m \u001b[39mif\u001b[39;00m clone_from \u001b[39mis\u001b[39;00m \u001b[39mnot\u001b[39;00m \u001b[39mNone\u001b[39;00m:\n\u001b[1;32m--> 516\u001b[0m     \u001b[39mself\u001b[39;49m\u001b[39m.\u001b[39;49mclone_from(repo_url\u001b[39m=\u001b[39;49mclone_from)\n\u001b[0;32m    517\u001b[0m \u001b[39melse\u001b[39;00m:\n\u001b[0;32m    518\u001b[0m     \u001b[39mif\u001b[39;00m is_git_repo(\u001b[39mself\u001b[39m\u001b[39m.\u001b[39mlocal_dir):\n",
      "File \u001b[1;32mc:\\Users\\cvaal\\anaconda3\\envs\\torch-gpu-2.0.1\\lib\\site-packages\\huggingface_hub\\utils\\_validators.py:120\u001b[0m, in \u001b[0;36mvalidate_hf_hub_args.<locals>._inner_fn\u001b[1;34m(*args, **kwargs)\u001b[0m\n\u001b[0;32m    117\u001b[0m \u001b[39mif\u001b[39;00m check_use_auth_token:\n\u001b[0;32m    118\u001b[0m     kwargs \u001b[39m=\u001b[39m smoothly_deprecate_use_auth_token(fn_name\u001b[39m=\u001b[39mfn\u001b[39m.\u001b[39m\u001b[39m__name__\u001b[39m, has_token\u001b[39m=\u001b[39mhas_token, kwargs\u001b[39m=\u001b[39mkwargs)\n\u001b[1;32m--> 120\u001b[0m \u001b[39mreturn\u001b[39;00m fn(\u001b[39m*\u001b[39margs, \u001b[39m*\u001b[39m\u001b[39m*\u001b[39mkwargs)\n",
      "File \u001b[1;32mc:\\Users\\cvaal\\anaconda3\\envs\\torch-gpu-2.0.1\\lib\\site-packages\\huggingface_hub\\repository.py:680\u001b[0m, in \u001b[0;36mRepository.clone_from\u001b[1;34m(self, repo_url, token)\u001b[0m\n\u001b[0;32m    677\u001b[0m \u001b[39melse\u001b[39;00m:\n\u001b[0;32m    678\u001b[0m     \u001b[39m# Check if the folder is the root of a git repository\u001b[39;00m\n\u001b[0;32m    679\u001b[0m     \u001b[39mif\u001b[39;00m \u001b[39mnot\u001b[39;00m is_git_repo(\u001b[39mself\u001b[39m\u001b[39m.\u001b[39mlocal_dir):\n\u001b[1;32m--> 680\u001b[0m         \u001b[39mraise\u001b[39;00m \u001b[39mEnvironmentError\u001b[39;00m(\n\u001b[0;32m    681\u001b[0m             \u001b[39m\"\u001b[39m\u001b[39mTried to clone a repository in a non-empty folder that isn\u001b[39m\u001b[39m'\u001b[39m\u001b[39mt\u001b[39m\u001b[39m\"\u001b[39m\n\u001b[0;32m    682\u001b[0m             \u001b[39mf\u001b[39m\u001b[39m\"\u001b[39m\u001b[39m a git repository (\u001b[39m\u001b[39m'\u001b[39m\u001b[39m{\u001b[39;00m\u001b[39mself\u001b[39m\u001b[39m.\u001b[39mlocal_dir\u001b[39m}\u001b[39;00m\u001b[39m'\u001b[39m\u001b[39m). If you really want to\u001b[39m\u001b[39m\"\u001b[39m\n\u001b[0;32m    683\u001b[0m             \u001b[39mf\u001b[39m\u001b[39m\"\u001b[39m\u001b[39m do this, do it manually:\u001b[39m\u001b[39m\\n\u001b[39;00m\u001b[39m cd \u001b[39m\u001b[39m{\u001b[39;00m\u001b[39mself\u001b[39m\u001b[39m.\u001b[39mlocal_dir\u001b[39m}\u001b[39;00m\u001b[39m && git init\u001b[39m\u001b[39m\"\u001b[39m\n\u001b[0;32m    684\u001b[0m             \u001b[39m\"\u001b[39m\u001b[39m && git remote add origin && git pull origin main\u001b[39m\u001b[39m\\n\u001b[39;00m\u001b[39m or clone\u001b[39m\u001b[39m\"\u001b[39m\n\u001b[0;32m    685\u001b[0m             \u001b[39m\"\u001b[39m\u001b[39m repo to a new folder and move your existing files there\u001b[39m\u001b[39m\"\u001b[39m\n\u001b[0;32m    686\u001b[0m             \u001b[39m\"\u001b[39m\u001b[39m afterwards.\u001b[39m\u001b[39m\"\u001b[39m\n\u001b[0;32m    687\u001b[0m         )\n\u001b[0;32m    689\u001b[0m     \u001b[39mif\u001b[39;00m is_local_clone(\u001b[39mself\u001b[39m\u001b[39m.\u001b[39mlocal_dir, repo_url):\n\u001b[0;32m    690\u001b[0m         logger\u001b[39m.\u001b[39mwarning(\n\u001b[0;32m    691\u001b[0m             \u001b[39mf\u001b[39m\u001b[39m\"\u001b[39m\u001b[39m{\u001b[39;00m\u001b[39mself\u001b[39m\u001b[39m.\u001b[39mlocal_dir\u001b[39m}\u001b[39;00m\u001b[39m is already a clone of \u001b[39m\u001b[39m{\u001b[39;00mclean_repo_url\u001b[39m}\u001b[39;00m\u001b[39m.\u001b[39m\u001b[39m\"\u001b[39m\n\u001b[0;32m    692\u001b[0m             \u001b[39m\"\u001b[39m\u001b[39m Make sure you pull the latest changes with\u001b[39m\u001b[39m\"\u001b[39m\n\u001b[0;32m    693\u001b[0m             \u001b[39m\"\u001b[39m\u001b[39m `repo.git_pull()`.\u001b[39m\u001b[39m\"\u001b[39m\n\u001b[0;32m    694\u001b[0m         )\n",
      "\u001b[1;31mOSError\u001b[0m: Tried to clone a repository in a non-empty folder that isn't a git repository ('c:\\Users\\cvaal\\ML2\\Automated Fact Checker\\headline scraping\\tagalog-fake-news-headline-classifier-distilbert'). If you really want to do this, do it manually:\n cd c:\\Users\\cvaal\\ML2\\Automated Fact Checker\\headline scraping\\tagalog-fake-news-headline-classifier-distilbert && git init && git remote add origin && git pull origin main\n or clone repo to a new folder and move your existing files there afterwards."
     ]
    }
   ],
   "source": [
    "#import os\n",
    "trainer.push_to_hub()"
   ]
  },
  {
   "cell_type": "code",
   "execution_count": 32,
   "metadata": {},
   "outputs": [
    {
     "data": {
      "application/vnd.jupyter.widget-view+json": {
       "model_id": "5e26037760504c798ea7ac4f12d35976",
       "version_major": 2,
       "version_minor": 0
      },
      "text/plain": [
       "Downloading (…)lve/main/config.json:   0%|          | 0.00/898 [00:00<?, ?B/s]"
      ]
     },
     "metadata": {},
     "output_type": "display_data"
    },
    {
     "name": "stderr",
     "output_type": "stream",
     "text": [
      "c:\\Users\\cvaal\\anaconda3\\envs\\torch-gpu-2.0.1\\lib\\site-packages\\huggingface_hub\\file_download.py:133: UserWarning: `huggingface_hub` cache-system uses symlinks by default to efficiently store duplicated files but your machine does not support them in C:\\Users\\cvaal\\.cache\\huggingface\\hub. Caching files will still work but in a degraded version that might require more space on your disk. This warning can be disabled by setting the `HF_HUB_DISABLE_SYMLINKS_WARNING` environment variable. For more details, see https://huggingface.co/docs/huggingface_hub/how-to-cache#limitations.\n",
      "To support symlinks on Windows, you either need to activate Developer Mode or to run Python as an administrator. In order to see activate developer mode, see this article: https://docs.microsoft.com/en-us/windows/apps/get-started/enable-your-device-for-development\n",
      "  warnings.warn(message)\n"
     ]
    },
    {
     "data": {
      "application/vnd.jupyter.widget-view+json": {
       "model_id": "b56e86817d464883818322e246add99e",
       "version_major": 2,
       "version_minor": 0
      },
      "text/plain": [
       "Downloading pytorch_model.bin:   0%|          | 0.00/437M [00:00<?, ?B/s]"
      ]
     },
     "metadata": {},
     "output_type": "display_data"
    },
    {
     "data": {
      "application/vnd.jupyter.widget-view+json": {
       "model_id": "9fd84c5a7df84dd49d526b49ac039708",
       "version_major": 2,
       "version_minor": 0
      },
      "text/plain": [
       "Downloading (…)okenizer_config.json:   0%|          | 0.00/367 [00:00<?, ?B/s]"
      ]
     },
     "metadata": {},
     "output_type": "display_data"
    },
    {
     "data": {
      "application/vnd.jupyter.widget-view+json": {
       "model_id": "177365d70d204a72b43ea8687956edc9",
       "version_major": 2,
       "version_minor": 0
      },
      "text/plain": [
       "Downloading (…)solve/main/vocab.txt:   0%|          | 0.00/256k [00:00<?, ?B/s]"
      ]
     },
     "metadata": {},
     "output_type": "display_data"
    },
    {
     "data": {
      "application/vnd.jupyter.widget-view+json": {
       "model_id": "594ad1a248ef47d48b61685eeccff738",
       "version_major": 2,
       "version_minor": 0
      },
      "text/plain": [
       "Downloading (…)/main/tokenizer.json:   0%|          | 0.00/729k [00:00<?, ?B/s]"
      ]
     },
     "metadata": {},
     "output_type": "display_data"
    },
    {
     "data": {
      "application/vnd.jupyter.widget-view+json": {
       "model_id": "6749ba6ba4cd4ed393a5e7e8e46997d0",
       "version_major": 2,
       "version_minor": 0
      },
      "text/plain": [
       "Downloading (…)cial_tokens_map.json:   0%|          | 0.00/125 [00:00<?, ?B/s]"
      ]
     },
     "metadata": {},
     "output_type": "display_data"
    }
   ],
   "source": [
    "from transformers import pipeline\n",
    " \n",
    "sentiment_model = pipeline(model=\"gloobdoob/tagalog-fake-news-headline-classifier-distilbert\")\n"
   ]
  },
  {
   "cell_type": "code",
   "execution_count": 27,
   "metadata": {},
   "outputs": [],
   "source": [
    "#type(valid_ds[7]['labels'])"
   ]
  },
  {
   "cell_type": "code",
   "execution_count": 33,
   "metadata": {},
   "outputs": [],
   "source": [
    "from collections import defaultdict\n",
    "res = defaultdict(list)\n"
   ]
  },
  {
   "cell_type": "code",
   "execution_count": 29,
   "metadata": {},
   "outputs": [
    {
     "ename": "NameError",
     "evalue": "name 'sentiment_model' is not defined",
     "output_type": "error",
     "traceback": [
      "\u001b[1;31m---------------------------------------------------------------------------\u001b[0m",
      "\u001b[1;31mNameError\u001b[0m                                 Traceback (most recent call last)",
      "Cell \u001b[1;32mIn[29], line 1\u001b[0m\n\u001b[1;32m----> 1\u001b[0m sentiment_model([valid_ds[\u001b[39m7\u001b[39m][\u001b[39m'\u001b[39m\u001b[39mtext\u001b[39m\u001b[39m'\u001b[39m]])[\u001b[39m0\u001b[39m][\u001b[39m'\u001b[39m\u001b[39mlabel\u001b[39m\u001b[39m'\u001b[39m] \u001b[39m==\u001b[39m \u001b[39m'\u001b[39m\u001b[39mLABEL_1\u001b[39m\u001b[39m'\u001b[39m\n",
      "\u001b[1;31mNameError\u001b[0m: name 'sentiment_model' is not defined"
     ]
    }
   ],
   "source": [
    "sentiment_model([valid_ds[7]['text']])[0]['label'] == 'LABEL_1'"
   ]
  },
  {
   "cell_type": "code",
   "execution_count": 34,
   "metadata": {},
   "outputs": [],
   "source": [
    "for i in valid_ds:\n",
    "    res['text'].append(i['text'])\n",
    "    res['label'].append(i['labels'])\n",
    "    if sentiment_model([i['text']])[0]['label'] == 'LABEL_1':\n",
    "        res['pred'].append(1)\n",
    "    else:\n",
    "        res['pred'].append(0)\n"
   ]
  },
  {
   "cell_type": "code",
   "execution_count": null,
   "metadata": {},
   "outputs": [],
   "source": []
  },
  {
   "cell_type": "code",
   "execution_count": 36,
   "metadata": {},
   "outputs": [
    {
     "data": {
      "text/html": [
       "<div>\n",
       "<style scoped>\n",
       "    .dataframe tbody tr th:only-of-type {\n",
       "        vertical-align: middle;\n",
       "    }\n",
       "\n",
       "    .dataframe tbody tr th {\n",
       "        vertical-align: top;\n",
       "    }\n",
       "\n",
       "    .dataframe thead th {\n",
       "        text-align: right;\n",
       "    }\n",
       "</style>\n",
       "<table border=\"1\" class=\"dataframe\">\n",
       "  <thead>\n",
       "    <tr style=\"text-align: right;\">\n",
       "      <th></th>\n",
       "      <th>text</th>\n",
       "      <th>label</th>\n",
       "      <th>pred</th>\n",
       "      <th>equal</th>\n",
       "    </tr>\n",
       "  </thead>\n",
       "  <tbody>\n",
       "    <tr>\n",
       "      <th>0</th>\n",
       "      <td>Comelec, iniulat na halos 74% nang kumpleto an...</td>\n",
       "      <td>1</td>\n",
       "      <td>1</td>\n",
       "      <td>False</td>\n",
       "    </tr>\n",
       "    <tr>\n",
       "      <th>1</th>\n",
       "      <td>Pagbabayad ng buwis sa Caloocan City, online n...</td>\n",
       "      <td>1</td>\n",
       "      <td>1</td>\n",
       "      <td>False</td>\n",
       "    </tr>\n",
       "    <tr>\n",
       "      <th>2</th>\n",
       "      <td>Nakakaantig na pagtulong sa isang PWD na nawal...</td>\n",
       "      <td>0</td>\n",
       "      <td>0</td>\n",
       "      <td>False</td>\n",
       "    </tr>\n",
       "    <tr>\n",
       "      <th>3</th>\n",
       "      <td>77-anyos na lola, namamalimos kahit nagpapadal...</td>\n",
       "      <td>0</td>\n",
       "      <td>0</td>\n",
       "      <td>False</td>\n",
       "    </tr>\n",
       "    <tr>\n",
       "      <th>4</th>\n",
       "      <td>99% ng mga respondents sa SWS survey, nagsabin...</td>\n",
       "      <td>1</td>\n",
       "      <td>0</td>\n",
       "      <td>False</td>\n",
       "    </tr>\n",
       "    <tr>\n",
       "      <th>...</th>\n",
       "      <td>...</td>\n",
       "      <td>...</td>\n",
       "      <td>...</td>\n",
       "      <td>...</td>\n",
       "    </tr>\n",
       "    <tr>\n",
       "      <th>347</th>\n",
       "      <td>Trainer aircraft, bumagsak sa Lipa City; mga p...</td>\n",
       "      <td>1</td>\n",
       "      <td>1</td>\n",
       "      <td>False</td>\n",
       "    </tr>\n",
       "    <tr>\n",
       "      <th>348</th>\n",
       "      <td>Isang Grab driver, ibinalik ang P1.6M na peran...</td>\n",
       "      <td>0</td>\n",
       "      <td>0</td>\n",
       "      <td>False</td>\n",
       "    </tr>\n",
       "    <tr>\n",
       "      <th>349</th>\n",
       "      <td>Kahanga-hanga itong grupo ng kabataan na nakap...</td>\n",
       "      <td>0</td>\n",
       "      <td>0</td>\n",
       "      <td>False</td>\n",
       "    </tr>\n",
       "    <tr>\n",
       "      <th>350</th>\n",
       "      <td>Mga BETERANANG AKTRES noon na isa nang LOLA ng...</td>\n",
       "      <td>0</td>\n",
       "      <td>0</td>\n",
       "      <td>False</td>\n",
       "    </tr>\n",
       "    <tr>\n",
       "      <th>351</th>\n",
       "      <td>Veteran broadcaster Percy Lapid patay sa ambush</td>\n",
       "      <td>1</td>\n",
       "      <td>1</td>\n",
       "      <td>False</td>\n",
       "    </tr>\n",
       "  </tbody>\n",
       "</table>\n",
       "<p>352 rows × 4 columns</p>\n",
       "</div>"
      ],
      "text/plain": [
       "                                                  text  label  pred  equal\n",
       "0    Comelec, iniulat na halos 74% nang kumpleto an...      1     1  False\n",
       "1    Pagbabayad ng buwis sa Caloocan City, online n...      1     1  False\n",
       "2    Nakakaantig na pagtulong sa isang PWD na nawal...      0     0  False\n",
       "3    77-anyos na lola, namamalimos kahit nagpapadal...      0     0  False\n",
       "4    99% ng mga respondents sa SWS survey, nagsabin...      1     0  False\n",
       "..                                                 ...    ...   ...    ...\n",
       "347  Trainer aircraft, bumagsak sa Lipa City; mga p...      1     1  False\n",
       "348  Isang Grab driver, ibinalik ang P1.6M na peran...      0     0  False\n",
       "349  Kahanga-hanga itong grupo ng kabataan na nakap...      0     0  False\n",
       "350  Mga BETERANANG AKTRES noon na isa nang LOLA ng...      0     0  False\n",
       "351    Veteran broadcaster Percy Lapid patay sa ambush      1     1  False\n",
       "\n",
       "[352 rows x 4 columns]"
      ]
     },
     "execution_count": 36,
     "metadata": {},
     "output_type": "execute_result"
    }
   ],
   "source": [
    "df_res = pd.DataFrame(res)\n",
    "df_res['equal'] = df_res['label'].equals(df_res['pred'])\n",
    "df_res"
   ]
  },
  {
   "cell_type": "code",
   "execution_count": 37,
   "metadata": {},
   "outputs": [],
   "source": [
    "import sklearn\n",
    "acc = sklearn.metrics.accuracy_score(df_res.pred.values, \n",
    "                                     df_res.label.values)"
   ]
  },
  {
   "cell_type": "code",
   "execution_count": 39,
   "metadata": {},
   "outputs": [
    {
     "data": {
      "text/plain": [
       "array(['Comelec, iniulat na halos 74% nang kumpleto ang pag-imprenta ng mga balota na gagamitin sa BSKE sa Oktubre',\n",
       "       'Pagbabayad ng buwis sa Caloocan City, online na rin',\n",
       "       'Nakakaantig na pagtulong sa isang PWD na nawalan na ng pag-asa sa buhay, pinusuan ng libo-libong netizens.',\n",
       "       '77-anyos na lola, namamalimos kahit nagpapadala ng P30,000 kada buwan ang anak na nasa Japan ',\n",
       "       '99% ng mga respondents sa SWS survey, nagsabing proud sila bilang isang Pilipino',\n",
       "       'Ang linis naman! Itinatampok ang binansagang cleanest wet market sa Pilipinas.',\n",
       "       ' Kilalanin ang babaeng nagpapatibok ngayon sa puso ng aktor na si Dennis Padilla',\n",
       "       ' 102-anyos na lola, mayroong  mahigit 100 na apo; nakatanggap ng P100,000 ',\n",
       "       'Pinoy priest na isa ring Licensed Fitness Instructor, pinagkaguluhan ng netizens',\n",
       "       \"Masungit na inahing Baka, napaiyak matapos tulungang maisilang ang kanyang una't huling anak.\",\n",
       "       ' Netizen na nabiktima ng scammer, naging mas matalino ang naging aksyon laban sa manloloko',\n",
       "       'DOJ chief Remulla sa mga natagpuang kalansay: A probable archaeological site…this might be war time',\n",
       "       'Outbound passengers sa mga pantalan, umaabot sa 15,000',\n",
       "       'Lola mag-isang kumakayod sa paninimot ng tira-tirang palay para may maisasaing',\n",
       "       'Invisible 50 ipon challenge ng isang misis, umabot sa 65K sa loob lamang ng 3 buwan',\n",
       "       'Panghoholdap ng lalaki sa mag-asawang naka-e-bike, nahuli-cam sa Navotas',\n",
       "       'Matandang magtataho na nakaidlip habang nagtitinda, nagbigay inspirasyon online',\n",
       "       \"Kwento ng isang Mental Hospital Patient na ngayo'y isa ng Psychology Graduate, Hinangaan at Pinuri ng marami!\",\n",
       "       ' Hinaing ng isang amang napilitang mamalimos sa kalsada matapos abandonahin ng mga anak',\n",
       "       'Astig na artista pero mapagmahal na asawa at ama. Ang totoong Joko Diaz sa likod ng camera.',\n",
       "       'Seaman naglabas ng saloobin at pinasinungalingan ang mga maling pananaw ng karamihan tungkol sa kanila',\n",
       "       'Dating Teen Star Antoinette Taus, 41-anyos na pero parang hindi tumatanda. Pang-bagets pa rin ang kagandahan.',\n",
       "       'France,Germany, handang makipagtulungan sa Pilipinas para mapahusay ang maritime security',\n",
       "       'DOTr, Pasay goverment sanib-pwersa para sa Integrated Pasay Monorail & EDSA-Tramo Flyover Extension Project',\n",
       "       'Magkasintahan nahulihan ng P680,000 halaga ng shabu umano sa Maynila',\n",
       "       'Mura bumuhos ang luha, hindi matanggap ang pagkawala ni Mahal',\n",
       "       \"Lalaki, hindi mapakasalan ang girlfriend dahil hindi kaya ang 'Kasalang Batangas'\",\n",
       "       \"Jeric Raval at Aljur nag-usap ng lalaki sa lalaki: 'Babae yung anak ko ‘tol, may anak ka rin.’\",\n",
       "       'Dalawang matandang giniba ang tahanan at ninakawan ng mga gamit, ipinanawagan ng tulong',\n",
       "       'Philippine High School for the Arts nagsalita hinggil sa isyu ng ‘pang-aabuso’ sa loob ng paaralan',\n",
       "       'Comelec, bukas na pag-aralan ang panukalang pagpapaliban ng Barangay, SK polls sa Negros Oriental',\n",
       "       'Nanay sa Pasig, pinatay ng kaniya umanong sariling anak',\n",
       "       'Ninang nainis sa demanding na nanay: Kumare, hindi ako bangko',\n",
       "       'Data breach tinututukan na ng PNP \\xa0',\n",
       "       'Liberal Party may ieendorsong limang senatoriables sa 2022 elections',\n",
       "       'Isang customer ang nanigaw, nanduro at pinagsabihan ng masasakit ang isang crew ng Mang Inasal',\n",
       "       '4 na miyembro ng PDP-Laban bloc tinanggap nang hindi makakarating sa plenaryo ng Senado ang panukalang Cha-cha',\n",
       "       'Prepaid SIM card registration panlaban sa krimen – Sen. Bato',\n",
       "       'Mister, sampal at pagbubunganga ang inabot sa kinakasama dahil sa 8K lang ang sahod',\n",
       "       'LOOK! FORMER PRESIDENT DUTERTE SEEN OUTSIDE THEIR HOUSE IN DAVAO! Former President Duterte is seen outside [sic] their house in Davao like a normal citizen. People are amazed of how humble our former President is. He is outside to breath [sic] some fresh air. Enjoy your retirement FPRRD! Salamat sa 6 years !',\n",
       "       ' Marian Rivera, nagalit noon kay Dingdong nang sabihan siya ng Siguro naka-prepaid ka lang',\n",
       "       'Panghoholdap sa salon sa Maynila, nahuli-cam; mga kawatan, nanghingi pa ng pera gamit ang nakaw na cellphone',\n",
       "       ' Ama ni Nonito Donaire Jr., tinawag siyang Ungrateful son: For 24 years I feed him but when he became a world champion he left me',\n",
       "       'Guro, may panawagan sa mga magulang matapos paglaruan ang larawang kuha sa loob ng silid-aralan.',\n",
       "       ' Direktor Darryl Yap, kakasuhan pa rin ang netizen kahit na nag-sorry na ito',\n",
       "       'Speaker Romualdez, hindi makikialam sa imbestigasyon ng Ethics panel kay Teves',\n",
       "       'Mga batang bumili ng damit sa ukay-ukay, sorpresang regalo pala sa kaarawan ng kanilang nanay.',\n",
       "       'Bike na araw-araw tinatawaran ng lolo sa shop, iniregalo ng tindera sa matanda',\n",
       "       '2 lalaking nagnakaw ng mga kolong-kolong para i-chop-chop at ibenta sa QC, arestado',\n",
       "       'ASF, kumalat na sa ibang bahagi ng probinsya ng Cebu',\n",
       "       'Anak ng isang magsasaka at tricycle driver, nakakuha ng U.S. scholarship worth P4.2M kada taon',\n",
       "       'Misis na pinag-send ng selfie ni mister, nagkaroon ng instant ₱10,000 pesos!',\n",
       "       'Pangako ni Duterte sa taas-suweldo sa mga guro, napako na nga ba?',\n",
       "       \"Estudyante naghimutok sa inis matapos ibagsak ng guro: Sayang lang effort ko sayo ma'am\",\n",
       "       \"Ruffa Gutierrez sa umano'y engagement ni Yilmaz: I don’t know kung pinapaselos lang niya ako or totoong kinasal na siya.\",\n",
       "       'Presyo ng turon at iba pang mga pagkain sa isang sikat na Isla, kinawindang ng mga netizens ',\n",
       "       'Palasyo bumuo ng task force para tugunan ang pattern of impunity sa Negros Oriental',\n",
       "       'Dream wedding ng isang Pinay, sinira lang umano ni Bff sa araw mismo ng kanilang kasal!',\n",
       "       'Paggamit ni Sara Duterte ng chopper araw-araw, fake news daw ayon sa VP spokesperson',\n",
       "       'Batikang aktres na nagkaroon ng karamdaman sa pag-iisip, ano ang nangyari sa buhay ni Cita Astals',\n",
       "       \"Iresponsableng ama, may pang-date kay no. 2 sa valentine's day pero di makabili ng gatas para sa sariling anak\",\n",
       "       'House, aprubado na sa ikalawang pagbasa ang ‘Eddie Garcia bill’',\n",
       "       'BFAR hindi nakikitang magkakaroon ng kakulangan ng supply ng isda sa buong bansa dahil sa oil spill sa Mindoro',\n",
       "       'CONFIRM! PBBM PUPUNTA NG BELGIUM PARA MAKUHA ANG $987 BILYON NA YAMAN NI FEM PARA SA MGA PILIPINO !',\n",
       "       '39-anyos na lalaki sa Pangasinan, ooperahan matapos malunok ang pustiso nang lasing.',\n",
       "       ' Pinoy isaw vendor sa New York, kumikita ng P800k kada buwan',\n",
       "       '47k na mga domestic workers na unang magtatrabaho sa Kuwait, apektado ngayon ng partial deployment ban',\n",
       "       'Kaso ng COVID-19 sa Pilipinas, sumampa na sa higit 784,000',\n",
       "       'Pangako ng bagong NCRPO Chief: We shall provide an environment that breeds a culture of trust, loyalty and professionalism',\n",
       "       'NBA playoffs magsisimula na',\n",
       "       'Nakakabighani ngunit lubhang mapanganib, Ano nga ba ang Square waves at bakit dapat lumayo dito',\n",
       "       'Dennis Padilla umaming nagkasala at gustong makapiling ang mga anak nila ni Marjorie',\n",
       "       'Halos 1k, natulungan sa Anti-Stunting Campaign ng Brigada Group',\n",
       "       'Romualdez nanawagan kay Teves na harapin ang mga alegasyon na nag-uugnay sa kanya sa pagpatay kay Gov. Degamo',\n",
       "       'Kahit may kapansanan, lalaki walang kapagurang pinagsasabay ang 3 trabaho para may makain ',\n",
       "       'Mga sinehan, arcades at iba pang negosyo, muling pinasarhan sa GCQ areas',\n",
       "       'Demanding na ina, ayaw tanggapin ang mumurahin na gatas para sa anak, gusto ay mamahalin',\n",
       "       '8-anyos na tindera ng lumpia, hindi na maglalakad ng malayo. Masayang natanggap ang kanyang pinaka hihiling na bisikleta.',\n",
       "       'Estudyanteng Pinay nakatanggap ng scholarship mula sa NYU at Yale University-NUS, may hamon sa kapwa nya mag-aaral',\n",
       "       'Magkapatid na senior citizen, natagpuang patay sa Maynila; suspek, arestado',\n",
       "       'P217-M halaga ng tulong sa mga naapektuhan ng oil spill sa Mindoro, naipamahagi na',\n",
       "       'Pinoy wartime heroes, gawing inspirasyon - CSC',\n",
       "       'Reorganization ng PCO, ipinag-utos ni PBBM para sa mas maayos na pagbibigay ng serbisyo sa publiko',\n",
       "       'Binatang sinuway ang lolo na gusto sya maging engineer, matagumpay na magsasaka na ngayon',\n",
       "       'ALAMIN: Presyo ng mga bulaklak sa Dangwa market at mga kakaibang pangregalo sa Valentine’s Day',\n",
       "       'Estudyante sa Cebu na kinapos sa oras at hindi natapos ang board exam, naging top 1 board passer ',\n",
       "       'Anak nina Luis Manzano at Jessy Mendiola na si Baby Peanut bininyagan na, Alex Gonzaga, Nikki Gil tumayong mga ninang',\n",
       "       'Senado posibleng i-ratify ang RCEP sa unang quarter ng taon',\n",
       "       \"P3.4M halaga ng umano'y shabu, nasabat sa QC; suspek na 'tulak', arestado\",\n",
       "       'Pen Medina naging emosyonal, lubos ang pasasalamat kay Coco Martin at tinawag itong bagong FPJ.',\n",
       "       'Sila Pala Ang Pinakamayamang Pulubi Na May Milyones Na Pera - Nakakabilib Ang Kanilang Diskarte',\n",
       "       'Anak na babae ng dating vice mayor sa Masbate, 1 linggo nang nawawala',\n",
       "       'Netizen, Dismayado sa Inasal ng isang Guro sa Estudyante nito: Isasampal ang grading sheet? Just wow.',\n",
       "       ' Matandang babae, naiyak na lamang matapos sirain ng awtoridad ang kanyang mga paninda',\n",
       "       'Tangkang pangho-hostage kay Leila de Lima sa Camp Crame parang eksena sa pelikula; 3 nag-amok na suspek patay',\n",
       "       'MARCOS WEALTH ANG KATOTOHANAN! utang ng AMERICA sa ginto ni MARCOS MABABAYARAN NA? ,\\xa0 was posted on Sept. 23 by YouTube channel Foodie Neth  and reposted by FB page ADF 2.0 .',\n",
       "       'Kamara isinilbi na ang 60-day suspension order kay Cong. Teves',\n",
       "       '11 years since AJ Perez left, late actor’s younger bro continues to make him part of every milestone he reaches',\n",
       "       'Parenting: Hindi lang misis ang dine-date, pati mga anak rin',\n",
       "       'Arrest warrant vs. Bantag, Zulueta inilabas ng Las Pinas court',\n",
       "       ' 52-year-old na Pinoy, pinasok ang dalawang trabaho sa ibang bansa upang masuportahan ang GF sa Pilipinas ngunit ipinagpalit sa iba',\n",
       "       'Senadora Risa Hontiveros, bumwelta laban sa plano ni Marcos na umalis sa ICC',\n",
       "       'Hangin mula sa hininga ni Billie Eilish, ibinebenta ng higit ₱600K sa masugid na mga tagahanga ng singer',\n",
       "       '3,000 sundalo mula sa Philippine, US Army nakikibahagi ngayon sa taunang Salaknib Exercise',\n",
       "       'Prof. Clarita Carlos, may mensahe para kay Kris Aquino',\n",
       "       'Babaeng nanloko sa kanyang fiancé nagbigay ng apology letter ',\n",
       "       'KADIWA ng Pangulo sa Bicol kumita ng P1.2M ayon sa Palasyo',\n",
       "       'Ilang transport groups hindi makikiisa sa isang linggong transport strike',\n",
       "       'Miyembro ng Abu Sayyaf Group natimbog ng NBI sa Quezon City',\n",
       "       'Senador Bato pinaiimbestigahan na sa Senado ang umano’y pagbibigay ng drug reward sa mga informants',\n",
       "       'Online seller binawian ng buhay matapos hindi kayanin ng katawan at utak ang sobrang pagod',\n",
       "       'Presyo ng LPG tumaas ng mahigit P120 kada tangke',\n",
       "       'Tigil-pasada ng mga jeep itutuloy mula March 6 hanggang 12',\n",
       "       'Liza Marcos binalaan ang gumagamit sa kanyang pangalan: If I find out, I shall tell my husband not to appoint you',\n",
       "       'Pinoy war veterans kinilala ni PBBM sa ika-81 anibersaryo ng Araw ng Kagitingan',\n",
       "       'Skusta Clee, humingi ng tawad at may pakiusap sa publiko tungkol kay Zeinab: wag nyo na siyang i-stress-in',\n",
       "       'GMA Network umalma sa ‘biased’ remark ng kampo ni Marcos laban kay Jessica Soho',\n",
       "       'Kwento ng dating gastador na naging disiplinado para makapag ipon, hinangaan ng netizens.',\n",
       "       'From Gabby to Kiko! Kilalanin pa, Mga lalaki sa buhay ni Megastar Sharon Cuneta! ',\n",
       "       ' Sunshine Cruz nagsalita na patungkol sa balitang nabuntis siya ng dating asawa na si Cesar Montano',\n",
       "       \"Batang nawala sa pamamasyal, laking gulat at halakhak ng mismong nanay nang ito'y matagpuan.\",\n",
       "       ' Gusto kong maglaho nalang! Panganay na anak, naglabas ng saloobin sa bigat ng obligasyon sa pamliya',\n",
       "       'PCG nagdeklara na ng ‘heightened alert’ para sa kapaskuhan',\n",
       "       'League of governors at PNP magpupulong kasunod ng pagpatay kay Degamo',\n",
       "       'Isang concerned netizen naluha sa mag-asawang matanda na nagtitinda ng halaman sa daan',\n",
       "       'Lalaki huli sa pangmomolestiya ng menor de edad sa QC',\n",
       "       'Speaker Romualdez, nais matiyak ang kahandaan ng gobyerno para sa Big One',\n",
       "       'Mahigit 64k na mga pasahero dinagsa ang mga pantalan ngayong Biyernes Santo –PCG',\n",
       "       ' Netizen, buong pusong pinasasalamatan lahat ng mga delivery riders: I salute y’all! Lahat ng unos, susuungin nila',\n",
       "       ' Rider, nag-viral matapos i-deliver ang parcel sa babaeng manganganak na',\n",
       "       'DepEd: Bawal maging ‘friends’ ang guro, estudyante sa labas ng klase',\n",
       "       'Magsasaka todas matapos saksakin ng mister ng umano’y kabit',\n",
       "       'Breadwinner turned Business Owner! May trending na mensahe para sa mga kagaya niyang walang pagod na kumakayod!',\n",
       "       'Government officials na walang ambag sa Pinas, sibakin na!',\n",
       "       'Carrots galing China mas mabenta sa mga mamimili',\n",
       "       'Bulkang Taal nakapagtala ng 55 volcanic quakes',\n",
       "       ' Xian Gaza, inaming ginamit lamang ang ex-girlfriend noon: Walang choice, kailangang kumapit',\n",
       "       '11 anyos na bata, pwersahang pinaglaro ng mobile games ng kanyang ama nang 17 oras na walang tulugan!',\n",
       "       'Andrew E says he has no plans of accepting gov’t position',\n",
       "       '‘Record high’ na 89 percent Pinoy, kuntento sa demokrasya sa bansa - SWS',\n",
       "       'LTFRB, muling pinalawig ang prangkisa ng mga traditional jeepney',\n",
       "       'Pagkakaantala sa pag-isyu ng National ID sinisi sa mga kaso ng ‘close matches’',\n",
       "       ' From marriage certificate to death certificate; Groom pumanaw isang araw matapos ikasal',\n",
       "       'RUSH HOURS COMMUTERS IN PHILIPPINES, SOUTH KOREA AND JAPAN. Meanwhile in the Philippines, ayaw ng mahabang pila. Kawawa daw sabi ng mga alagad ni Santa Leni. ',\n",
       "       'LRT, papayagan na ang pagsakay ng mga pets simula sa Feb. 1',\n",
       "       \"Angeline Quinto, tahasang itinanggi ang paratang na siya ay isang 'sugar mommy!'\",\n",
       "       'LRT-2 may libreng sakay sa Dec. 30; free rides sa EDSA carousel tapos na sa Dec. 31',\n",
       "       'Kandidata ng Binibining Pilipinas na nagbihis Mama Mary, nagpataas ng kilay sa ilang mga netizens!',\n",
       "       ' 89-anyos na lola, nagtitinda ng basahan para ipang tustos sa kanyang mga apo',\n",
       "       'Hirit ng transport group na P3 dagdag sa pasahe, pinalagan',\n",
       "       'Kwento ng sakripisyo at pagpupursigi, dating delivery rider at fastfood crew noon, isang alagad ng batas na ngayon',\n",
       "       'Pinay nurse sa UK, gagawaran ng pinakamataas na pagkilala at parangal mula kay Queen Elizabeth II at Prince Charles',\n",
       "       '83 taong gulang na lola, humingi ng P5 sa isang Grab rider pambili ng kanyang almusal',\n",
       "       \"Lalaki, inireklamo ng kanyang 3 stepdaughters dahil sa umano'y pangmomolestiya\",\n",
       "       'Nakakagulat na reaksyon ng isang customer matapos matapon ng delivery rider ang kanyang order',\n",
       "       'PBBM, inihayag na maganda ang takbo ng ekonomiya ng bansa at nakabangon na mula sa pandemya',\n",
       "       'Kongreso, tinaasan ang cancer funds ng mga Pilipino sa P1.56B',\n",
       "       'Credit Card ni Sen. Gatchalian, Na-Hack. Hacker, Nag-Order ng 1 Million Worth of Food',\n",
       "       'MMDA noon, negosyante na ngayon! 60k-90k na kita buwan buwan, pagbabasa lang ng libro ang puhunan.',\n",
       "       'Comelec, mahigpit na nakikipagtulungan sa PNP at AFP dahil sa inaasahang mas mainit n BSKE elections',\n",
       "       'NBI inirekomenda ang pagsasampa ng kaso sa DOJ laban sa 20 pang opisyal at mga miyembro ng Tau Gamma Phi fraternity',\n",
       "       'Inagurasyon ng LRT-2 East Extension, ini-reschedule sa June 23',\n",
       "       ' Isang security guard na ama, kasama ang anak sa duty para maalagaan, hinangaan ng mga netizens',\n",
       "       'BI officer, itinanggi na hinanapan niya ng yearbook ang pasahero ng eroplano-- BI spox',\n",
       "       '‘Libreng Sakay at Meryenda,’ handog ng TNT sa LRT-1 passengers sa ika-12 ng Setyembre',\n",
       "       'Lalaking nakainom at nakatulog sa labas ng compound, patay sa pamamaril sa Caloocan',\n",
       "       '18-anyos na papuntang trabaho, patay matapos mabangga ng kotse',\n",
       "       'British blogger sumulat ng isang open letter bilang paghanga sa viral Pinoy rapper na si Ez Mil',\n",
       "       'Tricycle Driver, hinangaan ng lahat dahil sa ginawa niya sa Babae upang hindi ito masilipan',\n",
       "       '2 Chinese, nahulihan ng P6.8M halaga ng hinihinalang droga; Pinay na gf ng suspek, arestado rin',\n",
       "       'Radio anchor na minaliit ang mga call center agents, umani ng batikos',\n",
       "       'Leon Edwards, binigo muli si Kamaru Usman; Colby Covington, sunod na kalaban',\n",
       "       'Sikat na child star noon na si Agata Tapan, ganito pala ang nangyari sa kanya matapos iwan ang showbiz',\n",
       "       '5 hinihinalang drug suspect sa Bicol arestado, mahigit P200k halaga ng shabu nasabat',\n",
       "       'VP Leni, Pacquiao sanib-pwersa para sa mga sinalanta ng bagyong Odette; pinuri ng netizens',\n",
       "       ' Glydel Mercado lumapit sa albularyo matapos umanong ipakulam ng kamag-anak',\n",
       "       'Bagong COVID-19 Omicron strain na ‘BQ.1’ nasa Pinas na, 14 positibo',\n",
       "       'Alamin ang tunay na buhay at sanhi ng pagkamatay ng batikang komedyante na si Redford White',\n",
       "       ' Paolo Contis nagsalita na hinggil sa mga isyung binabato sa kanya: I can’t say I don’t deserve it',\n",
       "       'Bata tumutulong sa mahihirap na estudyante sa pamamagitan ng pagpinta',\n",
       "       'OFW nagpanggap na sales agent para surpresahin ang ina sa nalalapit nitong kaarawan',\n",
       "       '52 Years Old, Grade 12 Student sa Umaga, Grab Driver sa Gabi!',\n",
       "       \"Paliwanag ng China sa paggamit nila ng laser sa PCG, 'di pinaniwalaan ng DFA\",\n",
       "       'BGYO, nagbigay-pugay sa kanilang mga tagahanga',\n",
       "       'Regine Velasquez, ikinuwento ang hindi magandang karanasan niya sa Louis Vuitton store sa New York',\n",
       "       \"Kwento ni Marc Logan: Mga 'artistahin' na Tiktok filter\",\n",
       "       'Marcos inaprubahan ang single operating system sa lahat ng government transactions',\n",
       "       'NCRPO magpapakalat ng halos 5k na pulis sa Holy Week',\n",
       "       \"'Carrot Man' o Jeyrick Sigmaton sa tunay na buhay, WAGI bilang 'Best Actor' sa New York!\",\n",
       "       'Prangkisa ng traditional jeeps, palalawigin hanggang December 31, 2023; pero tigil-pasada, tuloy',\n",
       "       'Netizens nawindang: Isang 19-anyos na lalaki, nagpropose sa kasintahang 76 taong-gulang na lola',\n",
       "       \"Sino nga ba si Halina Perez sa totoong buhay at ano ang kalunos-lunos na sinapit ng noo'y sikat na aktres\",\n",
       "       'Isang lola, ibinigay ang mga inaning gulay sa isang community pantry',\n",
       "       'Branch Manager ng malaking Bangko, inireklamo ng depositor dahil umano sa mga ūnäuthorized withdräwals ',\n",
       "       ' Showtime contestant binira ang programa: Sa halagang 5K, nilalaglag niyo ang pagkatao ko',\n",
       "       \"Ruffa Gutierrez, binatikos matapos magmura sa isang segment ng It's Showtime\",\n",
       "       \"Vlogger na pinatutsadahan ni Mura naglabas ng saloobin: 'Matutong magpasalamat at 'wag manumbat' \",\n",
       "       'Sa edad na 52-anyos, hindi maitatangging taglay pa rin ni Alice Dixson ang kanyang kahuma-humaling na kagandahan!',\n",
       "       \"Mag-aaral na Walang Nasagot sa Exam, Imbes na Pagalitan ay Nakatanggap pa ng 'Appreciation Post' mula sa Guro!\",\n",
       "       'Isang matanda, 10-years ng naninirahan sa sementeryo matapos tangayin ng baha ang bahay!  ',\n",
       "       \"Kahit na patuloy na binabatikos, Bea Alonzo ipinagdarasal si Lolit Solis: I heard she's sick. I will sincerely pray for her healing..\",\n",
       "       'Totoo na raw! Hiwalayang Heart Evangelista at Chiz Escudero, kumpirmado na umano ',\n",
       "       'Pinoy Tricycle Driver, viral dahil nakapangasawa umano ng magandang foreigner',\n",
       "       'Breaking news! Pilipinas, magkaka-nuclear na! Biden, nakaplano na ang uumpisahang deal kasama si President Ferdinand Marcos Jr. tungkol sa itatayong nuclear facility sa Pilipinas !',\n",
       "       'Mayor Isko ‘di na nakapagpigil: Ang hirap kausap ng bingi!',\n",
       "       \"Grupo kinastigo 'pang-iismol' ng AFP sa epekto ng Balikatan sa pangingisda\",\n",
       "       'Isang street sweeper sa Malabon at magsasaka sa Quezon, kumubra ng tig-P100 milyon sa lotto',\n",
       "       'Julia Clarete at ang dahilan nito para iwanan ang mundo ng showbiz, muling inalala.',\n",
       "       'Dagdag pensyon sa indigent senior citizens, itinutulak ni SP Sotto',\n",
       "       \"Matapos mag-positibo, Maegan may banat nanaman kay Raffy Tulfo! Sa'yo na pera mo! \",\n",
       "       'Lugi na abonado pa! Pekeng pera, binayad sa matandang tindera!',\n",
       "       'Balik-tanaw: Eat Bulaga host Jose Manalo bilang isa sa Boyoyong Clowns',\n",
       "       'Ito ang surpresa ni Vice Ganda sa isang 81-taong gulang na lola na nakapagtapos ng senior high',\n",
       "       'Zebra, nagpatakbo-takbo sa komunidad matapos makawala sa zoo sa South Korea',\n",
       "       ' Proud anak ng Kasambahay at Brgy. Tanod, nagtapos sa kolehiyo bilang Cum Laude',\n",
       "       ' 10-year-old na batang babae, påtay matapos sumali sa blackout challenge sa TikTok',\n",
       "       'NEDA Chief, tiniyak sa publiko na walang mangyayaring privitization sa mga serbisyo ng UP-PGH',\n",
       "       'Eleazar itinalagang PNP OIC matapos magpositibo sa Covid-19 si Sinas',\n",
       "       'Anak ni Aga Muhlach at Charlene Gonzales na si Atasha, makalaglag panga ang taglay na kagandahan',\n",
       "       'Aeta chieftain na missing sa Boracay, natagpuan na',\n",
       "       \"Mag-asawa, inireklamo na sangkot umano sa 'Rentangay' scam\",\n",
       "       'Bride na maraming flaws nagdemand ng sobrang makinis pero natural finish lang na make-up: Hindi kami plastic surgeon',\n",
       "       'Pagbibigay ng AstraZeneca Covid-19 vaccines sa Pilipinas, hindi ihihinto – DOH, FDA',\n",
       "       '20 kabahayan sa Barangay Kalawaan sa Pasig, nasunog',\n",
       "       ' Byudong tatay, isinasalba ang triplets na naulila ng ina sa tulong ng breast milk donors',\n",
       "       '9-anyos na bata, araw-araw naglalakad ng 10km para magtrabaho bilang maskot',\n",
       "       'Kampo ni Cong. Teves, ki-nuwestyong ang narekober na granada sa kaniyang tahanan',\n",
       "       'Mananaya mula sa N. Samar, panalo ng P63-M jackpot sa Super Lotto 6/49',\n",
       "       'Engagement proposal ng isang abogado sa kanyang nobya na noong panahong sa sisigan lang ang kanilang date, nagpakilig sa mga netizen',\n",
       "       'Batang tanging kamote lang ang kinakain, Kinurot ang puso ng mga netizen: Wag kayong tamarin. Maawa kayo sa mga magulang niyo',\n",
       "       'Urband Legend muling binuhay matapos makitang pumasok ang isang dalaga sa Robinsons Mall pero hindi nakitang lumabas',\n",
       "       'Maybahay, laking pasasalamat na nakapaguulam na sila ng de-lata nang hindi nag-aagawan',\n",
       "       'Singer na si Kris Lawrence, dinepensahan si Alex Gonzaga: And it’s not like his life is in danger cuz of some cake on the face',\n",
       "       'Inahing Baka na masungit, napaluha matapos siyang tulungang maisilang ang kanyang kaisa-isang anak.',\n",
       "       ' Napadaan na tindero ng balut, binigyan ng brand new na motorsiklo',\n",
       "       'Pwede niyo akong bitayin dito anytime kung na-prove ninyo diyan na ako’y nagkakasala. You can hang me in front of the Filipino people. You can hang me through the decision of our Filipino courts but, my God, not by a foreigner.\\n\\nSource: ABS-CBN News Youtube Channel, Omaga Diaz Report | TeleRadyo , Feb. 4, 2023, watch from 33:41 to 33:56',\n",
       "       ' Ogie Diaz rumesbak sa mga pahayag ni Liza Soberano: Tingnan natin kung sinong mas tama nga sa darating na araw',\n",
       "       'Isang Padyak Patungo sa Pangarap. Pedicab Driver, Nagtapos na Magna Cum Laude!',\n",
       "       'DFA tinatanggap na ang ‘e-PhilID’ sa passport application',\n",
       "       'Isang Regalo mula sa dating kasintahan na 47 taon ng hindi nabubuksan, nananatiling misteryo ang nilalaman.',\n",
       "       'Estudyanteng may kapansanan, pinagsasabay ang paglalako ng mga itlog at chicharon upang matustusan ang pag-aaral ',\n",
       "       'Support group nais mapalaya na ang pinakamatandang bilanggong-pulitikal',\n",
       "       \"P140K halaga ng umano'y shabu, nasabat sa Navotas; 2 suspek, arestado\",\n",
       "       'Seafarer na na-offload at sinubukan umanong kikilan ng taga-BI, dumulog sa NBI',\n",
       "       'Isang matapat na Janitor sa NAIA sinauli ang napulot na bag na may P500K, may-ari nag bigay ng gantimpala',\n",
       "       'Cannahopefuls, isinusulong na gawing legal ang medical marijuana ',\n",
       "       'Makati, Manila, Parañaque, Pasay walang tubig hanggang March 7 – Maynilad',\n",
       "       'Taga-Agusan del Norte solong nasungkit P27.97-M jackpot ng Superlotto 6/49',\n",
       "       'Bakit maagang namaalam si Bruce Lee sa edad na 32 at ano ang dahilan ng kanyang pagpanaw? Alamin..',\n",
       "       'Estudyante na kumakain lamang ng kanin at walang ulam, kinaantigan ng puso',\n",
       "       'Lalaki, arestado matapos magpaputok ng baril habang nag-iinuman sa QC',\n",
       "       'Iglesia ni Cristo suportado ang kandidatura ni Mark Villar',\n",
       "       'Lalaking nanggahasa umano sa dalawang yaya ng kaniyang anak, arestado sa QC',\n",
       "       ' Pinay sa Amerika, nakakatipid ng P75k a month dahil sa pagkuha ng mga pagkain sa basurahan',\n",
       "       'Gaano kayaman si Andrew E.? Paano ito nakamit ng King of Tagalog Rap at Bakit muntik na siyang makulong noon?',\n",
       "       'Viral na pagsagasa ng isang truck sa isang enforcer na nagmamando ng trapiko sa Quezon City – iimbestigahan',\n",
       "       'Anak ng teacher na binastos at minura ng mga estudyante, ipinagtanggol ang ama; Naglabas ng sama ng loob',\n",
       "       'Solon, tinawag ang pansin ng DOTR kaugnay sa ulat ng mga abusado at choosy na motorcycle taxi riders',\n",
       "       ' Mag-amang Limang Piso lang ang pera pamasahe, tinulungan ng isang good samaritan: God will provide',\n",
       "       'Delivery rider na napaupo na lamang sa harap ng tindahan dahil sa sobrang pagod at gutom, bumuhos ang ayuda mula sa mga netizen',\n",
       "       '1st, 2nd year nursing studes ‘wag munang isabak sa hospital duties',\n",
       "       '1 tao kada araw namamatay sa NCR road crash: MMDA',\n",
       "       'Unang kumpirmadong kaso ng Omicron subvariant XBB.1.5 ,natuklasan sa Pilipinas',\n",
       "       'Marcos nakakuha ng ‘very good’ net satisfaction rating sa pinakabagong SWS survey',\n",
       "       'Isang anak nakiusap sa mga netizens na huwag pagtawanan ang larawan ng kanyang ama sa social media',\n",
       "       'LRT wala nang libreng sakay sa mga estudyante',\n",
       "       'Motorcade nina Bongbong, Sara, isasagawa sa Quezon City',\n",
       "       'Lalaki, tinakasan umano ang bayarin sa mga nainom sa bar; nakipaghabulan pa sa mga pulis',\n",
       "       'Ang katotohanan sa nangyaring gulo sa pagitan nina Raymart Santiago, Claudine Barretto at Mon Tulfo',\n",
       "       'Dating kitchen helper, wagi ng P75.2M sa Grand Lotto 6/55',\n",
       "       '2 batang magkapatid, patay sa sunog sa Mandaluyong',\n",
       "       'Comelec, susubaybayan ang pagsunod sa campaign rules ng 4 na kandidato sa special election sa Cavite 7th District',\n",
       "       'Malakanyang nalungkot sa pagbagsak ng Pilipinas sa World Happiness Report ranking',\n",
       "       'Ito na pala ang buhay ni Gio Alvarez ngayon, ang dating sikat na aktor na iniwan ang pag-arte',\n",
       "       'President-elect Bongbong Marcos tuloy ang pagba-vlog',\n",
       "       \"Isang Briton nagpapadala ng £400 kada buwan sa kasintahang Pinay kahit laban sa kagustuhan ng kanyang pamilya: ' I’m following my heart. It’s my choice'\",\n",
       "       'Mag-anak, binawian ng buhay matapos makuryente nang madaanan ang bumagsak na live wire',\n",
       "       'Bong Go sa Linggo ng Pagkabuhay: ‘Wag mawalan ng pag-asa, tiwala sa sarili',\n",
       "       'FYI: Paano maiwasang mapasama o mai-TAG sa kumakalat na online scam ngayon sa Facebook.',\n",
       "       'Gangster pala siya sa tunay na buhay! Ano nga ba ang totoong nangyari kay Max Alvarado? Alamin dito..',\n",
       "       'Mambabatas, isinusulong ang pagsasama ng electric motorcycle sa bagong EO na nagpapataw ng zero % import tariff sa e-motorcycles',\n",
       "       'Emosyonal na pamamaalam ng isang amo sa pumanaw na alagang manok, kumurot sa puso ng mga netizens!',\n",
       "       'Person of interest na idinawit sa pagkamatay ni John Mathew Salilig, natagpuang patay',\n",
       "       'Finnish national na may mala-dyosang kagandahan, na-inlove sa isang Pinoy bartender',\n",
       "       'Estudyanteng Construction worker pinagsasabay ang trabaho at pag-aaral; Nagtapos bilang Valedictorian',\n",
       "       '91% ng Pinoy pabor sa opsyonal na pagsusuot ng face mask–SWS',\n",
       "       'Mag-asawa, nagulat nang magpakilala sa kanila ang isang Jollibee service crew',\n",
       "       'Kalye, gusali at 12 pang barangay sa Maynila, isasailalim sa 4-day lockdown',\n",
       "       'Dulot ng matinding pagod, amang delivery rider tumilapon sa kalsada sa kasagsagan ng ulan',\n",
       "       'Wanted na Amerikanong sex offender, timbog sa Bohol',\n",
       "       'Anak, naisipang ibenta ang kanyang mga medalya upang matulungan ang inang nalubog sa utang.',\n",
       "       'Binansagang Putol dahil sa kapansanan, isa palang Honor Student',\n",
       "       'Contestant sa male pageant hindi nakarampa sa stage matapos hulihin ng mga pulis, arestado sa kasong car theft',\n",
       "       'Manila Film Festival Scandal 1994: Mga Katanungang Hanggang Ngayon ay Wala pang Kasagutan',\n",
       "       'Emosyonal na pamamaalam ng babaeng amo sa kanyang pumanaw na alagang manok, nagpaluha sa mga netizens!',\n",
       "       'Naulila sa Servando hazing may payo sa pamilya Salilig',\n",
       "       'Nadiskaril na tren ng PNR, naibalik na sa riles',\n",
       "       '23-year-old na model namatay habang isinasagawa ang surgical procedure ng isang Unlicensed Medical Practitioner',\n",
       "       'Pagbabalik ng bakasyon ng mga estudyante sa buwan ng Abril hanggang Mayo, hirit ng isang Senador',\n",
       "       'Babaeng pinagtaksilan ng yumaong ex-BF,  tatanggap ng P1M insurance money ng ex-BF na nakalimutan syang palitan bilang beneficiary bago ito sumakabilang buhay',\n",
       "       'Isang empleyado ang nagpasa ng resignation letter ang kinaaliwan sa social media',\n",
       "       'Ber months na! Ready na ba ang improvised tambourine na gawa sa tansan?',\n",
       "       'COVID-19 aakyat sa 600 kada araw sa Mayo – DOH',\n",
       "       'Kampo ni Pimentel, si Pacquiao ang susuportahan sakaling tumakbong presidente sa 2022',\n",
       "       'Lolo Taho Vendor na Patuloy na Kumakayod para sa Asawa at 10 Anak, Viral at Hinahangaan ng Lahat!',\n",
       "       'Kahanga-hanga! Isang Grade 10 Sudent, May-ari na ng Sariling Negosyo!',\n",
       "       'Grade 6 student, tuwang-tuwa na naka-graduate kahit 76 o pasang-awa lang ang kaniyang general average!',\n",
       "       'Ayuda para sa mga tsuper, pasahero ipaglalaban ng DOTr, LTFRB — Tugade',\n",
       "       '22-anyos na binata, pinatulungan ng tatlong babae para tuliin!',\n",
       "       'MMDA: Number coding, balik na sa Martes kahit may transport strike pa',\n",
       "       'Dry run para sa single ticketing system, magsisimula na ngayong Abril',\n",
       "       'Dahil ayaw sagutin ni ninang ang delivery fee, pinaulanan ito ng mura at nilait-lait ng galit na kumpare.',\n",
       "       'Sharon Cuneta, tinangkang bumili ng sinturon pero tablado sa Hermès store! Namakyaw na lang tuloy sa Louis Vuitton.',\n",
       "       'Isang ginang ibinigay ang kanyang mga inaning gulay mula sa sariling tanim para sa community pantry sa kanilang lugar',\n",
       "       'Bakit Nga Ba Mahal Kita? Kumusta na nga ba ang nagpasikat ng kantang ito na si Roselle Nava?',\n",
       "       'Kaso ng ‘isolated’ bird flu natukoy sa bayan ng Ibaan sa Batangas',\n",
       "       'Pinakamamahalin na sinampay, anniversary gift ng isang mister sa kanyang may bahay',\n",
       "       'Isang lalaking nagwala matapos di bigyan ng sapat na pang yosi, arestado',\n",
       "       'Isang construction worker, hinangaan dahil sa positibong pananaw sa buhay sa kabila ng mga paghihirap na dinadanas',\n",
       "       'Motorista, hinuli dahil wala umanong suot na helmet ang sakay na bagong silang na sanggol; Traffic enforcer, binatikos!',\n",
       "       'Binata, buong sikap na naglalako ng leche flan pantustos sa kanyang pag-aaral at pampa-opera',\n",
       "       'Balikan ang makulay na buhay ng nag-iisang pambansang baba ng Pilipinas, si Babalu.',\n",
       "       \"Mga mall, gov't building, nais ng mambabatas na lagyan ng prayer room para sa mga Muslim\",\n",
       "       'Lalaki, inireklamo ng sextortion ng kaniyang nobya; suspek, iginiit na naniningil lang ng utang',\n",
       "       'Rider, patay sa pamamaril sa Para&ntilde;aque; insidente, nahuli-cam',\n",
       "       ' Foreigner, tinatu-an ng hindi kanais-nais na mga salita sa Boracay',\n",
       "       'DENR ipinagmalaki sa UN na nananatiling proactive ang gobyerno ng Pilipinas sa pagresolba sa problema sa tubig',\n",
       "       '10-anyos na batang naglalakad gamit ang kaniyang mga kamay, hirap man ay patuloy pa rin na nangangarap sa buhay.',\n",
       "       'Paghahanap sa nawawalang Cessna plane sa Isabela inihinto muna',\n",
       "       'Magkasintahang biyudo at biyudang edad 58 at 61, nagkakilala sa online dating',\n",
       "       \"Anak ni Ka Freddie na si Maegan Aguilar, ayaw ipa-hawak sa pamilya o kamaganak ang kanyang bangkay kapag siya'y namatay.\",\n",
       "       'Para hindi masayang ang bayad at setup, si daddy ang pumalit sa pictorial ng tinopak na anak.',\n",
       "       'Marcos, pinuri ang paglalagak ng pamumuhunan ng Japanese energy giant sa bansa',\n",
       "       ' Lalaki, hindi nakapagpigil matapos makita ang kasintahang nakilala online na mukhang Diyosa sa mga larawan',\n",
       "       '‘Pink netizens’ nanawagan na isama na si Monsour del Rosario sa senatorial slate ng Leni-Kiko tandem',\n",
       "       ' Hardworking na tatay  at magsasaka mula sa Misamis Oriental, nakapagtapos ng kolehiyo',\n",
       "       'UFC middleweight world title, nabawi ni Adesanya',\n",
       "       'WATCH: Nagpuyat, nagtiyaga ng ilang oras sa pila para sa ayuda',\n",
       "       'MMDA nagbigay ng 30-minute ‘heat stroke break’ sa mga field personnel',\n",
       "       'PH nangako ng PHP5.4 million na tulong para suportahan ang humanitarian aid operations sa Yemen',\n",
       "       'P162M jackpot ng Grand Lotto 6/55, nasungkit na',\n",
       "       \" Mga kinaing handa sa party, ayaw bayaran dahil hindi umano 'worth it' sa presyo: Mayaman, pero nang-aapak ka ng tao\",\n",
       "       \"Simpleng 'Wave' sa Messenger ng isang lalaki sa dalaga, nauwi sa kasalan\",\n",
       "       \"College graduate kinukutya dahil sa 'Promodiser' lang ang trabaho, rumesbak: Pride doesn't pay bills\",\n",
       "       'Dawalang highschool students sinagip ang matandang lalaking nahulog sa ilog',\n",
       "       'Isang binatilyo, nakapagpagawa ng sariling bahay sa halagang 10k libong piso!',\n",
       "       'Mga residente sa Tondo, nag-pool party sa kalye ngayong tag-init',\n",
       "       'Trainer aircraft, bumagsak sa Lipa City; mga piloto, ligtas',\n",
       "       'Isang Grab driver, ibinalik ang P1.6M na perang naiwan ng kanyang dayuhang pasahero na nagkamali ng sakay ',\n",
       "       'Kahanga-hanga itong grupo ng kabataan na nakapulot ng pitaka, imbis na masilaw sa malaking halaga ay ibinalik ito sa may-ari.',\n",
       "       'Mga BETERANANG AKTRES noon na isa nang LOLA ngayon! Ganito pala sila KAGANDA noon!',\n",
       "       'Veteran broadcaster Percy Lapid patay sa ambush'], dtype=object)"
      ]
     },
     "execution_count": 39,
     "metadata": {},
     "output_type": "execute_result"
    }
   ],
   "source": [
    "texts = df_res.text.values"
   ]
  },
  {
   "cell_type": "code",
   "execution_count": 38,
   "metadata": {},
   "outputs": [
    {
     "data": {
      "text/plain": [
       "0.9090909090909091"
      ]
     },
     "execution_count": 38,
     "metadata": {},
     "output_type": "execute_result"
    }
   ],
   "source": [
    "acc"
   ]
  },
  {
   "cell_type": "code",
   "execution_count": 44,
   "metadata": {},
   "outputs": [
    {
     "data": {
      "text/plain": [
       "[{'label': 'LABEL_0', 'score': 0.9999998807907104}]"
      ]
     },
     "execution_count": 44,
     "metadata": {},
     "output_type": "execute_result"
    }
   ],
   "source": [
    "sentiment_model(['Dating Teen Star Antoinette Taus, 41-anyos na pero parang hindi tumatanda. Pang-bagets pa rin ang kagandahan.'])"
   ]
  },
  {
   "cell_type": "code",
   "execution_count": null,
   "metadata": {},
   "outputs": [],
   "source": [
    "from site_predictor import SitePredictor\n",
    "from similarity_checker import SimilarityChecker\n",
    "from image_predictor import ImagePredictor\n",
    "from headline_predictor import HeadlinePredictor\n",
    "from lingua import Language, LanguageDetectorBuilder\n",
    "from transformers import pipeline\n",
    "from textcorrector_v2 import TextCorrectorV2\n",
    "import numpy as np\n",
    "\n",
    "import logging\n",
    "import os\n",
    "import joblib\n",
    "\n",
    "N_SEARCHES = 10\n",
    "\n",
    "import re\n",
    "\n",
    "def retry_results(text, tcV2):\n",
    "    gs = GoogleScraper(n_searches=N_SEARCHES)\n",
    "    #retries 4 times with differing methods of cleaning/summarizing the text to make google search recognize the query\n",
    "    tries = 0\n",
    "    s_results = None\n",
    "    while not s_results and tries < 4:\n",
    "        print(f'retry {tries + 1} ')\n",
    "        if tries == 0:\n",
    "            print('trying', text)\n",
    "            s_results = gs.get_results(text)\n",
    "\n",
    "        elif tries == 1:\n",
    "            text = re.sub(r'[^\\w\\s]', '', text)\n",
    "            print('trying:', text)\n",
    "            s_results = gs.get_results(text)\n",
    "        elif tries == 2:\n",
    "            text = tcV2.summarize(text)\n",
    "            text = re.sub(r'[^\\w\\s]', '', text)\n",
    "            print('trying:', text)\n",
    "            s_results = gs.get_results(text)\n",
    "        elif tries == 3:\n",
    "            text = tcV2.summarize(text, max_tokens=40)\n",
    "            text = re.sub(r'[^\\w\\s]', '', text)\n",
    "            print('trying:', text)\n",
    "            s_results = gs.get_results(text)\n",
    "\n",
    "        tries = tries + 1\n",
    "\n",
    "    if tries == 4 and not s_results:\n",
    "        print('no searches even after 4 tries')\n",
    "        return []\n",
    "    else:\n",
    "        query = text\n",
    "        print('found results')\n",
    "        return s_results, text\n",
    "\n",
    "def cut_pad(arr, n):\n",
    "    #cuts an array if it's too long and pads it if it's too short\n",
    "    arr = np.array(arr, dtype='float32')\n",
    "    arr = arr[:n] if arr.shape[0] > n else arr\n",
    "    arr = np.pad(arr, (0, n - arr.shape[0]), mode='constant', constant_values=np.nan)\n",
    "    return arr\n",
    "\n",
    "def count_vals(x, nans, ones=True):\n",
    "    #counts the number of real, fake, and empty predictions in the website pred array\n",
    "    unique, counts = np.unique(x, return_counts=True)\n",
    "    val_dict = {}\n",
    "    for i, j in zip(unique, counts):\n",
    "        if np.isnan(i):\n",
    "            val_dict['nan'] = j\n",
    "        else:\n",
    "            val_dict[i] = j\n",
    "\n",
    "    if ones == True and nans == False and 1.0 in val_dict.keys():\n",
    "        return val_dict[1.0]\n",
    "    elif ones == False and  nans == False and 0.0 in val_dict.keys():\n",
    "        return val_dict[0.0]\n",
    "    elif nans == True and ones == False and 'nan' in val_dict.keys():\n",
    "        return val_dict['nan']\n",
    "\n",
    "    else:\n",
    "    \n",
    "        return 0\n",
    "    \n",
    "\n",
    "def pred_overall(arr):\n",
    "    # runs inference on all the data gathered\n",
    "    print(arr)\n",
    "    print(arr.shape)\n",
    "    model = None\n",
    "    if len(arr) == 7:\n",
    "        print('using full model')\n",
    "        model = joblib.load('classifiers/SVM-General-Classifier91ACC.joblib')\n",
    "    elif len(arr) == 6:\n",
    "        print('using headline only model')\n",
    "        model = joblib.load('classifiers/XGB-Text-Only-Classifier97ACC.joblib')\n",
    "\n",
    "\n",
    "    print('model loaded')\n",
    "    result_prob = model.predict_proba([arr])[0][1]\n",
    "    print('result:', result_prob)\n",
    "    result_round = round(result_prob)\n",
    "    return result_prob, result_round\n",
    "\n",
    "def text_extractor(img):\n",
    "    \n",
    "\n",
    "    ip = ImagePredictor()\n",
    "    #reads and extracts text from image using EASYOCR\n",
    "    ocr = ImageReader()\n",
    "    print('extracting text from image')\n",
    "    text = ocr.read_img(img)\n",
    "    print(\"extracted:\", text)\n",
    "    print('correcting text')\n",
    "\n",
    "    image_pred = ip.predict_img(img)['real']\n",
    "    return text, image_pred\n",
    "\n",
    "\n",
    "def predict_headline(text, img_pred=None):\n",
    "    logger = logging.getLogger()\n",
    "    logging.disable(logging.CRITICAL)\n",
    "    \n",
    "    c = TextCorrector()\n",
    "\n",
    "    logger.disabled = True\n",
    "    corrected = c.correct(text)\n",
    "    article = c.decide_text(text, corrected)\n",
    "\n",
    "    gs = GoogleScraper()\n",
    "    sp = SitePredictor()\n",
    "    hp = HeadlinePredictor()\n",
    "    tcV2 = TextCorrectorV2()\n",
    "    sc = SimilarityChecker()\n",
    "    print('scraper initialized')\n",
    "    print('rating')\n",
    "    t_sim_rating, b_sim_rating, urls = check(article, c, gs, sc)\n",
    "    logger.disabled = False\n",
    "    kc = KnapsackChecker(t_sim_rating, urls)\n",
    "    res_url_wts, res_sim, sites = kc.checker()\n",
    "    print(res_sim)\n",
    "    prediction = kc.truth_checker_k(res_sim, len(res_url_wts))\n",
    "    languages = [Language.ENGLISH, Language.TAGALOG]\n",
    "    lang_detector = LanguageDetectorBuilder.from_languages(*languages).build()\n",
    "\n",
    "    query = text\n",
    "\n",
    "\n",
    "    # corrects text from the OCR using gpt3 AI\n",
    "    corrected_query = None\n",
    "    if img_pred is not None:\n",
    "        # checks whether query is long enough as corrected text may sometimes be incorrect and output nothing at all\n",
    "        print(\"correcting text\")\n",
    "        tmp = tcV2.correct(query).replace(\"\\n\", \"\")\n",
    "        corrected_query = query if len(tmp) < 20 else tmp\n",
    "    else:\n",
    "        corrected_query = query\n",
    "\n",
    "\n",
    "    #predicts language so prediction models down the line may know what weights to use\n",
    "    lang_pred = lang_detector.detect_language_of(corrected_query)\n",
    "    lang = 'en' if str(lang_pred) == 'Language.ENGLISH' else 'tl' if str(lang_pred) == 'Language.TAGALOG' else None\n",
    "\n",
    "    print('query:', corrected_query)\n",
    "    #if results come up empty, either due to unreadable text or a special character interfering with google's search algorithm\n",
    "    full_res = retry_results(corrected_query, tcV2)\n",
    "    if full_res:\n",
    "        s_results, corrected_query = full_res\n",
    "        search_title = [title[0] for title in s_results]\n",
    "        search_links = [title[1] for title in s_results]\n",
    "        #predicts the reliability of the websites that come up during the search\n",
    "        site_preds = sp.predict(search_links)\n",
    "\n",
    "        #if the predictions are not empty\n",
    "        if site_preds:\n",
    "            prediction_data = []\n",
    "            #\"\"\"'sim mean', 'site pred mean', 'n real predicted', 'n fake predicted', 'n nan predicted', 'headline real pred', 'image real pred'\"\"\"\n",
    "            #order of values\n",
    "            sim_vals = None\n",
    "            if lang == 'tl':\n",
    "                search_title_trunc = [' '.join(headline.split(' ')[:256]) for headline in search_title]\n",
    "                sim_vals = sc.check_similarity(corrected_query, search_title_trunc, lang)\n",
    "            else:\n",
    "                sim_vals = sc.check_similarity(corrected_query, search_title, lang)\n",
    "\n",
    "\n",
    "            sim_vals = cut_pad(sim_vals, N_SEARCHES)\n",
    "            print('sim_vals', sim_vals, type(sim_vals))\n",
    "            site_preds = cut_pad(np.array(site_preds, dtype='float32'), N_SEARCHES)\n",
    "            print('site preds', site_preds, type(site_preds))\n",
    "\n",
    "            sim_mean = np.nanmean(sim_vals)\n",
    "            print('sim_mean', sim_mean)\n",
    "            site_pred_mean = np.nanmean(site_preds)\n",
    "            print('site_pred_mean', site_pred_mean)\n",
    "\n",
    "            n_real_predicted = count_vals(site_preds, nans=False)/N_SEARCHES\n",
    "            n_fake_predicted = count_vals(site_preds, ones=False, nans=False)/N_SEARCHES\n",
    "            n_nan_predicted  = count_vals(site_preds, ones=False, nans=True)/N_SEARCHES\n",
    "            print('n real', n_real_predicted, 'n fake', n_fake_predicted, 'n nan', n_nan_predicted)\n",
    "\n",
    "\n",
    "\n",
    "            headline_pred = hp.predict_headlines(corrected_query, lang)['real']\n",
    "            print('headlines predicted:', headline_pred)\n",
    "\n",
    "            if img_pred:\n",
    "                image_pred = img_pred\n",
    "                print('img predicted:', image_pred)\n",
    "\n",
    "                prediction_data.extend([sim_mean,\n",
    "                                        site_pred_mean,\n",
    "                                        n_real_predicted,\n",
    "                                        n_fake_predicted,\n",
    "                                        n_nan_predicted,\n",
    "                                        headline_pred,\n",
    "                                        image_pred])\n",
    "            else:\n",
    "                print('headline only')\n",
    "                prediction_data.extend([sim_mean,\n",
    "                                        site_pred_mean,\n",
    "                                        n_real_predicted,\n",
    "                                        n_fake_predicted,\n",
    "                                        n_nan_predicted,\n",
    "                                        headline_pred])\n",
    "\n",
    "\n",
    "\n",
    "            prediction_data = np.array(prediction_data, dtype='float32')\n",
    "\n",
    "            print('prediction data', prediction_data)\n",
    "\n",
    "            print('predicting overall article')\n",
    "            result_proba, result_round = pred_overall(prediction_data)\n",
    "            print(result_proba)\n",
    "            prediction = 'RELIABLE' if result_round == 1 or result_round == 1.0 else 'UNRELIABLE'\n",
    "            if prediction == 'RELIABLE':\n",
    "                print(prediction)\n",
    "                return f'''We predict that this is a, '{prediction}' article.\n",
    "                                     {search_links}'''\n",
    "            \n",
    "\n",
    "            elif prediction == 'UNRELIABLE':\n",
    "                print(prediction)\n",
    "                return f'''We predict that this is an, '{prediction}' article. Please do more research regarding this topic\n",
    "                           These are the articles from credible sites that we ran across when searching for this image\n",
    "                           {search_links}'''\n",
    "            \n",
    "        else:\n",
    "            print('no results')\n",
    "            return \"\"\"No search results appeared for this input, this may be risky to trust or you may need to input a better quality image\"\"\"\n",
    "    else:\n",
    "        print('no results')\n",
    "        return \"\"\"No search results appeared for this input, this may be risky to trust or you may need to input a better quality image\"\"\"\n",
    "\n"
   ]
  }
 ],
 "metadata": {
  "kernelspec": {
   "display_name": "torch-gpu-2.0.1",
   "language": "python",
   "name": "python3"
  },
  "language_info": {
   "codemirror_mode": {
    "name": "ipython",
    "version": 3
   },
   "file_extension": ".py",
   "mimetype": "text/x-python",
   "name": "python",
   "nbconvert_exporter": "python",
   "pygments_lexer": "ipython3",
   "version": "3.10.11"
  },
  "orig_nbformat": 4
 },
 "nbformat": 4,
 "nbformat_minor": 2
}
